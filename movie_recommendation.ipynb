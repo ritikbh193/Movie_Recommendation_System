{
 "cells": [
  {
   "cell_type": "code",
   "execution_count": 95,
   "metadata": {
    "metadata": {}
   },
   "outputs": [],
   "source": [
    "# pip install numpy"
   ]
  },
  {
   "cell_type": "code",
   "execution_count": 96,
   "metadata": {
    "metadata": {}
   },
   "outputs": [],
   "source": [
    "# pip install pandas"
   ]
  },
  {
   "cell_type": "code",
   "execution_count": 1,
   "metadata": {
    "metadata": {}
   },
   "outputs": [],
   "source": [
    "import numpy as np\n",
    "import pandas as pd"
   ]
  },
  {
   "cell_type": "code",
   "execution_count": 98,
   "metadata": {
    "metadata": {}
   },
   "outputs": [],
   "source": [
    "movies = pd.read_csv('tmdb_5000_movies.csv')\n",
    "credits = pd.read_csv('tmdb_5000_credits.csv')"
   ]
  },
  {
   "cell_type": "code",
   "execution_count": 99,
   "metadata": {
    "metadata": {}
   },
   "outputs": [
    {
     "data": {
      "text/plain": [
       "array([[237000000,\n",
       "        '[{\"id\": 28, \"name\": \"Action\"}, {\"id\": 12, \"name\": \"Adventure\"}, {\"id\": 14, \"name\": \"Fantasy\"}, {\"id\": 878, \"name\": \"Science Fiction\"}]',\n",
       "        'http://www.avatarmovie.com/', 19995,\n",
       "        '[{\"id\": 1463, \"name\": \"culture clash\"}, {\"id\": 2964, \"name\": \"future\"}, {\"id\": 3386, \"name\": \"space war\"}, {\"id\": 3388, \"name\": \"space colony\"}, {\"id\": 3679, \"name\": \"society\"}, {\"id\": 3801, \"name\": \"space travel\"}, {\"id\": 9685, \"name\": \"futuristic\"}, {\"id\": 9840, \"name\": \"romance\"}, {\"id\": 9882, \"name\": \"space\"}, {\"id\": 9951, \"name\": \"alien\"}, {\"id\": 10148, \"name\": \"tribe\"}, {\"id\": 10158, \"name\": \"alien planet\"}, {\"id\": 10987, \"name\": \"cgi\"}, {\"id\": 11399, \"name\": \"marine\"}, {\"id\": 13065, \"name\": \"soldier\"}, {\"id\": 14643, \"name\": \"battle\"}, {\"id\": 14720, \"name\": \"love affair\"}, {\"id\": 165431, \"name\": \"anti war\"}, {\"id\": 193554, \"name\": \"power relations\"}, {\"id\": 206690, \"name\": \"mind and soul\"}, {\"id\": 209714, \"name\": \"3d\"}]',\n",
       "        'en', 'Avatar',\n",
       "        'In the 22nd century, a paraplegic Marine is dispatched to the moon Pandora on a unique mission, but becomes torn between following orders and protecting an alien civilization.',\n",
       "        150.437577,\n",
       "        '[{\"name\": \"Ingenious Film Partners\", \"id\": 289}, {\"name\": \"Twentieth Century Fox Film Corporation\", \"id\": 306}, {\"name\": \"Dune Entertainment\", \"id\": 444}, {\"name\": \"Lightstorm Entertainment\", \"id\": 574}]',\n",
       "        '[{\"iso_3166_1\": \"US\", \"name\": \"United States of America\"}, {\"iso_3166_1\": \"GB\", \"name\": \"United Kingdom\"}]',\n",
       "        '2009-12-10', 2787965087, 162.0,\n",
       "        '[{\"iso_639_1\": \"en\", \"name\": \"English\"}, {\"iso_639_1\": \"es\", \"name\": \"Espa\\\\u00f1ol\"}]',\n",
       "        'Released', 'Enter the World of Pandora.', 'Avatar', 7.2, 11800]],\n",
       "      dtype=object)"
      ]
     },
     "execution_count": 99,
     "metadata": {},
     "output_type": "execute_result"
    }
   ],
   "source": [
    "movies.head(1).values"
   ]
  },
  {
   "cell_type": "code",
   "execution_count": 100,
   "metadata": {
    "metadata": {}
   },
   "outputs": [
    {
     "data": {
      "text/html": [
       "<div>\n",
       "<style scoped>\n",
       "    .dataframe tbody tr th:only-of-type {\n",
       "        vertical-align: middle;\n",
       "    }\n",
       "\n",
       "    .dataframe tbody tr th {\n",
       "        vertical-align: top;\n",
       "    }\n",
       "\n",
       "    .dataframe thead th {\n",
       "        text-align: right;\n",
       "    }\n",
       "</style>\n",
       "<table border=\"1\" class=\"dataframe\">\n",
       "  <thead>\n",
       "    <tr style=\"text-align: right;\">\n",
       "      <th></th>\n",
       "      <th>budget</th>\n",
       "      <th>genres</th>\n",
       "      <th>homepage</th>\n",
       "      <th>id</th>\n",
       "      <th>keywords</th>\n",
       "      <th>original_language</th>\n",
       "      <th>original_title</th>\n",
       "      <th>overview</th>\n",
       "      <th>popularity</th>\n",
       "      <th>production_companies</th>\n",
       "      <th>production_countries</th>\n",
       "      <th>release_date</th>\n",
       "      <th>revenue</th>\n",
       "      <th>runtime</th>\n",
       "      <th>spoken_languages</th>\n",
       "      <th>status</th>\n",
       "      <th>tagline</th>\n",
       "      <th>title</th>\n",
       "      <th>vote_average</th>\n",
       "      <th>vote_count</th>\n",
       "    </tr>\n",
       "  </thead>\n",
       "  <tbody>\n",
       "    <tr>\n",
       "      <th>0</th>\n",
       "      <td>237000000</td>\n",
       "      <td>[{\"id\": 28, \"name\": \"Action\"}, {\"id\": 12, \"nam...</td>\n",
       "      <td>http://www.avatarmovie.com/</td>\n",
       "      <td>19995</td>\n",
       "      <td>[{\"id\": 1463, \"name\": \"culture clash\"}, {\"id\":...</td>\n",
       "      <td>en</td>\n",
       "      <td>Avatar</td>\n",
       "      <td>In the 22nd century, a paraplegic Marine is di...</td>\n",
       "      <td>150.437577</td>\n",
       "      <td>[{\"name\": \"Ingenious Film Partners\", \"id\": 289...</td>\n",
       "      <td>[{\"iso_3166_1\": \"US\", \"name\": \"United States o...</td>\n",
       "      <td>2009-12-10</td>\n",
       "      <td>2787965087</td>\n",
       "      <td>162.0</td>\n",
       "      <td>[{\"iso_639_1\": \"en\", \"name\": \"English\"}, {\"iso...</td>\n",
       "      <td>Released</td>\n",
       "      <td>Enter the World of Pandora.</td>\n",
       "      <td>Avatar</td>\n",
       "      <td>7.2</td>\n",
       "      <td>11800</td>\n",
       "    </tr>\n",
       "  </tbody>\n",
       "</table>\n",
       "</div>"
      ],
      "text/plain": [
       "      budget                                             genres  \\\n",
       "0  237000000  [{\"id\": 28, \"name\": \"Action\"}, {\"id\": 12, \"nam...   \n",
       "\n",
       "                      homepage     id  \\\n",
       "0  http://www.avatarmovie.com/  19995   \n",
       "\n",
       "                                            keywords original_language  \\\n",
       "0  [{\"id\": 1463, \"name\": \"culture clash\"}, {\"id\":...                en   \n",
       "\n",
       "  original_title                                           overview  \\\n",
       "0         Avatar  In the 22nd century, a paraplegic Marine is di...   \n",
       "\n",
       "   popularity                               production_companies  \\\n",
       "0  150.437577  [{\"name\": \"Ingenious Film Partners\", \"id\": 289...   \n",
       "\n",
       "                                production_countries release_date     revenue  \\\n",
       "0  [{\"iso_3166_1\": \"US\", \"name\": \"United States o...   2009-12-10  2787965087   \n",
       "\n",
       "   runtime                                   spoken_languages    status  \\\n",
       "0    162.0  [{\"iso_639_1\": \"en\", \"name\": \"English\"}, {\"iso...  Released   \n",
       "\n",
       "                       tagline   title  vote_average  vote_count  \n",
       "0  Enter the World of Pandora.  Avatar           7.2       11800  "
      ]
     },
     "execution_count": 100,
     "metadata": {},
     "output_type": "execute_result"
    }
   ],
   "source": [
    "movies.head(1)"
   ]
  },
  {
   "cell_type": "code",
   "execution_count": 101,
   "metadata": {
    "metadata": {}
   },
   "outputs": [
    {
     "data": {
      "text/html": [
       "<div>\n",
       "<style scoped>\n",
       "    .dataframe tbody tr th:only-of-type {\n",
       "        vertical-align: middle;\n",
       "    }\n",
       "\n",
       "    .dataframe tbody tr th {\n",
       "        vertical-align: top;\n",
       "    }\n",
       "\n",
       "    .dataframe thead th {\n",
       "        text-align: right;\n",
       "    }\n",
       "</style>\n",
       "<table border=\"1\" class=\"dataframe\">\n",
       "  <thead>\n",
       "    <tr style=\"text-align: right;\">\n",
       "      <th></th>\n",
       "      <th>movie_id</th>\n",
       "      <th>title</th>\n",
       "      <th>cast</th>\n",
       "      <th>crew</th>\n",
       "    </tr>\n",
       "  </thead>\n",
       "  <tbody>\n",
       "    <tr>\n",
       "      <th>0</th>\n",
       "      <td>19995</td>\n",
       "      <td>Avatar</td>\n",
       "      <td>[{\"cast_id\": 242, \"character\": \"Jake Sully\", \"...</td>\n",
       "      <td>[{\"credit_id\": \"52fe48009251416c750aca23\", \"de...</td>\n",
       "    </tr>\n",
       "  </tbody>\n",
       "</table>\n",
       "</div>"
      ],
      "text/plain": [
       "   movie_id   title                                               cast  \\\n",
       "0     19995  Avatar  [{\"cast_id\": 242, \"character\": \"Jake Sully\", \"...   \n",
       "\n",
       "                                                crew  \n",
       "0  [{\"credit_id\": \"52fe48009251416c750aca23\", \"de...  "
      ]
     },
     "execution_count": 101,
     "metadata": {},
     "output_type": "execute_result"
    }
   ],
   "source": [
    "credits.head(1)"
   ]
  },
  {
   "cell_type": "code",
   "execution_count": null,
   "metadata": {},
   "outputs": [],
   "source": []
  },
  {
   "cell_type": "markdown",
   "metadata": {},
   "source": [
    "### Merging the credits and movies on the basis of title merge matlab jodna hai dono ko"
   ]
  },
  {
   "cell_type": "code",
   "execution_count": 102,
   "metadata": {
    "metadata": {}
   },
   "outputs": [],
   "source": [
    "movies1 = movies.merge(credits,on='title')"
   ]
  },
  {
   "cell_type": "code",
   "execution_count": 103,
   "metadata": {
    "metadata": {}
   },
   "outputs": [
    {
     "data": {
      "text/plain": [
       "(4803, 20)"
      ]
     },
     "execution_count": 103,
     "metadata": {},
     "output_type": "execute_result"
    }
   ],
   "source": [
    "movies.shape"
   ]
  },
  {
   "cell_type": "code",
   "execution_count": 104,
   "metadata": {
    "metadata": {}
   },
   "outputs": [
    {
     "data": {
      "text/plain": [
       "(4809, 23)"
      ]
     },
     "execution_count": 104,
     "metadata": {},
     "output_type": "execute_result"
    }
   ],
   "source": [
    "movies1.shape"
   ]
  },
  {
   "cell_type": "code",
   "execution_count": 105,
   "metadata": {
    "metadata": {}
   },
   "outputs": [
    {
     "data": {
      "text/html": [
       "<div>\n",
       "<style scoped>\n",
       "    .dataframe tbody tr th:only-of-type {\n",
       "        vertical-align: middle;\n",
       "    }\n",
       "\n",
       "    .dataframe tbody tr th {\n",
       "        vertical-align: top;\n",
       "    }\n",
       "\n",
       "    .dataframe thead th {\n",
       "        text-align: right;\n",
       "    }\n",
       "</style>\n",
       "<table border=\"1\" class=\"dataframe\">\n",
       "  <thead>\n",
       "    <tr style=\"text-align: right;\">\n",
       "      <th></th>\n",
       "      <th>budget</th>\n",
       "      <th>genres</th>\n",
       "      <th>homepage</th>\n",
       "      <th>id</th>\n",
       "      <th>keywords</th>\n",
       "      <th>original_language</th>\n",
       "      <th>original_title</th>\n",
       "      <th>overview</th>\n",
       "      <th>popularity</th>\n",
       "      <th>production_companies</th>\n",
       "      <th>production_countries</th>\n",
       "      <th>release_date</th>\n",
       "      <th>revenue</th>\n",
       "      <th>runtime</th>\n",
       "      <th>spoken_languages</th>\n",
       "      <th>status</th>\n",
       "      <th>tagline</th>\n",
       "      <th>title</th>\n",
       "      <th>vote_average</th>\n",
       "      <th>vote_count</th>\n",
       "    </tr>\n",
       "  </thead>\n",
       "  <tbody>\n",
       "    <tr>\n",
       "      <th>0</th>\n",
       "      <td>237000000</td>\n",
       "      <td>[{\"id\": 28, \"name\": \"Action\"}, {\"id\": 12, \"nam...</td>\n",
       "      <td>http://www.avatarmovie.com/</td>\n",
       "      <td>19995</td>\n",
       "      <td>[{\"id\": 1463, \"name\": \"culture clash\"}, {\"id\":...</td>\n",
       "      <td>en</td>\n",
       "      <td>Avatar</td>\n",
       "      <td>In the 22nd century, a paraplegic Marine is di...</td>\n",
       "      <td>150.437577</td>\n",
       "      <td>[{\"name\": \"Ingenious Film Partners\", \"id\": 289...</td>\n",
       "      <td>[{\"iso_3166_1\": \"US\", \"name\": \"United States o...</td>\n",
       "      <td>2009-12-10</td>\n",
       "      <td>2787965087</td>\n",
       "      <td>162.0</td>\n",
       "      <td>[{\"iso_639_1\": \"en\", \"name\": \"English\"}, {\"iso...</td>\n",
       "      <td>Released</td>\n",
       "      <td>Enter the World of Pandora.</td>\n",
       "      <td>Avatar</td>\n",
       "      <td>7.2</td>\n",
       "      <td>11800</td>\n",
       "    </tr>\n",
       "  </tbody>\n",
       "</table>\n",
       "</div>"
      ],
      "text/plain": [
       "      budget                                             genres  \\\n",
       "0  237000000  [{\"id\": 28, \"name\": \"Action\"}, {\"id\": 12, \"nam...   \n",
       "\n",
       "                      homepage     id  \\\n",
       "0  http://www.avatarmovie.com/  19995   \n",
       "\n",
       "                                            keywords original_language  \\\n",
       "0  [{\"id\": 1463, \"name\": \"culture clash\"}, {\"id\":...                en   \n",
       "\n",
       "  original_title                                           overview  \\\n",
       "0         Avatar  In the 22nd century, a paraplegic Marine is di...   \n",
       "\n",
       "   popularity                               production_companies  \\\n",
       "0  150.437577  [{\"name\": \"Ingenious Film Partners\", \"id\": 289...   \n",
       "\n",
       "                                production_countries release_date     revenue  \\\n",
       "0  [{\"iso_3166_1\": \"US\", \"name\": \"United States o...   2009-12-10  2787965087   \n",
       "\n",
       "   runtime                                   spoken_languages    status  \\\n",
       "0    162.0  [{\"iso_639_1\": \"en\", \"name\": \"English\"}, {\"iso...  Released   \n",
       "\n",
       "                       tagline   title  vote_average  vote_count  \n",
       "0  Enter the World of Pandora.  Avatar           7.2       11800  "
      ]
     },
     "execution_count": 105,
     "metadata": {},
     "output_type": "execute_result"
    }
   ],
   "source": [
    "movies.head(1)"
   ]
  },
  {
   "cell_type": "code",
   "execution_count": 106,
   "metadata": {
    "metadata": {}
   },
   "outputs": [
    {
     "data": {
      "text/plain": [
       "'movies column which we sustain'"
      ]
     },
     "execution_count": 106,
     "metadata": {},
     "output_type": "execute_result"
    }
   ],
   "source": [
    "'''movies column which we sustain'''\n",
    "# genres\n",
    "# id\n",
    "# keyword\n",
    "# title\n",
    "# overview\n",
    "#"
   ]
  },
  {
   "cell_type": "markdown",
   "metadata": {},
   "source": []
  },
  {
   "cell_type": "code",
   "execution_count": 107,
   "metadata": {
    "metadata": {}
   },
   "outputs": [
    {
     "data": {
      "text/html": [
       "<div>\n",
       "<style scoped>\n",
       "    .dataframe tbody tr th:only-of-type {\n",
       "        vertical-align: middle;\n",
       "    }\n",
       "\n",
       "    .dataframe tbody tr th {\n",
       "        vertical-align: top;\n",
       "    }\n",
       "\n",
       "    .dataframe thead th {\n",
       "        text-align: right;\n",
       "    }\n",
       "</style>\n",
       "<table border=\"1\" class=\"dataframe\">\n",
       "  <thead>\n",
       "    <tr style=\"text-align: right;\">\n",
       "      <th></th>\n",
       "      <th>budget</th>\n",
       "      <th>genres</th>\n",
       "      <th>homepage</th>\n",
       "      <th>id</th>\n",
       "      <th>keywords</th>\n",
       "      <th>original_language</th>\n",
       "      <th>original_title</th>\n",
       "      <th>overview</th>\n",
       "      <th>popularity</th>\n",
       "      <th>production_companies</th>\n",
       "      <th>...</th>\n",
       "      <th>runtime</th>\n",
       "      <th>spoken_languages</th>\n",
       "      <th>status</th>\n",
       "      <th>tagline</th>\n",
       "      <th>title</th>\n",
       "      <th>vote_average</th>\n",
       "      <th>vote_count</th>\n",
       "      <th>movie_id</th>\n",
       "      <th>cast</th>\n",
       "      <th>crew</th>\n",
       "    </tr>\n",
       "  </thead>\n",
       "  <tbody>\n",
       "    <tr>\n",
       "      <th>0</th>\n",
       "      <td>237000000</td>\n",
       "      <td>[{\"id\": 28, \"name\": \"Action\"}, {\"id\": 12, \"nam...</td>\n",
       "      <td>http://www.avatarmovie.com/</td>\n",
       "      <td>19995</td>\n",
       "      <td>[{\"id\": 1463, \"name\": \"culture clash\"}, {\"id\":...</td>\n",
       "      <td>en</td>\n",
       "      <td>Avatar</td>\n",
       "      <td>In the 22nd century, a paraplegic Marine is di...</td>\n",
       "      <td>150.437577</td>\n",
       "      <td>[{\"name\": \"Ingenious Film Partners\", \"id\": 289...</td>\n",
       "      <td>...</td>\n",
       "      <td>162.0</td>\n",
       "      <td>[{\"iso_639_1\": \"en\", \"name\": \"English\"}, {\"iso...</td>\n",
       "      <td>Released</td>\n",
       "      <td>Enter the World of Pandora.</td>\n",
       "      <td>Avatar</td>\n",
       "      <td>7.2</td>\n",
       "      <td>11800</td>\n",
       "      <td>19995</td>\n",
       "      <td>[{\"cast_id\": 242, \"character\": \"Jake Sully\", \"...</td>\n",
       "      <td>[{\"credit_id\": \"52fe48009251416c750aca23\", \"de...</td>\n",
       "    </tr>\n",
       "  </tbody>\n",
       "</table>\n",
       "<p>1 rows × 23 columns</p>\n",
       "</div>"
      ],
      "text/plain": [
       "      budget                                             genres  \\\n",
       "0  237000000  [{\"id\": 28, \"name\": \"Action\"}, {\"id\": 12, \"nam...   \n",
       "\n",
       "                      homepage     id  \\\n",
       "0  http://www.avatarmovie.com/  19995   \n",
       "\n",
       "                                            keywords original_language  \\\n",
       "0  [{\"id\": 1463, \"name\": \"culture clash\"}, {\"id\":...                en   \n",
       "\n",
       "  original_title                                           overview  \\\n",
       "0         Avatar  In the 22nd century, a paraplegic Marine is di...   \n",
       "\n",
       "   popularity                               production_companies  ... runtime  \\\n",
       "0  150.437577  [{\"name\": \"Ingenious Film Partners\", \"id\": 289...  ...   162.0   \n",
       "\n",
       "                                    spoken_languages    status  \\\n",
       "0  [{\"iso_639_1\": \"en\", \"name\": \"English\"}, {\"iso...  Released   \n",
       "\n",
       "                       tagline   title vote_average vote_count movie_id  \\\n",
       "0  Enter the World of Pandora.  Avatar          7.2      11800    19995   \n",
       "\n",
       "                                                cast  \\\n",
       "0  [{\"cast_id\": 242, \"character\": \"Jake Sully\", \"...   \n",
       "\n",
       "                                                crew  \n",
       "0  [{\"credit_id\": \"52fe48009251416c750aca23\", \"de...  \n",
       "\n",
       "[1 rows x 23 columns]"
      ]
     },
     "execution_count": 107,
     "metadata": {},
     "output_type": "execute_result"
    }
   ],
   "source": [
    "movies1.head(1)"
   ]
  },
  {
   "cell_type": "code",
   "execution_count": 108,
   "metadata": {
    "metadata": {}
   },
   "outputs": [],
   "source": [
    "movies2 = movies1[['movie_id','title','overview','genres','keywords','cast','crew']]\n"
   ]
  },
  {
   "cell_type": "code",
   "execution_count": 109,
   "metadata": {
    "metadata": {}
   },
   "outputs": [
    {
     "data": {
      "text/html": [
       "<div>\n",
       "<style scoped>\n",
       "    .dataframe tbody tr th:only-of-type {\n",
       "        vertical-align: middle;\n",
       "    }\n",
       "\n",
       "    .dataframe tbody tr th {\n",
       "        vertical-align: top;\n",
       "    }\n",
       "\n",
       "    .dataframe thead th {\n",
       "        text-align: right;\n",
       "    }\n",
       "</style>\n",
       "<table border=\"1\" class=\"dataframe\">\n",
       "  <thead>\n",
       "    <tr style=\"text-align: right;\">\n",
       "      <th></th>\n",
       "      <th>movie_id</th>\n",
       "      <th>title</th>\n",
       "      <th>overview</th>\n",
       "      <th>genres</th>\n",
       "      <th>keywords</th>\n",
       "      <th>cast</th>\n",
       "      <th>crew</th>\n",
       "    </tr>\n",
       "  </thead>\n",
       "  <tbody>\n",
       "    <tr>\n",
       "      <th>0</th>\n",
       "      <td>19995</td>\n",
       "      <td>Avatar</td>\n",
       "      <td>In the 22nd century, a paraplegic Marine is di...</td>\n",
       "      <td>[{\"id\": 28, \"name\": \"Action\"}, {\"id\": 12, \"nam...</td>\n",
       "      <td>[{\"id\": 1463, \"name\": \"culture clash\"}, {\"id\":...</td>\n",
       "      <td>[{\"cast_id\": 242, \"character\": \"Jake Sully\", \"...</td>\n",
       "      <td>[{\"credit_id\": \"52fe48009251416c750aca23\", \"de...</td>\n",
       "    </tr>\n",
       "    <tr>\n",
       "      <th>1</th>\n",
       "      <td>285</td>\n",
       "      <td>Pirates of the Caribbean: At World's End</td>\n",
       "      <td>Captain Barbossa, long believed to be dead, ha...</td>\n",
       "      <td>[{\"id\": 12, \"name\": \"Adventure\"}, {\"id\": 14, \"...</td>\n",
       "      <td>[{\"id\": 270, \"name\": \"ocean\"}, {\"id\": 726, \"na...</td>\n",
       "      <td>[{\"cast_id\": 4, \"character\": \"Captain Jack Spa...</td>\n",
       "      <td>[{\"credit_id\": \"52fe4232c3a36847f800b579\", \"de...</td>\n",
       "    </tr>\n",
       "  </tbody>\n",
       "</table>\n",
       "</div>"
      ],
      "text/plain": [
       "   movie_id                                     title  \\\n",
       "0     19995                                    Avatar   \n",
       "1       285  Pirates of the Caribbean: At World's End   \n",
       "\n",
       "                                            overview  \\\n",
       "0  In the 22nd century, a paraplegic Marine is di...   \n",
       "1  Captain Barbossa, long believed to be dead, ha...   \n",
       "\n",
       "                                              genres  \\\n",
       "0  [{\"id\": 28, \"name\": \"Action\"}, {\"id\": 12, \"nam...   \n",
       "1  [{\"id\": 12, \"name\": \"Adventure\"}, {\"id\": 14, \"...   \n",
       "\n",
       "                                            keywords  \\\n",
       "0  [{\"id\": 1463, \"name\": \"culture clash\"}, {\"id\":...   \n",
       "1  [{\"id\": 270, \"name\": \"ocean\"}, {\"id\": 726, \"na...   \n",
       "\n",
       "                                                cast  \\\n",
       "0  [{\"cast_id\": 242, \"character\": \"Jake Sully\", \"...   \n",
       "1  [{\"cast_id\": 4, \"character\": \"Captain Jack Spa...   \n",
       "\n",
       "                                                crew  \n",
       "0  [{\"credit_id\": \"52fe48009251416c750aca23\", \"de...  \n",
       "1  [{\"credit_id\": \"52fe4232c3a36847f800b579\", \"de...  "
      ]
     },
     "execution_count": 109,
     "metadata": {},
     "output_type": "execute_result"
    }
   ],
   "source": [
    "movies2.head(2)"
   ]
  },
  {
   "cell_type": "code",
   "execution_count": 110,
   "metadata": {
    "metadata": {}
   },
   "outputs": [
    {
     "data": {
      "text/plain": [
       "movie_id    0\n",
       "title       0\n",
       "overview    3\n",
       "genres      0\n",
       "keywords    0\n",
       "cast        0\n",
       "crew        0\n",
       "dtype: int64"
      ]
     },
     "execution_count": 110,
     "metadata": {},
     "output_type": "execute_result"
    }
   ],
   "source": [
    "movies2.isnull().sum()"
   ]
  },
  {
   "cell_type": "markdown",
   "metadata": {},
   "source": [
    "### drop null value"
   ]
  },
  {
   "cell_type": "code",
   "execution_count": 111,
   "metadata": {
    "metadata": {}
   },
   "outputs": [
    {
     "name": "stderr",
     "output_type": "stream",
     "text": [
      "C:\\Users\\Ritik\\AppData\\Local\\Temp\\ipykernel_3644\\1086494720.py:1: SettingWithCopyWarning: \n",
      "A value is trying to be set on a copy of a slice from a DataFrame\n",
      "\n",
      "See the caveats in the documentation: https://pandas.pydata.org/pandas-docs/stable/user_guide/indexing.html#returning-a-view-versus-a-copy\n",
      "  movies2.dropna(inplace=True)\n"
     ]
    }
   ],
   "source": [
    "movies2.dropna(inplace=True)"
   ]
  },
  {
   "cell_type": "code",
   "execution_count": 112,
   "metadata": {
    "metadata": {}
   },
   "outputs": [
    {
     "data": {
      "text/html": [
       "<div>\n",
       "<style scoped>\n",
       "    .dataframe tbody tr th:only-of-type {\n",
       "        vertical-align: middle;\n",
       "    }\n",
       "\n",
       "    .dataframe tbody tr th {\n",
       "        vertical-align: top;\n",
       "    }\n",
       "\n",
       "    .dataframe thead th {\n",
       "        text-align: right;\n",
       "    }\n",
       "</style>\n",
       "<table border=\"1\" class=\"dataframe\">\n",
       "  <thead>\n",
       "    <tr style=\"text-align: right;\">\n",
       "      <th></th>\n",
       "      <th>movie_id</th>\n",
       "      <th>title</th>\n",
       "      <th>overview</th>\n",
       "      <th>genres</th>\n",
       "      <th>keywords</th>\n",
       "      <th>cast</th>\n",
       "      <th>crew</th>\n",
       "    </tr>\n",
       "  </thead>\n",
       "  <tbody>\n",
       "    <tr>\n",
       "      <th>0</th>\n",
       "      <td>19995</td>\n",
       "      <td>Avatar</td>\n",
       "      <td>In the 22nd century, a paraplegic Marine is di...</td>\n",
       "      <td>[{\"id\": 28, \"name\": \"Action\"}, {\"id\": 12, \"nam...</td>\n",
       "      <td>[{\"id\": 1463, \"name\": \"culture clash\"}, {\"id\":...</td>\n",
       "      <td>[{\"cast_id\": 242, \"character\": \"Jake Sully\", \"...</td>\n",
       "      <td>[{\"credit_id\": \"52fe48009251416c750aca23\", \"de...</td>\n",
       "    </tr>\n",
       "    <tr>\n",
       "      <th>1</th>\n",
       "      <td>285</td>\n",
       "      <td>Pirates of the Caribbean: At World's End</td>\n",
       "      <td>Captain Barbossa, long believed to be dead, ha...</td>\n",
       "      <td>[{\"id\": 12, \"name\": \"Adventure\"}, {\"id\": 14, \"...</td>\n",
       "      <td>[{\"id\": 270, \"name\": \"ocean\"}, {\"id\": 726, \"na...</td>\n",
       "      <td>[{\"cast_id\": 4, \"character\": \"Captain Jack Spa...</td>\n",
       "      <td>[{\"credit_id\": \"52fe4232c3a36847f800b579\", \"de...</td>\n",
       "    </tr>\n",
       "  </tbody>\n",
       "</table>\n",
       "</div>"
      ],
      "text/plain": [
       "   movie_id                                     title  \\\n",
       "0     19995                                    Avatar   \n",
       "1       285  Pirates of the Caribbean: At World's End   \n",
       "\n",
       "                                            overview  \\\n",
       "0  In the 22nd century, a paraplegic Marine is di...   \n",
       "1  Captain Barbossa, long believed to be dead, ha...   \n",
       "\n",
       "                                              genres  \\\n",
       "0  [{\"id\": 28, \"name\": \"Action\"}, {\"id\": 12, \"nam...   \n",
       "1  [{\"id\": 12, \"name\": \"Adventure\"}, {\"id\": 14, \"...   \n",
       "\n",
       "                                            keywords  \\\n",
       "0  [{\"id\": 1463, \"name\": \"culture clash\"}, {\"id\":...   \n",
       "1  [{\"id\": 270, \"name\": \"ocean\"}, {\"id\": 726, \"na...   \n",
       "\n",
       "                                                cast  \\\n",
       "0  [{\"cast_id\": 242, \"character\": \"Jake Sully\", \"...   \n",
       "1  [{\"cast_id\": 4, \"character\": \"Captain Jack Spa...   \n",
       "\n",
       "                                                crew  \n",
       "0  [{\"credit_id\": \"52fe48009251416c750aca23\", \"de...  \n",
       "1  [{\"credit_id\": \"52fe4232c3a36847f800b579\", \"de...  "
      ]
     },
     "execution_count": 112,
     "metadata": {},
     "output_type": "execute_result"
    }
   ],
   "source": [
    "movies2.head(2)"
   ]
  },
  {
   "cell_type": "code",
   "execution_count": 113,
   "metadata": {
    "metadata": {}
   },
   "outputs": [
    {
     "data": {
      "text/plain": [
       "movie_id    0\n",
       "title       0\n",
       "overview    0\n",
       "genres      0\n",
       "keywords    0\n",
       "cast        0\n",
       "crew        0\n",
       "dtype: int64"
      ]
     },
     "execution_count": 113,
     "metadata": {},
     "output_type": "execute_result"
    }
   ],
   "source": [
    "movies2.isnull().sum()"
   ]
  },
  {
   "cell_type": "code",
   "execution_count": null,
   "metadata": {},
   "outputs": [],
   "source": []
  },
  {
   "cell_type": "code",
   "execution_count": 114,
   "metadata": {
    "metadata": {}
   },
   "outputs": [
    {
     "data": {
      "text/plain": [
       "0"
      ]
     },
     "execution_count": 114,
     "metadata": {},
     "output_type": "execute_result"
    }
   ],
   "source": [
    "movies2.duplicated().sum() #checking the duplicate columns"
   ]
  },
  {
   "cell_type": "code",
   "execution_count": 115,
   "metadata": {
    "metadata": {}
   },
   "outputs": [
    {
     "data": {
      "text/html": [
       "<div>\n",
       "<style scoped>\n",
       "    .dataframe tbody tr th:only-of-type {\n",
       "        vertical-align: middle;\n",
       "    }\n",
       "\n",
       "    .dataframe tbody tr th {\n",
       "        vertical-align: top;\n",
       "    }\n",
       "\n",
       "    .dataframe thead th {\n",
       "        text-align: right;\n",
       "    }\n",
       "</style>\n",
       "<table border=\"1\" class=\"dataframe\">\n",
       "  <thead>\n",
       "    <tr style=\"text-align: right;\">\n",
       "      <th></th>\n",
       "      <th>movie_id</th>\n",
       "      <th>title</th>\n",
       "      <th>overview</th>\n",
       "      <th>genres</th>\n",
       "      <th>keywords</th>\n",
       "      <th>cast</th>\n",
       "      <th>crew</th>\n",
       "    </tr>\n",
       "  </thead>\n",
       "  <tbody>\n",
       "    <tr>\n",
       "      <th>0</th>\n",
       "      <td>19995</td>\n",
       "      <td>Avatar</td>\n",
       "      <td>In the 22nd century, a paraplegic Marine is di...</td>\n",
       "      <td>[{\"id\": 28, \"name\": \"Action\"}, {\"id\": 12, \"nam...</td>\n",
       "      <td>[{\"id\": 1463, \"name\": \"culture clash\"}, {\"id\":...</td>\n",
       "      <td>[{\"cast_id\": 242, \"character\": \"Jake Sully\", \"...</td>\n",
       "      <td>[{\"credit_id\": \"52fe48009251416c750aca23\", \"de...</td>\n",
       "    </tr>\n",
       "    <tr>\n",
       "      <th>1</th>\n",
       "      <td>285</td>\n",
       "      <td>Pirates of the Caribbean: At World's End</td>\n",
       "      <td>Captain Barbossa, long believed to be dead, ha...</td>\n",
       "      <td>[{\"id\": 12, \"name\": \"Adventure\"}, {\"id\": 14, \"...</td>\n",
       "      <td>[{\"id\": 270, \"name\": \"ocean\"}, {\"id\": 726, \"na...</td>\n",
       "      <td>[{\"cast_id\": 4, \"character\": \"Captain Jack Spa...</td>\n",
       "      <td>[{\"credit_id\": \"52fe4232c3a36847f800b579\", \"de...</td>\n",
       "    </tr>\n",
       "  </tbody>\n",
       "</table>\n",
       "</div>"
      ],
      "text/plain": [
       "   movie_id                                     title  \\\n",
       "0     19995                                    Avatar   \n",
       "1       285  Pirates of the Caribbean: At World's End   \n",
       "\n",
       "                                            overview  \\\n",
       "0  In the 22nd century, a paraplegic Marine is di...   \n",
       "1  Captain Barbossa, long believed to be dead, ha...   \n",
       "\n",
       "                                              genres  \\\n",
       "0  [{\"id\": 28, \"name\": \"Action\"}, {\"id\": 12, \"nam...   \n",
       "1  [{\"id\": 12, \"name\": \"Adventure\"}, {\"id\": 14, \"...   \n",
       "\n",
       "                                            keywords  \\\n",
       "0  [{\"id\": 1463, \"name\": \"culture clash\"}, {\"id\":...   \n",
       "1  [{\"id\": 270, \"name\": \"ocean\"}, {\"id\": 726, \"na...   \n",
       "\n",
       "                                                cast  \\\n",
       "0  [{\"cast_id\": 242, \"character\": \"Jake Sully\", \"...   \n",
       "1  [{\"cast_id\": 4, \"character\": \"Captain Jack Spa...   \n",
       "\n",
       "                                                crew  \n",
       "0  [{\"credit_id\": \"52fe48009251416c750aca23\", \"de...  \n",
       "1  [{\"credit_id\": \"52fe4232c3a36847f800b579\", \"de...  "
      ]
     },
     "execution_count": 115,
     "metadata": {},
     "output_type": "execute_result"
    }
   ],
   "source": [
    "movies2.head(2)"
   ]
  },
  {
   "cell_type": "code",
   "execution_count": null,
   "metadata": {},
   "outputs": [],
   "source": []
  },
  {
   "cell_type": "code",
   "execution_count": 116,
   "metadata": {
    "metadata": {}
   },
   "outputs": [
    {
     "data": {
      "text/plain": [
       "'[{\"id\": 28, \"name\": \"Action\"}, {\"id\": 12, \"name\": \"Adventure\"}, {\"id\": 14, \"name\": \"Fantasy\"}, {\"id\": 878, \"name\": \"Science Fiction\"}]'"
      ]
     },
     "execution_count": 116,
     "metadata": {},
     "output_type": "execute_result"
    }
   ],
   "source": [
    "movies2.iloc[0].genres"
   ]
  },
  {
   "cell_type": "code",
   "execution_count": 117,
   "metadata": {
    "metadata": {}
   },
   "outputs": [
    {
     "data": {
      "text/plain": [
       "'[Action,Adventure,Fantasy,SciFiction]'"
      ]
     },
     "execution_count": 117,
     "metadata": {},
     "output_type": "execute_result"
    }
   ],
   "source": [
    "'[{\"id\": 28, \"name\": \"Action\"}, {\"id\": 12, \"name\": \"Adventure\"}, {\"id\": 14, \"name\": \"Fantasy\"}, {\"id\": 878, \"name\": \"Science Fiction\"}]'\n",
    "'[Action,Adventure,Fantasy,SciFiction]'"
   ]
  },
  {
   "cell_type": "code",
   "execution_count": 119,
   "metadata": {
    "metadata": {}
   },
   "outputs": [
    {
     "data": {
      "text/plain": [
       "<function ast.literal_eval(node_or_string)>"
      ]
     },
     "execution_count": 119,
     "metadata": {},
     "output_type": "execute_result"
    }
   ],
   "source": [
    "import ast\n",
    "ast.literal_eval"
   ]
  },
  {
   "cell_type": "code",
   "execution_count": 120,
   "metadata": {
    "metadata": {}
   },
   "outputs": [],
   "source": [
    "\n",
    "def convert(obj):\n",
    "    l=[]\n",
    "    for i in ast.literal_eval(obj):\n",
    "        l.append(i['name'])\n",
    "        return l"
   ]
  },
  {
   "cell_type": "code",
   "execution_count": 121,
   "metadata": {
    "metadata": {}
   },
   "outputs": [
    {
     "name": "stderr",
     "output_type": "stream",
     "text": [
      "C:\\Users\\Ritik\\AppData\\Local\\Temp\\ipykernel_3644\\1039517325.py:1: SettingWithCopyWarning: \n",
      "A value is trying to be set on a copy of a slice from a DataFrame.\n",
      "Try using .loc[row_indexer,col_indexer] = value instead\n",
      "\n",
      "See the caveats in the documentation: https://pandas.pydata.org/pandas-docs/stable/user_guide/indexing.html#returning-a-view-versus-a-copy\n",
      "  movies2['genres']=movies2['genres'].apply(convert)\n"
     ]
    }
   ],
   "source": [
    "movies2['genres']=movies2['genres'].apply(convert)"
   ]
  },
  {
   "cell_type": "code",
   "execution_count": 122,
   "metadata": {
    "metadata": {}
   },
   "outputs": [
    {
     "data": {
      "text/html": [
       "<div>\n",
       "<style scoped>\n",
       "    .dataframe tbody tr th:only-of-type {\n",
       "        vertical-align: middle;\n",
       "    }\n",
       "\n",
       "    .dataframe tbody tr th {\n",
       "        vertical-align: top;\n",
       "    }\n",
       "\n",
       "    .dataframe thead th {\n",
       "        text-align: right;\n",
       "    }\n",
       "</style>\n",
       "<table border=\"1\" class=\"dataframe\">\n",
       "  <thead>\n",
       "    <tr style=\"text-align: right;\">\n",
       "      <th></th>\n",
       "      <th>movie_id</th>\n",
       "      <th>title</th>\n",
       "      <th>overview</th>\n",
       "      <th>genres</th>\n",
       "      <th>keywords</th>\n",
       "      <th>cast</th>\n",
       "      <th>crew</th>\n",
       "    </tr>\n",
       "  </thead>\n",
       "  <tbody>\n",
       "    <tr>\n",
       "      <th>0</th>\n",
       "      <td>19995</td>\n",
       "      <td>Avatar</td>\n",
       "      <td>In the 22nd century, a paraplegic Marine is di...</td>\n",
       "      <td>[Action]</td>\n",
       "      <td>[{\"id\": 1463, \"name\": \"culture clash\"}, {\"id\":...</td>\n",
       "      <td>[{\"cast_id\": 242, \"character\": \"Jake Sully\", \"...</td>\n",
       "      <td>[{\"credit_id\": \"52fe48009251416c750aca23\", \"de...</td>\n",
       "    </tr>\n",
       "    <tr>\n",
       "      <th>1</th>\n",
       "      <td>285</td>\n",
       "      <td>Pirates of the Caribbean: At World's End</td>\n",
       "      <td>Captain Barbossa, long believed to be dead, ha...</td>\n",
       "      <td>[Adventure]</td>\n",
       "      <td>[{\"id\": 270, \"name\": \"ocean\"}, {\"id\": 726, \"na...</td>\n",
       "      <td>[{\"cast_id\": 4, \"character\": \"Captain Jack Spa...</td>\n",
       "      <td>[{\"credit_id\": \"52fe4232c3a36847f800b579\", \"de...</td>\n",
       "    </tr>\n",
       "  </tbody>\n",
       "</table>\n",
       "</div>"
      ],
      "text/plain": [
       "   movie_id                                     title  \\\n",
       "0     19995                                    Avatar   \n",
       "1       285  Pirates of the Caribbean: At World's End   \n",
       "\n",
       "                                            overview       genres  \\\n",
       "0  In the 22nd century, a paraplegic Marine is di...     [Action]   \n",
       "1  Captain Barbossa, long believed to be dead, ha...  [Adventure]   \n",
       "\n",
       "                                            keywords  \\\n",
       "0  [{\"id\": 1463, \"name\": \"culture clash\"}, {\"id\":...   \n",
       "1  [{\"id\": 270, \"name\": \"ocean\"}, {\"id\": 726, \"na...   \n",
       "\n",
       "                                                cast  \\\n",
       "0  [{\"cast_id\": 242, \"character\": \"Jake Sully\", \"...   \n",
       "1  [{\"cast_id\": 4, \"character\": \"Captain Jack Spa...   \n",
       "\n",
       "                                                crew  \n",
       "0  [{\"credit_id\": \"52fe48009251416c750aca23\", \"de...  \n",
       "1  [{\"credit_id\": \"52fe4232c3a36847f800b579\", \"de...  "
      ]
     },
     "execution_count": 122,
     "metadata": {},
     "output_type": "execute_result"
    }
   ],
   "source": [
    "movies2.head(2)"
   ]
  },
  {
   "cell_type": "code",
   "execution_count": 123,
   "metadata": {
    "metadata": {}
   },
   "outputs": [
    {
     "name": "stderr",
     "output_type": "stream",
     "text": [
      "C:\\Users\\Ritik\\AppData\\Local\\Temp\\ipykernel_3644\\1830376068.py:1: SettingWithCopyWarning: \n",
      "A value is trying to be set on a copy of a slice from a DataFrame.\n",
      "Try using .loc[row_indexer,col_indexer] = value instead\n",
      "\n",
      "See the caveats in the documentation: https://pandas.pydata.org/pandas-docs/stable/user_guide/indexing.html#returning-a-view-versus-a-copy\n",
      "  movies2['keywords'] = movies2['keywords'].apply(convert)\n"
     ]
    }
   ],
   "source": [
    "movies2['keywords'] = movies2['keywords'].apply(convert)"
   ]
  },
  {
   "cell_type": "code",
   "execution_count": 124,
   "metadata": {
    "metadata": {}
   },
   "outputs": [
    {
     "data": {
      "text/html": [
       "<div>\n",
       "<style scoped>\n",
       "    .dataframe tbody tr th:only-of-type {\n",
       "        vertical-align: middle;\n",
       "    }\n",
       "\n",
       "    .dataframe tbody tr th {\n",
       "        vertical-align: top;\n",
       "    }\n",
       "\n",
       "    .dataframe thead th {\n",
       "        text-align: right;\n",
       "    }\n",
       "</style>\n",
       "<table border=\"1\" class=\"dataframe\">\n",
       "  <thead>\n",
       "    <tr style=\"text-align: right;\">\n",
       "      <th></th>\n",
       "      <th>movie_id</th>\n",
       "      <th>title</th>\n",
       "      <th>overview</th>\n",
       "      <th>genres</th>\n",
       "      <th>keywords</th>\n",
       "      <th>cast</th>\n",
       "      <th>crew</th>\n",
       "    </tr>\n",
       "  </thead>\n",
       "  <tbody>\n",
       "    <tr>\n",
       "      <th>0</th>\n",
       "      <td>19995</td>\n",
       "      <td>Avatar</td>\n",
       "      <td>In the 22nd century, a paraplegic Marine is di...</td>\n",
       "      <td>[Action]</td>\n",
       "      <td>[culture clash]</td>\n",
       "      <td>[{\"cast_id\": 242, \"character\": \"Jake Sully\", \"...</td>\n",
       "      <td>[{\"credit_id\": \"52fe48009251416c750aca23\", \"de...</td>\n",
       "    </tr>\n",
       "    <tr>\n",
       "      <th>1</th>\n",
       "      <td>285</td>\n",
       "      <td>Pirates of the Caribbean: At World's End</td>\n",
       "      <td>Captain Barbossa, long believed to be dead, ha...</td>\n",
       "      <td>[Adventure]</td>\n",
       "      <td>[ocean]</td>\n",
       "      <td>[{\"cast_id\": 4, \"character\": \"Captain Jack Spa...</td>\n",
       "      <td>[{\"credit_id\": \"52fe4232c3a36847f800b579\", \"de...</td>\n",
       "    </tr>\n",
       "  </tbody>\n",
       "</table>\n",
       "</div>"
      ],
      "text/plain": [
       "   movie_id                                     title  \\\n",
       "0     19995                                    Avatar   \n",
       "1       285  Pirates of the Caribbean: At World's End   \n",
       "\n",
       "                                            overview       genres  \\\n",
       "0  In the 22nd century, a paraplegic Marine is di...     [Action]   \n",
       "1  Captain Barbossa, long believed to be dead, ha...  [Adventure]   \n",
       "\n",
       "          keywords                                               cast  \\\n",
       "0  [culture clash]  [{\"cast_id\": 242, \"character\": \"Jake Sully\", \"...   \n",
       "1          [ocean]  [{\"cast_id\": 4, \"character\": \"Captain Jack Spa...   \n",
       "\n",
       "                                                crew  \n",
       "0  [{\"credit_id\": \"52fe48009251416c750aca23\", \"de...  \n",
       "1  [{\"credit_id\": \"52fe4232c3a36847f800b579\", \"de...  "
      ]
     },
     "execution_count": 124,
     "metadata": {},
     "output_type": "execute_result"
    }
   ],
   "source": [
    "movies2.head(2)"
   ]
  },
  {
   "cell_type": "code",
   "execution_count": null,
   "metadata": {},
   "outputs": [
    {
     "data": {
      "text/plain": [
       "'[{\"cast_id\": 242, \"character\": \"Jake Sully\", \"credit_id\": \"5602a8a7c3a3685532001c9a\", \"gender\": 2, \"id\": 65731, \"name\": \"Sam Worthington\", \"order\": 0}, {\"cast_id\": 3, \"character\": \"Neytiri\", \"credit_id\": \"52fe48009251416c750ac9cb\", \"gender\": 1, \"id\": 8691, \"name\": \"Zoe Saldana\", \"order\": 1}, {\"cast_id\": 25, \"character\": \"Dr. Grace Augustine\", \"credit_id\": \"52fe48009251416c750aca39\", \"gender\": 1, \"id\": 10205, \"name\": \"Sigourney Weaver\", \"order\": 2}, {\"cast_id\": 4, \"character\": \"Col. Quaritch\", \"credit_id\": \"52fe48009251416c750ac9cf\", \"gender\": 2, \"id\": 32747, \"name\": \"Stephen Lang\", \"order\": 3}, {\"cast_id\": 5, \"character\": \"Trudy Chacon\", \"credit_id\": \"52fe48009251416c750ac9d3\", \"gender\": 1, \"id\": 17647, \"name\": \"Michelle Rodriguez\", \"order\": 4}, {\"cast_id\": 8, \"character\": \"Selfridge\", \"credit_id\": \"52fe48009251416c750ac9e1\", \"gender\": 2, \"id\": 1771, \"name\": \"Giovanni Ribisi\", \"order\": 5}, {\"cast_id\": 7, \"character\": \"Norm Spellman\", \"credit_id\": \"52fe48009251416c750ac9dd\", \"gender\": 2, \"id\": 59231, \"name\": \"Joel David Moore\", \"order\": 6}, {\"cast_id\": 9, \"character\": \"Moat\", \"credit_id\": \"52fe48009251416c750ac9e5\", \"gender\": 1, \"id\": 30485, \"name\": \"CCH Pounder\", \"order\": 7}, {\"cast_id\": 11, \"character\": \"Eytukan\", \"credit_id\": \"52fe48009251416c750ac9ed\", \"gender\": 2, \"id\": 15853, \"name\": \"Wes Studi\", \"order\": 8}, {\"cast_id\": 10, \"character\": \"Tsu\\'Tey\", \"credit_id\": \"52fe48009251416c750ac9e9\", \"gender\": 2, \"id\": 10964, \"name\": \"Laz Alonso\", \"order\": 9}, {\"cast_id\": 12, \"character\": \"Dr. Max Patel\", \"credit_id\": \"52fe48009251416c750ac9f1\", \"gender\": 2, \"id\": 95697, \"name\": \"Dileep Rao\", \"order\": 10}, {\"cast_id\": 13, \"character\": \"Lyle Wainfleet\", \"credit_id\": \"52fe48009251416c750ac9f5\", \"gender\": 2, \"id\": 98215, \"name\": \"Matt Gerald\", \"order\": 11}, {\"cast_id\": 32, \"character\": \"Private Fike\", \"credit_id\": \"52fe48009251416c750aca5b\", \"gender\": 2, \"id\": 154153, \"name\": \"Sean Anthony Moran\", \"order\": 12}, {\"cast_id\": 33, \"character\": \"Cryo Vault Med Tech\", \"credit_id\": \"52fe48009251416c750aca5f\", \"gender\": 2, \"id\": 397312, \"name\": \"Jason Whyte\", \"order\": 13}, {\"cast_id\": 34, \"character\": \"Venture Star Crew Chief\", \"credit_id\": \"52fe48009251416c750aca63\", \"gender\": 2, \"id\": 42317, \"name\": \"Scott Lawrence\", \"order\": 14}, {\"cast_id\": 35, \"character\": \"Lock Up Trooper\", \"credit_id\": \"52fe48009251416c750aca67\", \"gender\": 2, \"id\": 986734, \"name\": \"Kelly Kilgour\", \"order\": 15}, {\"cast_id\": 36, \"character\": \"Shuttle Pilot\", \"credit_id\": \"52fe48009251416c750aca6b\", \"gender\": 0, \"id\": 1207227, \"name\": \"James Patrick Pitt\", \"order\": 16}, {\"cast_id\": 37, \"character\": \"Shuttle Co-Pilot\", \"credit_id\": \"52fe48009251416c750aca6f\", \"gender\": 0, \"id\": 1180936, \"name\": \"Sean Patrick Murphy\", \"order\": 17}, {\"cast_id\": 38, \"character\": \"Shuttle Crew Chief\", \"credit_id\": \"52fe48009251416c750aca73\", \"gender\": 2, \"id\": 1019578, \"name\": \"Peter Dillon\", \"order\": 18}, {\"cast_id\": 39, \"character\": \"Tractor Operator / Troupe\", \"credit_id\": \"52fe48009251416c750aca77\", \"gender\": 0, \"id\": 91443, \"name\": \"Kevin Dorman\", \"order\": 19}, {\"cast_id\": 40, \"character\": \"Dragon Gunship Pilot\", \"credit_id\": \"52fe48009251416c750aca7b\", \"gender\": 2, \"id\": 173391, \"name\": \"Kelson Henderson\", \"order\": 20}, {\"cast_id\": 41, \"character\": \"Dragon Gunship Gunner\", \"credit_id\": \"52fe48009251416c750aca7f\", \"gender\": 0, \"id\": 1207236, \"name\": \"David Van Horn\", \"order\": 21}, {\"cast_id\": 42, \"character\": \"Dragon Gunship Navigator\", \"credit_id\": \"52fe48009251416c750aca83\", \"gender\": 0, \"id\": 215913, \"name\": \"Jacob Tomuri\", \"order\": 22}, {\"cast_id\": 43, \"character\": \"Suit #1\", \"credit_id\": \"52fe48009251416c750aca87\", \"gender\": 0, \"id\": 143206, \"name\": \"Michael Blain-Rozgay\", \"order\": 23}, {\"cast_id\": 44, \"character\": \"Suit #2\", \"credit_id\": \"52fe48009251416c750aca8b\", \"gender\": 2, \"id\": 169676, \"name\": \"Jon Curry\", \"order\": 24}, {\"cast_id\": 46, \"character\": \"Ambient Room Tech\", \"credit_id\": \"52fe48009251416c750aca8f\", \"gender\": 0, \"id\": 1048610, \"name\": \"Luke Hawker\", \"order\": 25}, {\"cast_id\": 47, \"character\": \"Ambient Room Tech / Troupe\", \"credit_id\": \"52fe48009251416c750aca93\", \"gender\": 0, \"id\": 42288, \"name\": \"Woody Schultz\", \"order\": 26}, {\"cast_id\": 48, \"character\": \"Horse Clan Leader\", \"credit_id\": \"52fe48009251416c750aca97\", \"gender\": 2, \"id\": 68278, \"name\": \"Peter Mensah\", \"order\": 27}, {\"cast_id\": 49, \"character\": \"Link Room Tech\", \"credit_id\": \"52fe48009251416c750aca9b\", \"gender\": 0, \"id\": 1207247, \"name\": \"Sonia Yee\", \"order\": 28}, {\"cast_id\": 50, \"character\": \"Basketball Avatar / Troupe\", \"credit_id\": \"52fe48009251416c750aca9f\", \"gender\": 1, \"id\": 1207248, \"name\": \"Jahnel Curfman\", \"order\": 29}, {\"cast_id\": 51, \"character\": \"Basketball Avatar\", \"credit_id\": \"52fe48009251416c750acaa3\", \"gender\": 0, \"id\": 89714, \"name\": \"Ilram Choi\", \"order\": 30}, {\"cast_id\": 52, \"character\": \"Na\\'vi Child\", \"credit_id\": \"52fe48009251416c750acaa7\", \"gender\": 0, \"id\": 1207249, \"name\": \"Kyla Warren\", \"order\": 31}, {\"cast_id\": 53, \"character\": \"Troupe\", \"credit_id\": \"52fe48009251416c750acaab\", \"gender\": 0, \"id\": 1207250, \"name\": \"Lisa Roumain\", \"order\": 32}, {\"cast_id\": 54, \"character\": \"Troupe\", \"credit_id\": \"52fe48009251416c750acaaf\", \"gender\": 1, \"id\": 83105, \"name\": \"Debra Wilson\", \"order\": 33}, {\"cast_id\": 57, \"character\": \"Troupe\", \"credit_id\": \"52fe48009251416c750acabb\", \"gender\": 0, \"id\": 1207253, \"name\": \"Chris Mala\", \"order\": 34}, {\"cast_id\": 55, \"character\": \"Troupe\", \"credit_id\": \"52fe48009251416c750acab3\", \"gender\": 0, \"id\": 1207251, \"name\": \"Taylor Kibby\", \"order\": 35}, {\"cast_id\": 56, \"character\": \"Troupe\", \"credit_id\": \"52fe48009251416c750acab7\", \"gender\": 0, \"id\": 1207252, \"name\": \"Jodie Landau\", \"order\": 36}, {\"cast_id\": 58, \"character\": \"Troupe\", \"credit_id\": \"52fe48009251416c750acabf\", \"gender\": 0, \"id\": 1207254, \"name\": \"Julie Lamm\", \"order\": 37}, {\"cast_id\": 59, \"character\": \"Troupe\", \"credit_id\": \"52fe48009251416c750acac3\", \"gender\": 0, \"id\": 1207257, \"name\": \"Cullen B. Madden\", \"order\": 38}, {\"cast_id\": 60, \"character\": \"Troupe\", \"credit_id\": \"52fe48009251416c750acac7\", \"gender\": 0, \"id\": 1207259, \"name\": \"Joseph Brady Madden\", \"order\": 39}, {\"cast_id\": 61, \"character\": \"Troupe\", \"credit_id\": \"52fe48009251416c750acacb\", \"gender\": 0, \"id\": 1207262, \"name\": \"Frankie Torres\", \"order\": 40}, {\"cast_id\": 62, \"character\": \"Troupe\", \"credit_id\": \"52fe48009251416c750acacf\", \"gender\": 1, \"id\": 1158600, \"name\": \"Austin Wilson\", \"order\": 41}, {\"cast_id\": 63, \"character\": \"Troupe\", \"credit_id\": \"52fe48019251416c750acad3\", \"gender\": 1, \"id\": 983705, \"name\": \"Sara Wilson\", \"order\": 42}, {\"cast_id\": 64, \"character\": \"Troupe\", \"credit_id\": \"52fe48019251416c750acad7\", \"gender\": 0, \"id\": 1207263, \"name\": \"Tamica Washington-Miller\", \"order\": 43}, {\"cast_id\": 65, \"character\": \"Op Center Staff\", \"credit_id\": \"52fe48019251416c750acadb\", \"gender\": 1, \"id\": 1145098, \"name\": \"Lucy Briant\", \"order\": 44}, {\"cast_id\": 66, \"character\": \"Op Center Staff\", \"credit_id\": \"52fe48019251416c750acadf\", \"gender\": 2, \"id\": 33305, \"name\": \"Nathan Meister\", \"order\": 45}, {\"cast_id\": 67, \"character\": \"Op Center Staff\", \"credit_id\": \"52fe48019251416c750acae3\", \"gender\": 0, \"id\": 1207264, \"name\": \"Gerry Blair\", \"order\": 46}, {\"cast_id\": 68, \"character\": \"Op Center Staff\", \"credit_id\": \"52fe48019251416c750acae7\", \"gender\": 2, \"id\": 33311, \"name\": \"Matthew Chamberlain\", \"order\": 47}, {\"cast_id\": 69, \"character\": \"Op Center Staff\", \"credit_id\": \"52fe48019251416c750acaeb\", \"gender\": 0, \"id\": 1207265, \"name\": \"Paul Yates\", \"order\": 48}, {\"cast_id\": 70, \"character\": \"Op Center Duty Officer\", \"credit_id\": \"52fe48019251416c750acaef\", \"gender\": 0, \"id\": 1207266, \"name\": \"Wray Wilson\", \"order\": 49}, {\"cast_id\": 71, \"character\": \"Op Center Staff\", \"credit_id\": \"52fe48019251416c750acaf3\", \"gender\": 2, \"id\": 54492, \"name\": \"James Gaylyn\", \"order\": 50}, {\"cast_id\": 72, \"character\": \"Dancer\", \"credit_id\": \"52fe48019251416c750acaf7\", \"gender\": 0, \"id\": 1207267, \"name\": \"Melvin Leno Clark III\", \"order\": 51}, {\"cast_id\": 73, \"character\": \"Dancer\", \"credit_id\": \"52fe48019251416c750acafb\", \"gender\": 0, \"id\": 1207268, \"name\": \"Carvon Futrell\", \"order\": 52}, {\"cast_id\": 74, \"character\": \"Dancer\", \"credit_id\": \"52fe48019251416c750acaff\", \"gender\": 0, \"id\": 1207269, \"name\": \"Brandon Jelkes\", \"order\": 53}, {\"cast_id\": 75, \"character\": \"Dancer\", \"credit_id\": \"52fe48019251416c750acb03\", \"gender\": 0, \"id\": 1207270, \"name\": \"Micah Moch\", \"order\": 54}, {\"cast_id\": 76, \"character\": \"Dancer\", \"credit_id\": \"52fe48019251416c750acb07\", \"gender\": 0, \"id\": 1207271, \"name\": \"Hanniyah Muhammad\", \"order\": 55}, {\"cast_id\": 77, \"character\": \"Dancer\", \"credit_id\": \"52fe48019251416c750acb0b\", \"gender\": 0, \"id\": 1207272, \"name\": \"Christopher Nolen\", \"order\": 56}, {\"cast_id\": 78, \"character\": \"Dancer\", \"credit_id\": \"52fe48019251416c750acb0f\", \"gender\": 0, \"id\": 1207273, \"name\": \"Christa Oliver\", \"order\": 57}, {\"cast_id\": 79, \"character\": \"Dancer\", \"credit_id\": \"52fe48019251416c750acb13\", \"gender\": 0, \"id\": 1207274, \"name\": \"April Marie Thomas\", \"order\": 58}, {\"cast_id\": 80, \"character\": \"Dancer\", \"credit_id\": \"52fe48019251416c750acb17\", \"gender\": 0, \"id\": 1207275, \"name\": \"Bravita A. Threatt\", \"order\": 59}, {\"cast_id\": 81, \"character\": \"Mining Chief (uncredited)\", \"credit_id\": \"52fe48019251416c750acb1b\", \"gender\": 0, \"id\": 1207276, \"name\": \"Colin Bleasdale\", \"order\": 60}, {\"cast_id\": 82, \"character\": \"Veteran Miner (uncredited)\", \"credit_id\": \"52fe48019251416c750acb1f\", \"gender\": 0, \"id\": 107969, \"name\": \"Mike Bodnar\", \"order\": 61}, {\"cast_id\": 83, \"character\": \"Richard (uncredited)\", \"credit_id\": \"52fe48019251416c750acb23\", \"gender\": 0, \"id\": 1207278, \"name\": \"Matt Clayton\", \"order\": 62}, {\"cast_id\": 84, \"character\": \"Nav\\'i (uncredited)\", \"credit_id\": \"52fe48019251416c750acb27\", \"gender\": 1, \"id\": 147898, \"name\": \"Nicole Dionne\", \"order\": 63}, {\"cast_id\": 85, \"character\": \"Trooper (uncredited)\", \"credit_id\": \"52fe48019251416c750acb2b\", \"gender\": 0, \"id\": 1207280, \"name\": \"Jamie Harrison\", \"order\": 64}, {\"cast_id\": 86, \"character\": \"Trooper (uncredited)\", \"credit_id\": \"52fe48019251416c750acb2f\", \"gender\": 0, \"id\": 1207281, \"name\": \"Allan Henry\", \"order\": 65}, {\"cast_id\": 87, \"character\": \"Ground Technician (uncredited)\", \"credit_id\": \"52fe48019251416c750acb33\", \"gender\": 2, \"id\": 1207282, \"name\": \"Anthony Ingruber\", \"order\": 66}, {\"cast_id\": 88, \"character\": \"Flight Crew Mechanic (uncredited)\", \"credit_id\": \"52fe48019251416c750acb37\", \"gender\": 0, \"id\": 1207283, \"name\": \"Ashley Jeffery\", \"order\": 67}, {\"cast_id\": 14, \"character\": \"Samson Pilot\", \"credit_id\": \"52fe48009251416c750ac9f9\", \"gender\": 0, \"id\": 98216, \"name\": \"Dean Knowsley\", \"order\": 68}, {\"cast_id\": 89, \"character\": \"Trooper (uncredited)\", \"credit_id\": \"52fe48019251416c750acb3b\", \"gender\": 0, \"id\": 1201399, \"name\": \"Joseph Mika-Hunt\", \"order\": 69}, {\"cast_id\": 90, \"character\": \"Banshee (uncredited)\", \"credit_id\": \"52fe48019251416c750acb3f\", \"gender\": 0, \"id\": 236696, \"name\": \"Terry Notary\", \"order\": 70}, {\"cast_id\": 91, \"character\": \"Soldier (uncredited)\", \"credit_id\": \"52fe48019251416c750acb43\", \"gender\": 0, \"id\": 1207287, \"name\": \"Kai Pantano\", \"order\": 71}, {\"cast_id\": 92, \"character\": \"Blast Technician (uncredited)\", \"credit_id\": \"52fe48019251416c750acb47\", \"gender\": 0, \"id\": 1207288, \"name\": \"Logan Pithyou\", \"order\": 72}, {\"cast_id\": 93, \"character\": \"Vindum Raah (uncredited)\", \"credit_id\": \"52fe48019251416c750acb4b\", \"gender\": 0, \"id\": 1207289, \"name\": \"Stuart Pollock\", \"order\": 73}, {\"cast_id\": 94, \"character\": \"Hero (uncredited)\", \"credit_id\": \"52fe48019251416c750acb4f\", \"gender\": 0, \"id\": 584868, \"name\": \"Raja\", \"order\": 74}, {\"cast_id\": 95, \"character\": \"Ops Centreworker (uncredited)\", \"credit_id\": \"52fe48019251416c750acb53\", \"gender\": 0, \"id\": 1207290, \"name\": \"Gareth Ruck\", \"order\": 75}, {\"cast_id\": 96, \"character\": \"Engineer (uncredited)\", \"credit_id\": \"52fe48019251416c750acb57\", \"gender\": 0, \"id\": 1062463, \"name\": \"Rhian Sheehan\", \"order\": 76}, {\"cast_id\": 97, \"character\": \"Col. Quaritch\\'s Mech Suit (uncredited)\", \"credit_id\": \"52fe48019251416c750acb5b\", \"gender\": 0, \"id\": 60656, \"name\": \"T. J. Storm\", \"order\": 77}, {\"cast_id\": 98, \"character\": \"Female Marine (uncredited)\", \"credit_id\": \"52fe48019251416c750acb5f\", \"gender\": 0, \"id\": 1207291, \"name\": \"Jodie Taylor\", \"order\": 78}, {\"cast_id\": 99, \"character\": \"Ikran Clan Leader (uncredited)\", \"credit_id\": \"52fe48019251416c750acb63\", \"gender\": 1, \"id\": 1186027, \"name\": \"Alicia Vela-Bailey\", \"order\": 79}, {\"cast_id\": 100, \"character\": \"Geologist (uncredited)\", \"credit_id\": \"52fe48019251416c750acb67\", \"gender\": 0, \"id\": 1207292, \"name\": \"Richard Whiteside\", \"order\": 80}, {\"cast_id\": 101, \"character\": \"Na\\'vi (uncredited)\", \"credit_id\": \"52fe48019251416c750acb6b\", \"gender\": 0, \"id\": 103259, \"name\": \"Nikie Zambo\", \"order\": 81}, {\"cast_id\": 102, \"character\": \"Ambient Room Tech / Troupe\", \"credit_id\": \"52fe48019251416c750acb6f\", \"gender\": 1, \"id\": 42286, \"name\": \"Julene Renee\", \"order\": 82}]'"
      ]
     },
     "execution_count": 35,
     "metadata": {},
     "output_type": "execute_result"
    }
   ],
   "source": [
    "movies2.cast[0]"
   ]
  },
  {
   "cell_type": "code",
   "execution_count": 126,
   "metadata": {
    "metadata": {}
   },
   "outputs": [
    {
     "data": {
      "text/html": [
       "<div>\n",
       "<style scoped>\n",
       "    .dataframe tbody tr th:only-of-type {\n",
       "        vertical-align: middle;\n",
       "    }\n",
       "\n",
       "    .dataframe tbody tr th {\n",
       "        vertical-align: top;\n",
       "    }\n",
       "\n",
       "    .dataframe thead th {\n",
       "        text-align: right;\n",
       "    }\n",
       "</style>\n",
       "<table border=\"1\" class=\"dataframe\">\n",
       "  <thead>\n",
       "    <tr style=\"text-align: right;\">\n",
       "      <th></th>\n",
       "      <th>movie_id</th>\n",
       "      <th>title</th>\n",
       "      <th>overview</th>\n",
       "      <th>genres</th>\n",
       "      <th>keywords</th>\n",
       "      <th>cast</th>\n",
       "      <th>crew</th>\n",
       "    </tr>\n",
       "  </thead>\n",
       "  <tbody>\n",
       "    <tr>\n",
       "      <th>0</th>\n",
       "      <td>19995</td>\n",
       "      <td>Avatar</td>\n",
       "      <td>In the 22nd century, a paraplegic Marine is di...</td>\n",
       "      <td>[Action]</td>\n",
       "      <td>[culture clash]</td>\n",
       "      <td>[{\"cast_id\": 242, \"character\": \"Jake Sully\", \"...</td>\n",
       "      <td>[{\"credit_id\": \"52fe48009251416c750aca23\", \"de...</td>\n",
       "    </tr>\n",
       "    <tr>\n",
       "      <th>1</th>\n",
       "      <td>285</td>\n",
       "      <td>Pirates of the Caribbean: At World's End</td>\n",
       "      <td>Captain Barbossa, long believed to be dead, ha...</td>\n",
       "      <td>[Adventure]</td>\n",
       "      <td>[ocean]</td>\n",
       "      <td>[{\"cast_id\": 4, \"character\": \"Captain Jack Spa...</td>\n",
       "      <td>[{\"credit_id\": \"52fe4232c3a36847f800b579\", \"de...</td>\n",
       "    </tr>\n",
       "  </tbody>\n",
       "</table>\n",
       "</div>"
      ],
      "text/plain": [
       "   movie_id                                     title  \\\n",
       "0     19995                                    Avatar   \n",
       "1       285  Pirates of the Caribbean: At World's End   \n",
       "\n",
       "                                            overview       genres  \\\n",
       "0  In the 22nd century, a paraplegic Marine is di...     [Action]   \n",
       "1  Captain Barbossa, long believed to be dead, ha...  [Adventure]   \n",
       "\n",
       "          keywords                                               cast  \\\n",
       "0  [culture clash]  [{\"cast_id\": 242, \"character\": \"Jake Sully\", \"...   \n",
       "1          [ocean]  [{\"cast_id\": 4, \"character\": \"Captain Jack Spa...   \n",
       "\n",
       "                                                crew  \n",
       "0  [{\"credit_id\": \"52fe48009251416c750aca23\", \"de...  \n",
       "1  [{\"credit_id\": \"52fe4232c3a36847f800b579\", \"de...  "
      ]
     },
     "execution_count": 126,
     "metadata": {},
     "output_type": "execute_result"
    }
   ],
   "source": [
    "movies2.head(2)"
   ]
  },
  {
   "cell_type": "markdown",
   "metadata": {},
   "source": [
    "#### iss function se only three cast name aa jayega "
   ]
  },
  {
   "cell_type": "code",
   "execution_count": 125,
   "metadata": {
    "metadata": {}
   },
   "outputs": [],
   "source": [
    "\n",
    "def convert3(obj):\n",
    "    l=[]\n",
    "    counter=0\n",
    "    for i in ast.literal_eval(obj):\n",
    "        if counter != 3:\n",
    "            l.append(i['name'])\n",
    "        else:\n",
    "            break\n",
    "    return l"
   ]
  },
  {
   "cell_type": "code",
   "execution_count": 127,
   "metadata": {
    "metadata": {}
   },
   "outputs": [
    {
     "name": "stderr",
     "output_type": "stream",
     "text": [
      "C:\\Users\\Ritik\\AppData\\Local\\Temp\\ipykernel_3644\\2579222004.py:1: SettingWithCopyWarning: \n",
      "A value is trying to be set on a copy of a slice from a DataFrame.\n",
      "Try using .loc[row_indexer,col_indexer] = value instead\n",
      "\n",
      "See the caveats in the documentation: https://pandas.pydata.org/pandas-docs/stable/user_guide/indexing.html#returning-a-view-versus-a-copy\n",
      "  movies2['cast'] = movies2['cast'].apply(convert3)\n"
     ]
    }
   ],
   "source": [
    "movies2['cast'] = movies2['cast'].apply(convert3)"
   ]
  },
  {
   "cell_type": "code",
   "execution_count": 133,
   "metadata": {
    "metadata": {}
   },
   "outputs": [
    {
     "data": {
      "text/html": [
       "<div>\n",
       "<style scoped>\n",
       "    .dataframe tbody tr th:only-of-type {\n",
       "        vertical-align: middle;\n",
       "    }\n",
       "\n",
       "    .dataframe tbody tr th {\n",
       "        vertical-align: top;\n",
       "    }\n",
       "\n",
       "    .dataframe thead th {\n",
       "        text-align: right;\n",
       "    }\n",
       "</style>\n",
       "<table border=\"1\" class=\"dataframe\">\n",
       "  <thead>\n",
       "    <tr style=\"text-align: right;\">\n",
       "      <th></th>\n",
       "      <th>movie_id</th>\n",
       "      <th>title</th>\n",
       "      <th>overview</th>\n",
       "      <th>genres</th>\n",
       "      <th>keywords</th>\n",
       "      <th>cast</th>\n",
       "      <th>crew</th>\n",
       "    </tr>\n",
       "  </thead>\n",
       "  <tbody>\n",
       "    <tr>\n",
       "      <th>0</th>\n",
       "      <td>19995</td>\n",
       "      <td>Avatar</td>\n",
       "      <td>In the 22nd century, a paraplegic Marine is di...</td>\n",
       "      <td>[Action]</td>\n",
       "      <td>[culture clash]</td>\n",
       "      <td>[Sam Worthington, Zoe Saldana, Sigourney Weave...</td>\n",
       "      <td>[{\"credit_id\": \"52fe48009251416c750aca23\", \"de...</td>\n",
       "    </tr>\n",
       "    <tr>\n",
       "      <th>1</th>\n",
       "      <td>285</td>\n",
       "      <td>Pirates of the Caribbean: At World's End</td>\n",
       "      <td>Captain Barbossa, long believed to be dead, ha...</td>\n",
       "      <td>[Adventure]</td>\n",
       "      <td>[ocean]</td>\n",
       "      <td>[Johnny Depp, Orlando Bloom, Keira Knightley, ...</td>\n",
       "      <td>[{\"credit_id\": \"52fe4232c3a36847f800b579\", \"de...</td>\n",
       "    </tr>\n",
       "  </tbody>\n",
       "</table>\n",
       "</div>"
      ],
      "text/plain": [
       "   movie_id                                     title  \\\n",
       "0     19995                                    Avatar   \n",
       "1       285  Pirates of the Caribbean: At World's End   \n",
       "\n",
       "                                            overview       genres  \\\n",
       "0  In the 22nd century, a paraplegic Marine is di...     [Action]   \n",
       "1  Captain Barbossa, long believed to be dead, ha...  [Adventure]   \n",
       "\n",
       "          keywords                                               cast  \\\n",
       "0  [culture clash]  [Sam Worthington, Zoe Saldana, Sigourney Weave...   \n",
       "1          [ocean]  [Johnny Depp, Orlando Bloom, Keira Knightley, ...   \n",
       "\n",
       "                                                crew  \n",
       "0  [{\"credit_id\": \"52fe48009251416c750aca23\", \"de...  \n",
       "1  [{\"credit_id\": \"52fe4232c3a36847f800b579\", \"de...  "
      ]
     },
     "execution_count": 133,
     "metadata": {},
     "output_type": "execute_result"
    }
   ],
   "source": [
    "movies2.head(2)"
   ]
  },
  {
   "cell_type": "code",
   "execution_count": null,
   "metadata": {},
   "outputs": [],
   "source": []
  },
  {
   "cell_type": "markdown",
   "metadata": {},
   "source": [
    "### saving as csv file"
   ]
  },
  {
   "cell_type": "code",
   "execution_count": 134,
   "metadata": {
    "metadata": {}
   },
   "outputs": [],
   "source": [
    "movies2.to_csv('movies2.csv',index=True)"
   ]
  },
  {
   "cell_type": "code",
   "execution_count": 2,
   "metadata": {
    "metadata": {}
   },
   "outputs": [
    {
     "data": {
      "text/plain": [
       "<function ast.literal_eval(node_or_string)>"
      ]
     },
     "execution_count": 2,
     "metadata": {},
     "output_type": "execute_result"
    }
   ],
   "source": [
    "import numpy as np\n",
    "import pandas as pd\n",
    "import ast\n",
    "ast.literal_eval"
   ]
  },
  {
   "cell_type": "code",
   "execution_count": 3,
   "metadata": {
    "metadata": {}
   },
   "outputs": [],
   "source": [
    "movies_new = pd.read_csv('movies2.csv')"
   ]
  },
  {
   "cell_type": "code",
   "execution_count": 4,
   "metadata": {
    "metadata": {}
   },
   "outputs": [
    {
     "ename": "NameError",
     "evalue": "name 'movies2' is not defined",
     "output_type": "error",
     "traceback": [
      "\u001b[1;31m---------------------------------------------------------------------------\u001b[0m",
      "\u001b[1;31mNameError\u001b[0m                                 Traceback (most recent call last)",
      "Cell \u001b[1;32mIn[4], line 1\u001b[0m\n\u001b[1;32m----> 1\u001b[0m \u001b[43mmovies2\u001b[49m\u001b[38;5;241m.\u001b[39mhead(\u001b[38;5;241m2\u001b[39m)\n",
      "\u001b[1;31mNameError\u001b[0m: name 'movies2' is not defined"
     ]
    }
   ],
   "source": [
    "movies2.head(2)"
   ]
  },
  {
   "cell_type": "code",
   "execution_count": 5,
   "metadata": {
    "metadata": {}
   },
   "outputs": [
    {
     "ename": "ValueError",
     "evalue": "malformed node or string: nan",
     "output_type": "error",
     "traceback": [
      "\u001b[1;31m---------------------------------------------------------------------------\u001b[0m",
      "\u001b[1;31mValueError\u001b[0m                                Traceback (most recent call last)",
      "Cell \u001b[1;32mIn[5], line 9\u001b[0m\n\u001b[0;32m      1\u001b[0m \u001b[38;5;28;01mimport\u001b[39;00m \u001b[38;5;21;01mast\u001b[39;00m\n\u001b[0;32m      3\u001b[0m \u001b[38;5;66;03m# Assuming 'movies_new' DataFrame has 'keywords' column where values are stored as string representations of lists\u001b[39;00m\n\u001b[0;32m      4\u001b[0m \n\u001b[0;32m      5\u001b[0m \u001b[38;5;66;03m# Example:\u001b[39;00m\n\u001b[0;32m      6\u001b[0m \u001b[38;5;66;03m# movies_new = pd.DataFrame({'keywords': [\"['Adventure', 'Action']\", \"['Drama', 'Romance']\"]})\u001b[39;00m\n\u001b[0;32m      7\u001b[0m \n\u001b[0;32m      8\u001b[0m \u001b[38;5;66;03m# Convert string representations to actual lists\u001b[39;00m\n\u001b[1;32m----> 9\u001b[0m movies_new[\u001b[38;5;124m'\u001b[39m\u001b[38;5;124mkeywords\u001b[39m\u001b[38;5;124m'\u001b[39m] \u001b[38;5;241m=\u001b[39m \u001b[43mmovies_new\u001b[49m\u001b[43m[\u001b[49m\u001b[38;5;124;43m'\u001b[39;49m\u001b[38;5;124;43mkeywords\u001b[39;49m\u001b[38;5;124;43m'\u001b[39;49m\u001b[43m]\u001b[49m\u001b[38;5;241;43m.\u001b[39;49m\u001b[43mapply\u001b[49m\u001b[43m(\u001b[49m\u001b[43mast\u001b[49m\u001b[38;5;241;43m.\u001b[39;49m\u001b[43mliteral_eval\u001b[49m\u001b[43m)\u001b[49m\n",
      "File \u001b[1;32me:\\python_env\\movie\\Lib\\site-packages\\pandas\\core\\series.py:4924\u001b[0m, in \u001b[0;36mSeries.apply\u001b[1;34m(self, func, convert_dtype, args, by_row, **kwargs)\u001b[0m\n\u001b[0;32m   4789\u001b[0m \u001b[38;5;28;01mdef\u001b[39;00m \u001b[38;5;21mapply\u001b[39m(\n\u001b[0;32m   4790\u001b[0m     \u001b[38;5;28mself\u001b[39m,\n\u001b[0;32m   4791\u001b[0m     func: AggFuncType,\n\u001b[1;32m   (...)\u001b[0m\n\u001b[0;32m   4796\u001b[0m     \u001b[38;5;241m*\u001b[39m\u001b[38;5;241m*\u001b[39mkwargs,\n\u001b[0;32m   4797\u001b[0m ) \u001b[38;5;241m-\u001b[39m\u001b[38;5;241m>\u001b[39m DataFrame \u001b[38;5;241m|\u001b[39m Series:\n\u001b[0;32m   4798\u001b[0m \u001b[38;5;250m    \u001b[39m\u001b[38;5;124;03m\"\"\"\u001b[39;00m\n\u001b[0;32m   4799\u001b[0m \u001b[38;5;124;03m    Invoke function on values of Series.\u001b[39;00m\n\u001b[0;32m   4800\u001b[0m \n\u001b[1;32m   (...)\u001b[0m\n\u001b[0;32m   4915\u001b[0m \u001b[38;5;124;03m    dtype: float64\u001b[39;00m\n\u001b[0;32m   4916\u001b[0m \u001b[38;5;124;03m    \"\"\"\u001b[39;00m\n\u001b[0;32m   4917\u001b[0m     \u001b[38;5;28;01mreturn\u001b[39;00m \u001b[43mSeriesApply\u001b[49m\u001b[43m(\u001b[49m\n\u001b[0;32m   4918\u001b[0m \u001b[43m        \u001b[49m\u001b[38;5;28;43mself\u001b[39;49m\u001b[43m,\u001b[49m\n\u001b[0;32m   4919\u001b[0m \u001b[43m        \u001b[49m\u001b[43mfunc\u001b[49m\u001b[43m,\u001b[49m\n\u001b[0;32m   4920\u001b[0m \u001b[43m        \u001b[49m\u001b[43mconvert_dtype\u001b[49m\u001b[38;5;241;43m=\u001b[39;49m\u001b[43mconvert_dtype\u001b[49m\u001b[43m,\u001b[49m\n\u001b[0;32m   4921\u001b[0m \u001b[43m        \u001b[49m\u001b[43mby_row\u001b[49m\u001b[38;5;241;43m=\u001b[39;49m\u001b[43mby_row\u001b[49m\u001b[43m,\u001b[49m\n\u001b[0;32m   4922\u001b[0m \u001b[43m        \u001b[49m\u001b[43margs\u001b[49m\u001b[38;5;241;43m=\u001b[39;49m\u001b[43margs\u001b[49m\u001b[43m,\u001b[49m\n\u001b[0;32m   4923\u001b[0m \u001b[43m        \u001b[49m\u001b[43mkwargs\u001b[49m\u001b[38;5;241;43m=\u001b[39;49m\u001b[43mkwargs\u001b[49m\u001b[43m,\u001b[49m\n\u001b[1;32m-> 4924\u001b[0m \u001b[43m    \u001b[49m\u001b[43m)\u001b[49m\u001b[38;5;241;43m.\u001b[39;49m\u001b[43mapply\u001b[49m\u001b[43m(\u001b[49m\u001b[43m)\u001b[49m\n",
      "File \u001b[1;32me:\\python_env\\movie\\Lib\\site-packages\\pandas\\core\\apply.py:1427\u001b[0m, in \u001b[0;36mSeriesApply.apply\u001b[1;34m(self)\u001b[0m\n\u001b[0;32m   1424\u001b[0m     \u001b[38;5;28;01mreturn\u001b[39;00m \u001b[38;5;28mself\u001b[39m\u001b[38;5;241m.\u001b[39mapply_compat()\n\u001b[0;32m   1426\u001b[0m \u001b[38;5;66;03m# self.func is Callable\u001b[39;00m\n\u001b[1;32m-> 1427\u001b[0m \u001b[38;5;28;01mreturn\u001b[39;00m \u001b[38;5;28;43mself\u001b[39;49m\u001b[38;5;241;43m.\u001b[39;49m\u001b[43mapply_standard\u001b[49m\u001b[43m(\u001b[49m\u001b[43m)\u001b[49m\n",
      "File \u001b[1;32me:\\python_env\\movie\\Lib\\site-packages\\pandas\\core\\apply.py:1507\u001b[0m, in \u001b[0;36mSeriesApply.apply_standard\u001b[1;34m(self)\u001b[0m\n\u001b[0;32m   1501\u001b[0m \u001b[38;5;66;03m# row-wise access\u001b[39;00m\n\u001b[0;32m   1502\u001b[0m \u001b[38;5;66;03m# apply doesn't have a `na_action` keyword and for backward compat reasons\u001b[39;00m\n\u001b[0;32m   1503\u001b[0m \u001b[38;5;66;03m# we need to give `na_action=\"ignore\"` for categorical data.\u001b[39;00m\n\u001b[0;32m   1504\u001b[0m \u001b[38;5;66;03m# TODO: remove the `na_action=\"ignore\"` when that default has been changed in\u001b[39;00m\n\u001b[0;32m   1505\u001b[0m \u001b[38;5;66;03m#  Categorical (GH51645).\u001b[39;00m\n\u001b[0;32m   1506\u001b[0m action \u001b[38;5;241m=\u001b[39m \u001b[38;5;124m\"\u001b[39m\u001b[38;5;124mignore\u001b[39m\u001b[38;5;124m\"\u001b[39m \u001b[38;5;28;01mif\u001b[39;00m \u001b[38;5;28misinstance\u001b[39m(obj\u001b[38;5;241m.\u001b[39mdtype, CategoricalDtype) \u001b[38;5;28;01melse\u001b[39;00m \u001b[38;5;28;01mNone\u001b[39;00m\n\u001b[1;32m-> 1507\u001b[0m mapped \u001b[38;5;241m=\u001b[39m \u001b[43mobj\u001b[49m\u001b[38;5;241;43m.\u001b[39;49m\u001b[43m_map_values\u001b[49m\u001b[43m(\u001b[49m\n\u001b[0;32m   1508\u001b[0m \u001b[43m    \u001b[49m\u001b[43mmapper\u001b[49m\u001b[38;5;241;43m=\u001b[39;49m\u001b[43mcurried\u001b[49m\u001b[43m,\u001b[49m\u001b[43m \u001b[49m\u001b[43mna_action\u001b[49m\u001b[38;5;241;43m=\u001b[39;49m\u001b[43maction\u001b[49m\u001b[43m,\u001b[49m\u001b[43m \u001b[49m\u001b[43mconvert\u001b[49m\u001b[38;5;241;43m=\u001b[39;49m\u001b[38;5;28;43mself\u001b[39;49m\u001b[38;5;241;43m.\u001b[39;49m\u001b[43mconvert_dtype\u001b[49m\n\u001b[0;32m   1509\u001b[0m \u001b[43m\u001b[49m\u001b[43m)\u001b[49m\n\u001b[0;32m   1511\u001b[0m \u001b[38;5;28;01mif\u001b[39;00m \u001b[38;5;28mlen\u001b[39m(mapped) \u001b[38;5;129;01mand\u001b[39;00m \u001b[38;5;28misinstance\u001b[39m(mapped[\u001b[38;5;241m0\u001b[39m], ABCSeries):\n\u001b[0;32m   1512\u001b[0m     \u001b[38;5;66;03m# GH#43986 Need to do list(mapped) in order to get treated as nested\u001b[39;00m\n\u001b[0;32m   1513\u001b[0m     \u001b[38;5;66;03m#  See also GH#25959 regarding EA support\u001b[39;00m\n\u001b[0;32m   1514\u001b[0m     \u001b[38;5;28;01mreturn\u001b[39;00m obj\u001b[38;5;241m.\u001b[39m_constructor_expanddim(\u001b[38;5;28mlist\u001b[39m(mapped), index\u001b[38;5;241m=\u001b[39mobj\u001b[38;5;241m.\u001b[39mindex)\n",
      "File \u001b[1;32me:\\python_env\\movie\\Lib\\site-packages\\pandas\\core\\base.py:921\u001b[0m, in \u001b[0;36mIndexOpsMixin._map_values\u001b[1;34m(self, mapper, na_action, convert)\u001b[0m\n\u001b[0;32m    918\u001b[0m \u001b[38;5;28;01mif\u001b[39;00m \u001b[38;5;28misinstance\u001b[39m(arr, ExtensionArray):\n\u001b[0;32m    919\u001b[0m     \u001b[38;5;28;01mreturn\u001b[39;00m arr\u001b[38;5;241m.\u001b[39mmap(mapper, na_action\u001b[38;5;241m=\u001b[39mna_action)\n\u001b[1;32m--> 921\u001b[0m \u001b[38;5;28;01mreturn\u001b[39;00m \u001b[43malgorithms\u001b[49m\u001b[38;5;241;43m.\u001b[39;49m\u001b[43mmap_array\u001b[49m\u001b[43m(\u001b[49m\u001b[43marr\u001b[49m\u001b[43m,\u001b[49m\u001b[43m \u001b[49m\u001b[43mmapper\u001b[49m\u001b[43m,\u001b[49m\u001b[43m \u001b[49m\u001b[43mna_action\u001b[49m\u001b[38;5;241;43m=\u001b[39;49m\u001b[43mna_action\u001b[49m\u001b[43m,\u001b[49m\u001b[43m \u001b[49m\u001b[43mconvert\u001b[49m\u001b[38;5;241;43m=\u001b[39;49m\u001b[43mconvert\u001b[49m\u001b[43m)\u001b[49m\n",
      "File \u001b[1;32me:\\python_env\\movie\\Lib\\site-packages\\pandas\\core\\algorithms.py:1743\u001b[0m, in \u001b[0;36mmap_array\u001b[1;34m(arr, mapper, na_action, convert)\u001b[0m\n\u001b[0;32m   1741\u001b[0m values \u001b[38;5;241m=\u001b[39m arr\u001b[38;5;241m.\u001b[39mastype(\u001b[38;5;28mobject\u001b[39m, copy\u001b[38;5;241m=\u001b[39m\u001b[38;5;28;01mFalse\u001b[39;00m)\n\u001b[0;32m   1742\u001b[0m \u001b[38;5;28;01mif\u001b[39;00m na_action \u001b[38;5;129;01mis\u001b[39;00m \u001b[38;5;28;01mNone\u001b[39;00m:\n\u001b[1;32m-> 1743\u001b[0m     \u001b[38;5;28;01mreturn\u001b[39;00m \u001b[43mlib\u001b[49m\u001b[38;5;241;43m.\u001b[39;49m\u001b[43mmap_infer\u001b[49m\u001b[43m(\u001b[49m\u001b[43mvalues\u001b[49m\u001b[43m,\u001b[49m\u001b[43m \u001b[49m\u001b[43mmapper\u001b[49m\u001b[43m,\u001b[49m\u001b[43m \u001b[49m\u001b[43mconvert\u001b[49m\u001b[38;5;241;43m=\u001b[39;49m\u001b[43mconvert\u001b[49m\u001b[43m)\u001b[49m\n\u001b[0;32m   1744\u001b[0m \u001b[38;5;28;01melse\u001b[39;00m:\n\u001b[0;32m   1745\u001b[0m     \u001b[38;5;28;01mreturn\u001b[39;00m lib\u001b[38;5;241m.\u001b[39mmap_infer_mask(\n\u001b[0;32m   1746\u001b[0m         values, mapper, mask\u001b[38;5;241m=\u001b[39misna(values)\u001b[38;5;241m.\u001b[39mview(np\u001b[38;5;241m.\u001b[39muint8), convert\u001b[38;5;241m=\u001b[39mconvert\n\u001b[0;32m   1747\u001b[0m     )\n",
      "File \u001b[1;32mlib.pyx:2972\u001b[0m, in \u001b[0;36mpandas._libs.lib.map_infer\u001b[1;34m()\u001b[0m\n",
      "File \u001b[1;32mE:\\pythonexe\\Lib\\ast.py:110\u001b[0m, in \u001b[0;36mliteral_eval\u001b[1;34m(node_or_string)\u001b[0m\n\u001b[0;32m    108\u001b[0m                 \u001b[38;5;28;01mreturn\u001b[39;00m left \u001b[38;5;241m-\u001b[39m right\n\u001b[0;32m    109\u001b[0m     \u001b[38;5;28;01mreturn\u001b[39;00m _convert_signed_num(node)\n\u001b[1;32m--> 110\u001b[0m \u001b[38;5;28;01mreturn\u001b[39;00m \u001b[43m_convert\u001b[49m\u001b[43m(\u001b[49m\u001b[43mnode_or_string\u001b[49m\u001b[43m)\u001b[49m\n",
      "File \u001b[1;32mE:\\pythonexe\\Lib\\ast.py:109\u001b[0m, in \u001b[0;36mliteral_eval.<locals>._convert\u001b[1;34m(node)\u001b[0m\n\u001b[0;32m    107\u001b[0m         \u001b[38;5;28;01melse\u001b[39;00m:\n\u001b[0;32m    108\u001b[0m             \u001b[38;5;28;01mreturn\u001b[39;00m left \u001b[38;5;241m-\u001b[39m right\n\u001b[1;32m--> 109\u001b[0m \u001b[38;5;28;01mreturn\u001b[39;00m \u001b[43m_convert_signed_num\u001b[49m\u001b[43m(\u001b[49m\u001b[43mnode\u001b[49m\u001b[43m)\u001b[49m\n",
      "File \u001b[1;32mE:\\pythonexe\\Lib\\ast.py:83\u001b[0m, in \u001b[0;36mliteral_eval.<locals>._convert_signed_num\u001b[1;34m(node)\u001b[0m\n\u001b[0;32m     81\u001b[0m     \u001b[38;5;28;01melse\u001b[39;00m:\n\u001b[0;32m     82\u001b[0m         \u001b[38;5;28;01mreturn\u001b[39;00m \u001b[38;5;241m-\u001b[39m operand\n\u001b[1;32m---> 83\u001b[0m \u001b[38;5;28;01mreturn\u001b[39;00m \u001b[43m_convert_num\u001b[49m\u001b[43m(\u001b[49m\u001b[43mnode\u001b[49m\u001b[43m)\u001b[49m\n",
      "File \u001b[1;32mE:\\pythonexe\\Lib\\ast.py:74\u001b[0m, in \u001b[0;36mliteral_eval.<locals>._convert_num\u001b[1;34m(node)\u001b[0m\n\u001b[0;32m     72\u001b[0m \u001b[38;5;28;01mdef\u001b[39;00m \u001b[38;5;21m_convert_num\u001b[39m(node):\n\u001b[0;32m     73\u001b[0m     \u001b[38;5;28;01mif\u001b[39;00m \u001b[38;5;129;01mnot\u001b[39;00m \u001b[38;5;28misinstance\u001b[39m(node, Constant) \u001b[38;5;129;01mor\u001b[39;00m \u001b[38;5;28mtype\u001b[39m(node\u001b[38;5;241m.\u001b[39mvalue) \u001b[38;5;129;01mnot\u001b[39;00m \u001b[38;5;129;01min\u001b[39;00m (\u001b[38;5;28mint\u001b[39m, \u001b[38;5;28mfloat\u001b[39m, \u001b[38;5;28mcomplex\u001b[39m):\n\u001b[1;32m---> 74\u001b[0m         \u001b[43m_raise_malformed_node\u001b[49m\u001b[43m(\u001b[49m\u001b[43mnode\u001b[49m\u001b[43m)\u001b[49m\n\u001b[0;32m     75\u001b[0m     \u001b[38;5;28;01mreturn\u001b[39;00m node\u001b[38;5;241m.\u001b[39mvalue\n",
      "File \u001b[1;32mE:\\pythonexe\\Lib\\ast.py:71\u001b[0m, in \u001b[0;36mliteral_eval.<locals>._raise_malformed_node\u001b[1;34m(node)\u001b[0m\n\u001b[0;32m     69\u001b[0m \u001b[38;5;28;01mif\u001b[39;00m lno \u001b[38;5;241m:=\u001b[39m \u001b[38;5;28mgetattr\u001b[39m(node, \u001b[38;5;124m'\u001b[39m\u001b[38;5;124mlineno\u001b[39m\u001b[38;5;124m'\u001b[39m, \u001b[38;5;28;01mNone\u001b[39;00m):\n\u001b[0;32m     70\u001b[0m     msg \u001b[38;5;241m+\u001b[39m\u001b[38;5;241m=\u001b[39m \u001b[38;5;124mf\u001b[39m\u001b[38;5;124m'\u001b[39m\u001b[38;5;124m on line \u001b[39m\u001b[38;5;132;01m{\u001b[39;00mlno\u001b[38;5;132;01m}\u001b[39;00m\u001b[38;5;124m'\u001b[39m\n\u001b[1;32m---> 71\u001b[0m \u001b[38;5;28;01mraise\u001b[39;00m \u001b[38;5;167;01mValueError\u001b[39;00m(msg \u001b[38;5;241m+\u001b[39m \u001b[38;5;124mf\u001b[39m\u001b[38;5;124m'\u001b[39m\u001b[38;5;124m: \u001b[39m\u001b[38;5;132;01m{\u001b[39;00mnode\u001b[38;5;132;01m!r}\u001b[39;00m\u001b[38;5;124m'\u001b[39m)\n",
      "\u001b[1;31mValueError\u001b[0m: malformed node or string: nan"
     ]
    }
   ],
   "source": [
    "import ast\n",
    "\n",
    "# Assuming 'movies_new' DataFrame has 'keywords' column where values are stored as string representations of lists\n",
    "\n",
    "# Example:\n",
    "# movies_new = pd.DataFrame({'keywords': [\"['Adventure', 'Action']\", \"['Drama', 'Romance']\"]})\n",
    "\n",
    "# Convert string representations to actual lists\n",
    "movies_new['keywords'] = movies_new['keywords'].apply(ast.literal_eval)\n"
   ]
  },
  {
   "cell_type": "code",
   "execution_count": 7,
   "metadata": {
    "metadata": {}
   },
   "outputs": [],
   "source": [
    "import ast\n",
    "\n",
    "# Custom function to safely convert string representations to actual lists\n",
    "def safe_literal_eval(x):\n",
    "    try:\n",
    "        return ast.literal_eval(x)\n",
    "    except (ValueError, SyntaxError):\n",
    "        # If evaluation fails, return an empty list or handle the error as per your requirement\n",
    "        return []\n",
    "\n",
    "# Assuming 'movies_new' DataFrame has 'keywords' column where values are stored as string representations of lists\n",
    "# Apply the custom function to convert string representations to actual lists\n",
    "movies_new['genres'] = movies_new['genres'].apply(safe_literal_eval)\n"
   ]
  },
  {
   "cell_type": "code",
   "execution_count": null,
   "metadata": {
    "metadata": {}
   },
   "outputs": [
    {
     "data": {
      "text/html": [
       "<div>\n",
       "<style scoped>\n",
       "    .dataframe tbody tr th:only-of-type {\n",
       "        vertical-align: middle;\n",
       "    }\n",
       "\n",
       "    .dataframe tbody tr th {\n",
       "        vertical-align: top;\n",
       "    }\n",
       "\n",
       "    .dataframe thead th {\n",
       "        text-align: right;\n",
       "    }\n",
       "</style>\n",
       "<table border=\"1\" class=\"dataframe\">\n",
       "  <thead>\n",
       "    <tr style=\"text-align: right;\">\n",
       "      <th></th>\n",
       "      <th>Unnamed: 0</th>\n",
       "      <th>movie_id</th>\n",
       "      <th>title</th>\n",
       "      <th>overview</th>\n",
       "      <th>genres</th>\n",
       "      <th>keywords</th>\n",
       "      <th>cast</th>\n",
       "      <th>crew</th>\n",
       "    </tr>\n",
       "  </thead>\n",
       "  <tbody>\n",
       "    <tr>\n",
       "      <th>0</th>\n",
       "      <td>0</td>\n",
       "      <td>19995</td>\n",
       "      <td>Avatar</td>\n",
       "      <td>In the 22nd century, a paraplegic Marine is di...</td>\n",
       "      <td>[Action]</td>\n",
       "      <td>['culture clash']</td>\n",
       "      <td>['Sam Worthington', 'Zoe Saldana', 'Sigourney ...</td>\n",
       "      <td>[{\"credit_id\": \"52fe48009251416c750aca23\", \"de...</td>\n",
       "    </tr>\n",
       "    <tr>\n",
       "      <th>1</th>\n",
       "      <td>1</td>\n",
       "      <td>285</td>\n",
       "      <td>Pirates of the Caribbean: At World's End</td>\n",
       "      <td>Captain Barbossa, long believed to be dead, ha...</td>\n",
       "      <td>[Adventure]</td>\n",
       "      <td>['ocean']</td>\n",
       "      <td>['Johnny Depp', 'Orlando Bloom', 'Keira Knight...</td>\n",
       "      <td>[{\"credit_id\": \"52fe4232c3a36847f800b579\", \"de...</td>\n",
       "    </tr>\n",
       "  </tbody>\n",
       "</table>\n",
       "</div>"
      ],
      "text/plain": [
       "   Unnamed: 0  movie_id                                     title  \\\n",
       "0           0     19995                                    Avatar   \n",
       "1           1       285  Pirates of the Caribbean: At World's End   \n",
       "\n",
       "                                            overview       genres  \\\n",
       "0  In the 22nd century, a paraplegic Marine is di...     [Action]   \n",
       "1  Captain Barbossa, long believed to be dead, ha...  [Adventure]   \n",
       "\n",
       "            keywords                                               cast  \\\n",
       "0  ['culture clash']  ['Sam Worthington', 'Zoe Saldana', 'Sigourney ...   \n",
       "1          ['ocean']  ['Johnny Depp', 'Orlando Bloom', 'Keira Knight...   \n",
       "\n",
       "                                                crew  \n",
       "0  [{\"credit_id\": \"52fe48009251416c750aca23\", \"de...  \n",
       "1  [{\"credit_id\": \"52fe4232c3a36847f800b579\", \"de...  "
      ]
     },
     "execution_count": 8,
     "metadata": {},
     "output_type": "execute_result"
    }
   ],
   "source": [
    "movies_new.head(2)"
   ]
  },
  {
   "cell_type": "markdown",
   "metadata": {},
   "source": [
    "### now we will extract director value from the crew"
   ]
  },
  {
   "cell_type": "code",
   "execution_count": 6,
   "metadata": {
    "metadata": {}
   },
   "outputs": [
    {
     "data": {
      "text/html": [
       "<div>\n",
       "<style scoped>\n",
       "    .dataframe tbody tr th:only-of-type {\n",
       "        vertical-align: middle;\n",
       "    }\n",
       "\n",
       "    .dataframe tbody tr th {\n",
       "        vertical-align: top;\n",
       "    }\n",
       "\n",
       "    .dataframe thead th {\n",
       "        text-align: right;\n",
       "    }\n",
       "</style>\n",
       "<table border=\"1\" class=\"dataframe\">\n",
       "  <thead>\n",
       "    <tr style=\"text-align: right;\">\n",
       "      <th></th>\n",
       "      <th>Unnamed: 0</th>\n",
       "      <th>movie_id</th>\n",
       "      <th>title</th>\n",
       "      <th>overview</th>\n",
       "      <th>genres</th>\n",
       "      <th>keywords</th>\n",
       "      <th>cast</th>\n",
       "      <th>crew</th>\n",
       "    </tr>\n",
       "  </thead>\n",
       "  <tbody>\n",
       "    <tr>\n",
       "      <th>0</th>\n",
       "      <td>0</td>\n",
       "      <td>19995</td>\n",
       "      <td>Avatar</td>\n",
       "      <td>In the 22nd century, a paraplegic Marine is di...</td>\n",
       "      <td>['Action']</td>\n",
       "      <td>['culture clash']</td>\n",
       "      <td>['Sam Worthington', 'Zoe Saldana', 'Sigourney ...</td>\n",
       "      <td>[{\"credit_id\": \"52fe48009251416c750aca23\", \"de...</td>\n",
       "    </tr>\n",
       "    <tr>\n",
       "      <th>1</th>\n",
       "      <td>1</td>\n",
       "      <td>285</td>\n",
       "      <td>Pirates of the Caribbean: At World's End</td>\n",
       "      <td>Captain Barbossa, long believed to be dead, ha...</td>\n",
       "      <td>['Adventure']</td>\n",
       "      <td>['ocean']</td>\n",
       "      <td>['Johnny Depp', 'Orlando Bloom', 'Keira Knight...</td>\n",
       "      <td>[{\"credit_id\": \"52fe4232c3a36847f800b579\", \"de...</td>\n",
       "    </tr>\n",
       "  </tbody>\n",
       "</table>\n",
       "</div>"
      ],
      "text/plain": [
       "   Unnamed: 0  movie_id                                     title  \\\n",
       "0           0     19995                                    Avatar   \n",
       "1           1       285  Pirates of the Caribbean: At World's End   \n",
       "\n",
       "                                            overview         genres  \\\n",
       "0  In the 22nd century, a paraplegic Marine is di...     ['Action']   \n",
       "1  Captain Barbossa, long believed to be dead, ha...  ['Adventure']   \n",
       "\n",
       "            keywords                                               cast  \\\n",
       "0  ['culture clash']  ['Sam Worthington', 'Zoe Saldana', 'Sigourney ...   \n",
       "1          ['ocean']  ['Johnny Depp', 'Orlando Bloom', 'Keira Knight...   \n",
       "\n",
       "                                                crew  \n",
       "0  [{\"credit_id\": \"52fe48009251416c750aca23\", \"de...  \n",
       "1  [{\"credit_id\": \"52fe4232c3a36847f800b579\", \"de...  "
      ]
     },
     "execution_count": 6,
     "metadata": {},
     "output_type": "execute_result"
    }
   ],
   "source": [
    "movies_new.head(2)"
   ]
  },
  {
   "cell_type": "code",
   "execution_count": 7,
   "metadata": {
    "metadata": {}
   },
   "outputs": [],
   "source": [
    "def fetch_director(obj):\n",
    "    l=[]\n",
    "    for i in ast.literal_eval(obj):\n",
    "        if i['job'] == 'Director':\n",
    "            l.append(i['name'])\n",
    "            break\n",
    "    return l"
   ]
  },
  {
   "cell_type": "code",
   "execution_count": 8,
   "metadata": {
    "metadata": {}
   },
   "outputs": [],
   "source": [
    "movies_new['crew'] = movies_new['crew'].apply(fetch_director)"
   ]
  },
  {
   "cell_type": "code",
   "execution_count": 9,
   "metadata": {
    "metadata": {}
   },
   "outputs": [
    {
     "data": {
      "text/html": [
       "<div>\n",
       "<style scoped>\n",
       "    .dataframe tbody tr th:only-of-type {\n",
       "        vertical-align: middle;\n",
       "    }\n",
       "\n",
       "    .dataframe tbody tr th {\n",
       "        vertical-align: top;\n",
       "    }\n",
       "\n",
       "    .dataframe thead th {\n",
       "        text-align: right;\n",
       "    }\n",
       "</style>\n",
       "<table border=\"1\" class=\"dataframe\">\n",
       "  <thead>\n",
       "    <tr style=\"text-align: right;\">\n",
       "      <th></th>\n",
       "      <th>Unnamed: 0</th>\n",
       "      <th>movie_id</th>\n",
       "      <th>title</th>\n",
       "      <th>overview</th>\n",
       "      <th>genres</th>\n",
       "      <th>keywords</th>\n",
       "      <th>cast</th>\n",
       "      <th>crew</th>\n",
       "    </tr>\n",
       "  </thead>\n",
       "  <tbody>\n",
       "    <tr>\n",
       "      <th>0</th>\n",
       "      <td>0</td>\n",
       "      <td>19995</td>\n",
       "      <td>Avatar</td>\n",
       "      <td>In the 22nd century, a paraplegic Marine is di...</td>\n",
       "      <td>['Action']</td>\n",
       "      <td>['culture clash']</td>\n",
       "      <td>['Sam Worthington', 'Zoe Saldana', 'Sigourney ...</td>\n",
       "      <td>[James Cameron]</td>\n",
       "    </tr>\n",
       "    <tr>\n",
       "      <th>1</th>\n",
       "      <td>1</td>\n",
       "      <td>285</td>\n",
       "      <td>Pirates of the Caribbean: At World's End</td>\n",
       "      <td>Captain Barbossa, long believed to be dead, ha...</td>\n",
       "      <td>['Adventure']</td>\n",
       "      <td>['ocean']</td>\n",
       "      <td>['Johnny Depp', 'Orlando Bloom', 'Keira Knight...</td>\n",
       "      <td>[Gore Verbinski]</td>\n",
       "    </tr>\n",
       "  </tbody>\n",
       "</table>\n",
       "</div>"
      ],
      "text/plain": [
       "   Unnamed: 0  movie_id                                     title  \\\n",
       "0           0     19995                                    Avatar   \n",
       "1           1       285  Pirates of the Caribbean: At World's End   \n",
       "\n",
       "                                            overview         genres  \\\n",
       "0  In the 22nd century, a paraplegic Marine is di...     ['Action']   \n",
       "1  Captain Barbossa, long believed to be dead, ha...  ['Adventure']   \n",
       "\n",
       "            keywords                                               cast  \\\n",
       "0  ['culture clash']  ['Sam Worthington', 'Zoe Saldana', 'Sigourney ...   \n",
       "1          ['ocean']  ['Johnny Depp', 'Orlando Bloom', 'Keira Knight...   \n",
       "\n",
       "               crew  \n",
       "0   [James Cameron]  \n",
       "1  [Gore Verbinski]  "
      ]
     },
     "execution_count": 9,
     "metadata": {},
     "output_type": "execute_result"
    }
   ],
   "source": [
    "movies_new.head(2)"
   ]
  },
  {
   "cell_type": "markdown",
   "metadata": {},
   "source": [
    "#### convert the overview to list"
   ]
  },
  {
   "cell_type": "code",
   "execution_count": 10,
   "metadata": {
    "metadata": {}
   },
   "outputs": [],
   "source": [
    "movies_new['overview']=movies_new['overview'].apply(lambda x:x.split())"
   ]
  },
  {
   "cell_type": "code",
   "execution_count": 11,
   "metadata": {
    "metadata": {}
   },
   "outputs": [
    {
     "data": {
      "text/html": [
       "<div>\n",
       "<style scoped>\n",
       "    .dataframe tbody tr th:only-of-type {\n",
       "        vertical-align: middle;\n",
       "    }\n",
       "\n",
       "    .dataframe tbody tr th {\n",
       "        vertical-align: top;\n",
       "    }\n",
       "\n",
       "    .dataframe thead th {\n",
       "        text-align: right;\n",
       "    }\n",
       "</style>\n",
       "<table border=\"1\" class=\"dataframe\">\n",
       "  <thead>\n",
       "    <tr style=\"text-align: right;\">\n",
       "      <th></th>\n",
       "      <th>Unnamed: 0</th>\n",
       "      <th>movie_id</th>\n",
       "      <th>title</th>\n",
       "      <th>overview</th>\n",
       "      <th>genres</th>\n",
       "      <th>keywords</th>\n",
       "      <th>cast</th>\n",
       "      <th>crew</th>\n",
       "    </tr>\n",
       "  </thead>\n",
       "  <tbody>\n",
       "    <tr>\n",
       "      <th>0</th>\n",
       "      <td>0</td>\n",
       "      <td>19995</td>\n",
       "      <td>Avatar</td>\n",
       "      <td>[In, the, 22nd, century,, a, paraplegic, Marin...</td>\n",
       "      <td>['Action']</td>\n",
       "      <td>['culture clash']</td>\n",
       "      <td>['Sam Worthington', 'Zoe Saldana', 'Sigourney ...</td>\n",
       "      <td>[James Cameron]</td>\n",
       "    </tr>\n",
       "  </tbody>\n",
       "</table>\n",
       "</div>"
      ],
      "text/plain": [
       "   Unnamed: 0  movie_id   title  \\\n",
       "0           0     19995  Avatar   \n",
       "\n",
       "                                            overview      genres  \\\n",
       "0  [In, the, 22nd, century,, a, paraplegic, Marin...  ['Action']   \n",
       "\n",
       "            keywords                                               cast  \\\n",
       "0  ['culture clash']  ['Sam Worthington', 'Zoe Saldana', 'Sigourney ...   \n",
       "\n",
       "              crew  \n",
       "0  [James Cameron]  "
      ]
     },
     "execution_count": 11,
     "metadata": {},
     "output_type": "execute_result"
    }
   ],
   "source": [
    "movies_new.head(1)"
   ]
  },
  {
   "cell_type": "code",
   "execution_count": null,
   "metadata": {
    "metadata": {}
   },
   "outputs": [
    {
     "data": {
      "text/plain": [
       "'Sam worthington\\n   Samworthington'"
      ]
     },
     "execution_count": 59,
     "metadata": {},
     "output_type": "execute_result"
    }
   ],
   "source": [
    "'''Sam worthington\n",
    "   Samworthington'''"
   ]
  },
  {
   "cell_type": "code",
   "execution_count": 12,
   "metadata": {
    "metadata": {}
   },
   "outputs": [
    {
     "ename": "TypeError",
     "evalue": "'float' object is not iterable",
     "output_type": "error",
     "traceback": [
      "\u001b[1;31m---------------------------------------------------------------------------\u001b[0m",
      "\u001b[1;31mTypeError\u001b[0m                                 Traceback (most recent call last)",
      "Cell \u001b[1;32mIn[12], line 1\u001b[0m\n\u001b[1;32m----> 1\u001b[0m movies_new[\u001b[38;5;124m'\u001b[39m\u001b[38;5;124mkeywords\u001b[39m\u001b[38;5;124m'\u001b[39m] \u001b[38;5;241m=\u001b[39m \u001b[43mmovies_new\u001b[49m\u001b[43m[\u001b[49m\u001b[38;5;124;43m'\u001b[39;49m\u001b[38;5;124;43mkeywords\u001b[39;49m\u001b[38;5;124;43m'\u001b[39;49m\u001b[43m]\u001b[49m\u001b[38;5;241;43m.\u001b[39;49m\u001b[43mapply\u001b[49m\u001b[43m(\u001b[49m\u001b[38;5;28;43;01mlambda\u001b[39;49;00m\u001b[43m \u001b[49m\u001b[43mx\u001b[49m\u001b[43m:\u001b[49m\u001b[43m[\u001b[49m\u001b[43mi\u001b[49m\u001b[38;5;241;43m.\u001b[39;49m\u001b[43mreplace\u001b[49m\u001b[43m(\u001b[49m\u001b[38;5;124;43m\"\u001b[39;49m\u001b[38;5;124;43m \u001b[39;49m\u001b[38;5;124;43m\"\u001b[39;49m\u001b[43m,\u001b[49m\u001b[38;5;124;43m\"\u001b[39;49m\u001b[38;5;124;43m\"\u001b[39;49m\u001b[43m)\u001b[49m\u001b[43m \u001b[49m\u001b[38;5;28;43;01mfor\u001b[39;49;00m\u001b[43m \u001b[49m\u001b[43mi\u001b[49m\u001b[43m \u001b[49m\u001b[38;5;129;43;01min\u001b[39;49;00m\u001b[43m \u001b[49m\u001b[43mx\u001b[49m\u001b[43m]\u001b[49m\u001b[43m)\u001b[49m\n",
      "File \u001b[1;32me:\\python_env\\movie\\Lib\\site-packages\\pandas\\core\\series.py:4924\u001b[0m, in \u001b[0;36mSeries.apply\u001b[1;34m(self, func, convert_dtype, args, by_row, **kwargs)\u001b[0m\n\u001b[0;32m   4789\u001b[0m \u001b[38;5;28;01mdef\u001b[39;00m \u001b[38;5;21mapply\u001b[39m(\n\u001b[0;32m   4790\u001b[0m     \u001b[38;5;28mself\u001b[39m,\n\u001b[0;32m   4791\u001b[0m     func: AggFuncType,\n\u001b[1;32m   (...)\u001b[0m\n\u001b[0;32m   4796\u001b[0m     \u001b[38;5;241m*\u001b[39m\u001b[38;5;241m*\u001b[39mkwargs,\n\u001b[0;32m   4797\u001b[0m ) \u001b[38;5;241m-\u001b[39m\u001b[38;5;241m>\u001b[39m DataFrame \u001b[38;5;241m|\u001b[39m Series:\n\u001b[0;32m   4798\u001b[0m \u001b[38;5;250m    \u001b[39m\u001b[38;5;124;03m\"\"\"\u001b[39;00m\n\u001b[0;32m   4799\u001b[0m \u001b[38;5;124;03m    Invoke function on values of Series.\u001b[39;00m\n\u001b[0;32m   4800\u001b[0m \n\u001b[1;32m   (...)\u001b[0m\n\u001b[0;32m   4915\u001b[0m \u001b[38;5;124;03m    dtype: float64\u001b[39;00m\n\u001b[0;32m   4916\u001b[0m \u001b[38;5;124;03m    \"\"\"\u001b[39;00m\n\u001b[0;32m   4917\u001b[0m     \u001b[38;5;28;01mreturn\u001b[39;00m \u001b[43mSeriesApply\u001b[49m\u001b[43m(\u001b[49m\n\u001b[0;32m   4918\u001b[0m \u001b[43m        \u001b[49m\u001b[38;5;28;43mself\u001b[39;49m\u001b[43m,\u001b[49m\n\u001b[0;32m   4919\u001b[0m \u001b[43m        \u001b[49m\u001b[43mfunc\u001b[49m\u001b[43m,\u001b[49m\n\u001b[0;32m   4920\u001b[0m \u001b[43m        \u001b[49m\u001b[43mconvert_dtype\u001b[49m\u001b[38;5;241;43m=\u001b[39;49m\u001b[43mconvert_dtype\u001b[49m\u001b[43m,\u001b[49m\n\u001b[0;32m   4921\u001b[0m \u001b[43m        \u001b[49m\u001b[43mby_row\u001b[49m\u001b[38;5;241;43m=\u001b[39;49m\u001b[43mby_row\u001b[49m\u001b[43m,\u001b[49m\n\u001b[0;32m   4922\u001b[0m \u001b[43m        \u001b[49m\u001b[43margs\u001b[49m\u001b[38;5;241;43m=\u001b[39;49m\u001b[43margs\u001b[49m\u001b[43m,\u001b[49m\n\u001b[0;32m   4923\u001b[0m \u001b[43m        \u001b[49m\u001b[43mkwargs\u001b[49m\u001b[38;5;241;43m=\u001b[39;49m\u001b[43mkwargs\u001b[49m\u001b[43m,\u001b[49m\n\u001b[1;32m-> 4924\u001b[0m \u001b[43m    \u001b[49m\u001b[43m)\u001b[49m\u001b[38;5;241;43m.\u001b[39;49m\u001b[43mapply\u001b[49m\u001b[43m(\u001b[49m\u001b[43m)\u001b[49m\n",
      "File \u001b[1;32me:\\python_env\\movie\\Lib\\site-packages\\pandas\\core\\apply.py:1427\u001b[0m, in \u001b[0;36mSeriesApply.apply\u001b[1;34m(self)\u001b[0m\n\u001b[0;32m   1424\u001b[0m     \u001b[38;5;28;01mreturn\u001b[39;00m \u001b[38;5;28mself\u001b[39m\u001b[38;5;241m.\u001b[39mapply_compat()\n\u001b[0;32m   1426\u001b[0m \u001b[38;5;66;03m# self.func is Callable\u001b[39;00m\n\u001b[1;32m-> 1427\u001b[0m \u001b[38;5;28;01mreturn\u001b[39;00m \u001b[38;5;28;43mself\u001b[39;49m\u001b[38;5;241;43m.\u001b[39;49m\u001b[43mapply_standard\u001b[49m\u001b[43m(\u001b[49m\u001b[43m)\u001b[49m\n",
      "File \u001b[1;32me:\\python_env\\movie\\Lib\\site-packages\\pandas\\core\\apply.py:1507\u001b[0m, in \u001b[0;36mSeriesApply.apply_standard\u001b[1;34m(self)\u001b[0m\n\u001b[0;32m   1501\u001b[0m \u001b[38;5;66;03m# row-wise access\u001b[39;00m\n\u001b[0;32m   1502\u001b[0m \u001b[38;5;66;03m# apply doesn't have a `na_action` keyword and for backward compat reasons\u001b[39;00m\n\u001b[0;32m   1503\u001b[0m \u001b[38;5;66;03m# we need to give `na_action=\"ignore\"` for categorical data.\u001b[39;00m\n\u001b[0;32m   1504\u001b[0m \u001b[38;5;66;03m# TODO: remove the `na_action=\"ignore\"` when that default has been changed in\u001b[39;00m\n\u001b[0;32m   1505\u001b[0m \u001b[38;5;66;03m#  Categorical (GH51645).\u001b[39;00m\n\u001b[0;32m   1506\u001b[0m action \u001b[38;5;241m=\u001b[39m \u001b[38;5;124m\"\u001b[39m\u001b[38;5;124mignore\u001b[39m\u001b[38;5;124m\"\u001b[39m \u001b[38;5;28;01mif\u001b[39;00m \u001b[38;5;28misinstance\u001b[39m(obj\u001b[38;5;241m.\u001b[39mdtype, CategoricalDtype) \u001b[38;5;28;01melse\u001b[39;00m \u001b[38;5;28;01mNone\u001b[39;00m\n\u001b[1;32m-> 1507\u001b[0m mapped \u001b[38;5;241m=\u001b[39m \u001b[43mobj\u001b[49m\u001b[38;5;241;43m.\u001b[39;49m\u001b[43m_map_values\u001b[49m\u001b[43m(\u001b[49m\n\u001b[0;32m   1508\u001b[0m \u001b[43m    \u001b[49m\u001b[43mmapper\u001b[49m\u001b[38;5;241;43m=\u001b[39;49m\u001b[43mcurried\u001b[49m\u001b[43m,\u001b[49m\u001b[43m \u001b[49m\u001b[43mna_action\u001b[49m\u001b[38;5;241;43m=\u001b[39;49m\u001b[43maction\u001b[49m\u001b[43m,\u001b[49m\u001b[43m \u001b[49m\u001b[43mconvert\u001b[49m\u001b[38;5;241;43m=\u001b[39;49m\u001b[38;5;28;43mself\u001b[39;49m\u001b[38;5;241;43m.\u001b[39;49m\u001b[43mconvert_dtype\u001b[49m\n\u001b[0;32m   1509\u001b[0m \u001b[43m\u001b[49m\u001b[43m)\u001b[49m\n\u001b[0;32m   1511\u001b[0m \u001b[38;5;28;01mif\u001b[39;00m \u001b[38;5;28mlen\u001b[39m(mapped) \u001b[38;5;129;01mand\u001b[39;00m \u001b[38;5;28misinstance\u001b[39m(mapped[\u001b[38;5;241m0\u001b[39m], ABCSeries):\n\u001b[0;32m   1512\u001b[0m     \u001b[38;5;66;03m# GH#43986 Need to do list(mapped) in order to get treated as nested\u001b[39;00m\n\u001b[0;32m   1513\u001b[0m     \u001b[38;5;66;03m#  See also GH#25959 regarding EA support\u001b[39;00m\n\u001b[0;32m   1514\u001b[0m     \u001b[38;5;28;01mreturn\u001b[39;00m obj\u001b[38;5;241m.\u001b[39m_constructor_expanddim(\u001b[38;5;28mlist\u001b[39m(mapped), index\u001b[38;5;241m=\u001b[39mobj\u001b[38;5;241m.\u001b[39mindex)\n",
      "File \u001b[1;32me:\\python_env\\movie\\Lib\\site-packages\\pandas\\core\\base.py:921\u001b[0m, in \u001b[0;36mIndexOpsMixin._map_values\u001b[1;34m(self, mapper, na_action, convert)\u001b[0m\n\u001b[0;32m    918\u001b[0m \u001b[38;5;28;01mif\u001b[39;00m \u001b[38;5;28misinstance\u001b[39m(arr, ExtensionArray):\n\u001b[0;32m    919\u001b[0m     \u001b[38;5;28;01mreturn\u001b[39;00m arr\u001b[38;5;241m.\u001b[39mmap(mapper, na_action\u001b[38;5;241m=\u001b[39mna_action)\n\u001b[1;32m--> 921\u001b[0m \u001b[38;5;28;01mreturn\u001b[39;00m \u001b[43malgorithms\u001b[49m\u001b[38;5;241;43m.\u001b[39;49m\u001b[43mmap_array\u001b[49m\u001b[43m(\u001b[49m\u001b[43marr\u001b[49m\u001b[43m,\u001b[49m\u001b[43m \u001b[49m\u001b[43mmapper\u001b[49m\u001b[43m,\u001b[49m\u001b[43m \u001b[49m\u001b[43mna_action\u001b[49m\u001b[38;5;241;43m=\u001b[39;49m\u001b[43mna_action\u001b[49m\u001b[43m,\u001b[49m\u001b[43m \u001b[49m\u001b[43mconvert\u001b[49m\u001b[38;5;241;43m=\u001b[39;49m\u001b[43mconvert\u001b[49m\u001b[43m)\u001b[49m\n",
      "File \u001b[1;32me:\\python_env\\movie\\Lib\\site-packages\\pandas\\core\\algorithms.py:1743\u001b[0m, in \u001b[0;36mmap_array\u001b[1;34m(arr, mapper, na_action, convert)\u001b[0m\n\u001b[0;32m   1741\u001b[0m values \u001b[38;5;241m=\u001b[39m arr\u001b[38;5;241m.\u001b[39mastype(\u001b[38;5;28mobject\u001b[39m, copy\u001b[38;5;241m=\u001b[39m\u001b[38;5;28;01mFalse\u001b[39;00m)\n\u001b[0;32m   1742\u001b[0m \u001b[38;5;28;01mif\u001b[39;00m na_action \u001b[38;5;129;01mis\u001b[39;00m \u001b[38;5;28;01mNone\u001b[39;00m:\n\u001b[1;32m-> 1743\u001b[0m     \u001b[38;5;28;01mreturn\u001b[39;00m \u001b[43mlib\u001b[49m\u001b[38;5;241;43m.\u001b[39;49m\u001b[43mmap_infer\u001b[49m\u001b[43m(\u001b[49m\u001b[43mvalues\u001b[49m\u001b[43m,\u001b[49m\u001b[43m \u001b[49m\u001b[43mmapper\u001b[49m\u001b[43m,\u001b[49m\u001b[43m \u001b[49m\u001b[43mconvert\u001b[49m\u001b[38;5;241;43m=\u001b[39;49m\u001b[43mconvert\u001b[49m\u001b[43m)\u001b[49m\n\u001b[0;32m   1744\u001b[0m \u001b[38;5;28;01melse\u001b[39;00m:\n\u001b[0;32m   1745\u001b[0m     \u001b[38;5;28;01mreturn\u001b[39;00m lib\u001b[38;5;241m.\u001b[39mmap_infer_mask(\n\u001b[0;32m   1746\u001b[0m         values, mapper, mask\u001b[38;5;241m=\u001b[39misna(values)\u001b[38;5;241m.\u001b[39mview(np\u001b[38;5;241m.\u001b[39muint8), convert\u001b[38;5;241m=\u001b[39mconvert\n\u001b[0;32m   1747\u001b[0m     )\n",
      "File \u001b[1;32mlib.pyx:2972\u001b[0m, in \u001b[0;36mpandas._libs.lib.map_infer\u001b[1;34m()\u001b[0m\n",
      "Cell \u001b[1;32mIn[12], line 1\u001b[0m, in \u001b[0;36m<lambda>\u001b[1;34m(x)\u001b[0m\n\u001b[1;32m----> 1\u001b[0m movies_new[\u001b[38;5;124m'\u001b[39m\u001b[38;5;124mkeywords\u001b[39m\u001b[38;5;124m'\u001b[39m] \u001b[38;5;241m=\u001b[39m movies_new[\u001b[38;5;124m'\u001b[39m\u001b[38;5;124mkeywords\u001b[39m\u001b[38;5;124m'\u001b[39m]\u001b[38;5;241m.\u001b[39mapply(\u001b[38;5;28;01mlambda\u001b[39;00m x:\u001b[43m[\u001b[49m\u001b[43mi\u001b[49m\u001b[38;5;241;43m.\u001b[39;49m\u001b[43mreplace\u001b[49m\u001b[43m(\u001b[49m\u001b[38;5;124;43m\"\u001b[39;49m\u001b[38;5;124;43m \u001b[39;49m\u001b[38;5;124;43m\"\u001b[39;49m\u001b[43m,\u001b[49m\u001b[38;5;124;43m\"\u001b[39;49m\u001b[38;5;124;43m\"\u001b[39;49m\u001b[43m)\u001b[49m\u001b[43m \u001b[49m\u001b[38;5;28;43;01mfor\u001b[39;49;00m\u001b[43m \u001b[49m\u001b[43mi\u001b[49m\u001b[43m \u001b[49m\u001b[38;5;129;43;01min\u001b[39;49;00m\u001b[43m \u001b[49m\u001b[43mx\u001b[49m\u001b[43m]\u001b[49m)\n",
      "\u001b[1;31mTypeError\u001b[0m: 'float' object is not iterable"
     ]
    }
   ],
   "source": [
    "movies_new['keywords'] = movies_new['keywords'].apply(lambda x:[i.replace(\" \",\"\") for i in x])"
   ]
  },
  {
   "cell_type": "markdown",
   "metadata": {},
   "source": [
    "\n",
    "It seems like you're encountering an error while working with a DataFrame column named 'keywords'. The error message indicates that you're trying to iterate over a 'float' object, which suggests that there might be some NaN (Not a Number) values in your DataFrame.\n",
    "\n",
    "To handle this error, you can first check for NaN values in the 'keywords' column and then apply your lambda function. Here's how you can do it:"
   ]
  },
  {
   "cell_type": "code",
   "execution_count": 13,
   "metadata": {
    "metadata": {}
   },
   "outputs": [
    {
     "data": {
      "text/plain": [
       "Unnamed: 0      0\n",
       "movie_id        0\n",
       "title           0\n",
       "overview        0\n",
       "genres         28\n",
       "keywords      411\n",
       "cast            0\n",
       "crew            0\n",
       "dtype: int64"
      ]
     },
     "execution_count": 13,
     "metadata": {},
     "output_type": "execute_result"
    }
   ],
   "source": [
    "movies_new.isnull().sum()"
   ]
  },
  {
   "cell_type": "code",
   "execution_count": 14,
   "metadata": {
    "metadata": {}
   },
   "outputs": [
    {
     "data": {
      "text/html": [
       "<div>\n",
       "<style scoped>\n",
       "    .dataframe tbody tr th:only-of-type {\n",
       "        vertical-align: middle;\n",
       "    }\n",
       "\n",
       "    .dataframe tbody tr th {\n",
       "        vertical-align: top;\n",
       "    }\n",
       "\n",
       "    .dataframe thead th {\n",
       "        text-align: right;\n",
       "    }\n",
       "</style>\n",
       "<table border=\"1\" class=\"dataframe\">\n",
       "  <thead>\n",
       "    <tr style=\"text-align: right;\">\n",
       "      <th></th>\n",
       "      <th>Unnamed: 0</th>\n",
       "      <th>movie_id</th>\n",
       "      <th>title</th>\n",
       "      <th>overview</th>\n",
       "      <th>genres</th>\n",
       "      <th>keywords</th>\n",
       "      <th>cast</th>\n",
       "      <th>crew</th>\n",
       "    </tr>\n",
       "  </thead>\n",
       "  <tbody>\n",
       "    <tr>\n",
       "      <th>0</th>\n",
       "      <td>0</td>\n",
       "      <td>19995</td>\n",
       "      <td>Avatar</td>\n",
       "      <td>[In, the, 22nd, century,, a, paraplegic, Marin...</td>\n",
       "      <td>['Action']</td>\n",
       "      <td>['culture clash']</td>\n",
       "      <td>['Sam Worthington', 'Zoe Saldana', 'Sigourney ...</td>\n",
       "      <td>[James Cameron]</td>\n",
       "    </tr>\n",
       "    <tr>\n",
       "      <th>1</th>\n",
       "      <td>1</td>\n",
       "      <td>285</td>\n",
       "      <td>Pirates of the Caribbean: At World's End</td>\n",
       "      <td>[Captain, Barbossa,, long, believed, to, be, d...</td>\n",
       "      <td>['Adventure']</td>\n",
       "      <td>['ocean']</td>\n",
       "      <td>['Johnny Depp', 'Orlando Bloom', 'Keira Knight...</td>\n",
       "      <td>[Gore Verbinski]</td>\n",
       "    </tr>\n",
       "  </tbody>\n",
       "</table>\n",
       "</div>"
      ],
      "text/plain": [
       "   Unnamed: 0  movie_id                                     title  \\\n",
       "0           0     19995                                    Avatar   \n",
       "1           1       285  Pirates of the Caribbean: At World's End   \n",
       "\n",
       "                                            overview         genres  \\\n",
       "0  [In, the, 22nd, century,, a, paraplegic, Marin...     ['Action']   \n",
       "1  [Captain, Barbossa,, long, believed, to, be, d...  ['Adventure']   \n",
       "\n",
       "            keywords                                               cast  \\\n",
       "0  ['culture clash']  ['Sam Worthington', 'Zoe Saldana', 'Sigourney ...   \n",
       "1          ['ocean']  ['Johnny Depp', 'Orlando Bloom', 'Keira Knight...   \n",
       "\n",
       "               crew  \n",
       "0   [James Cameron]  \n",
       "1  [Gore Verbinski]  "
      ]
     },
     "execution_count": 14,
     "metadata": {},
     "output_type": "execute_result"
    }
   ],
   "source": [
    "movies_new.head(2)"
   ]
  },
  {
   "cell_type": "markdown",
   "metadata": {},
   "source": [
    "### Sam Worthington \n",
    "### SamWorthington"
   ]
  },
  {
   "cell_type": "code",
   "execution_count": 15,
   "metadata": {
    "metadata": {}
   },
   "outputs": [
    {
     "ename": "TypeError",
     "evalue": "'float' object is not iterable",
     "output_type": "error",
     "traceback": [
      "\u001b[1;31m---------------------------------------------------------------------------\u001b[0m",
      "\u001b[1;31mTypeError\u001b[0m                                 Traceback (most recent call last)",
      "Cell \u001b[1;32mIn[15], line 1\u001b[0m\n\u001b[1;32m----> 1\u001b[0m movies_new[\u001b[38;5;124m'\u001b[39m\u001b[38;5;124mgenres\u001b[39m\u001b[38;5;124m'\u001b[39m] \u001b[38;5;241m=\u001b[39m \u001b[43mmovies_new\u001b[49m\u001b[43m[\u001b[49m\u001b[38;5;124;43m'\u001b[39;49m\u001b[38;5;124;43mgenres\u001b[39;49m\u001b[38;5;124;43m'\u001b[39;49m\u001b[43m]\u001b[49m\u001b[38;5;241;43m.\u001b[39;49m\u001b[43mapply\u001b[49m\u001b[43m(\u001b[49m\u001b[38;5;28;43;01mlambda\u001b[39;49;00m\u001b[43m \u001b[49m\u001b[43mx\u001b[49m\u001b[43m:\u001b[49m\u001b[43m[\u001b[49m\u001b[43mi\u001b[49m\u001b[38;5;241;43m.\u001b[39;49m\u001b[43mreplace\u001b[49m\u001b[43m(\u001b[49m\u001b[38;5;124;43m\"\u001b[39;49m\u001b[38;5;124;43m \u001b[39;49m\u001b[38;5;124;43m\"\u001b[39;49m\u001b[43m,\u001b[49m\u001b[38;5;124;43m\"\u001b[39;49m\u001b[38;5;124;43m\"\u001b[39;49m\u001b[43m)\u001b[49m\u001b[43m \u001b[49m\u001b[38;5;28;43;01mfor\u001b[39;49;00m\u001b[43m \u001b[49m\u001b[43mi\u001b[49m\u001b[43m \u001b[49m\u001b[38;5;129;43;01min\u001b[39;49;00m\u001b[43m \u001b[49m\u001b[43mx\u001b[49m\u001b[43m]\u001b[49m\u001b[43m)\u001b[49m\n",
      "File \u001b[1;32me:\\python_env\\movie\\Lib\\site-packages\\pandas\\core\\series.py:4924\u001b[0m, in \u001b[0;36mSeries.apply\u001b[1;34m(self, func, convert_dtype, args, by_row, **kwargs)\u001b[0m\n\u001b[0;32m   4789\u001b[0m \u001b[38;5;28;01mdef\u001b[39;00m \u001b[38;5;21mapply\u001b[39m(\n\u001b[0;32m   4790\u001b[0m     \u001b[38;5;28mself\u001b[39m,\n\u001b[0;32m   4791\u001b[0m     func: AggFuncType,\n\u001b[1;32m   (...)\u001b[0m\n\u001b[0;32m   4796\u001b[0m     \u001b[38;5;241m*\u001b[39m\u001b[38;5;241m*\u001b[39mkwargs,\n\u001b[0;32m   4797\u001b[0m ) \u001b[38;5;241m-\u001b[39m\u001b[38;5;241m>\u001b[39m DataFrame \u001b[38;5;241m|\u001b[39m Series:\n\u001b[0;32m   4798\u001b[0m \u001b[38;5;250m    \u001b[39m\u001b[38;5;124;03m\"\"\"\u001b[39;00m\n\u001b[0;32m   4799\u001b[0m \u001b[38;5;124;03m    Invoke function on values of Series.\u001b[39;00m\n\u001b[0;32m   4800\u001b[0m \n\u001b[1;32m   (...)\u001b[0m\n\u001b[0;32m   4915\u001b[0m \u001b[38;5;124;03m    dtype: float64\u001b[39;00m\n\u001b[0;32m   4916\u001b[0m \u001b[38;5;124;03m    \"\"\"\u001b[39;00m\n\u001b[0;32m   4917\u001b[0m     \u001b[38;5;28;01mreturn\u001b[39;00m \u001b[43mSeriesApply\u001b[49m\u001b[43m(\u001b[49m\n\u001b[0;32m   4918\u001b[0m \u001b[43m        \u001b[49m\u001b[38;5;28;43mself\u001b[39;49m\u001b[43m,\u001b[49m\n\u001b[0;32m   4919\u001b[0m \u001b[43m        \u001b[49m\u001b[43mfunc\u001b[49m\u001b[43m,\u001b[49m\n\u001b[0;32m   4920\u001b[0m \u001b[43m        \u001b[49m\u001b[43mconvert_dtype\u001b[49m\u001b[38;5;241;43m=\u001b[39;49m\u001b[43mconvert_dtype\u001b[49m\u001b[43m,\u001b[49m\n\u001b[0;32m   4921\u001b[0m \u001b[43m        \u001b[49m\u001b[43mby_row\u001b[49m\u001b[38;5;241;43m=\u001b[39;49m\u001b[43mby_row\u001b[49m\u001b[43m,\u001b[49m\n\u001b[0;32m   4922\u001b[0m \u001b[43m        \u001b[49m\u001b[43margs\u001b[49m\u001b[38;5;241;43m=\u001b[39;49m\u001b[43margs\u001b[49m\u001b[43m,\u001b[49m\n\u001b[0;32m   4923\u001b[0m \u001b[43m        \u001b[49m\u001b[43mkwargs\u001b[49m\u001b[38;5;241;43m=\u001b[39;49m\u001b[43mkwargs\u001b[49m\u001b[43m,\u001b[49m\n\u001b[1;32m-> 4924\u001b[0m \u001b[43m    \u001b[49m\u001b[43m)\u001b[49m\u001b[38;5;241;43m.\u001b[39;49m\u001b[43mapply\u001b[49m\u001b[43m(\u001b[49m\u001b[43m)\u001b[49m\n",
      "File \u001b[1;32me:\\python_env\\movie\\Lib\\site-packages\\pandas\\core\\apply.py:1427\u001b[0m, in \u001b[0;36mSeriesApply.apply\u001b[1;34m(self)\u001b[0m\n\u001b[0;32m   1424\u001b[0m     \u001b[38;5;28;01mreturn\u001b[39;00m \u001b[38;5;28mself\u001b[39m\u001b[38;5;241m.\u001b[39mapply_compat()\n\u001b[0;32m   1426\u001b[0m \u001b[38;5;66;03m# self.func is Callable\u001b[39;00m\n\u001b[1;32m-> 1427\u001b[0m \u001b[38;5;28;01mreturn\u001b[39;00m \u001b[38;5;28;43mself\u001b[39;49m\u001b[38;5;241;43m.\u001b[39;49m\u001b[43mapply_standard\u001b[49m\u001b[43m(\u001b[49m\u001b[43m)\u001b[49m\n",
      "File \u001b[1;32me:\\python_env\\movie\\Lib\\site-packages\\pandas\\core\\apply.py:1507\u001b[0m, in \u001b[0;36mSeriesApply.apply_standard\u001b[1;34m(self)\u001b[0m\n\u001b[0;32m   1501\u001b[0m \u001b[38;5;66;03m# row-wise access\u001b[39;00m\n\u001b[0;32m   1502\u001b[0m \u001b[38;5;66;03m# apply doesn't have a `na_action` keyword and for backward compat reasons\u001b[39;00m\n\u001b[0;32m   1503\u001b[0m \u001b[38;5;66;03m# we need to give `na_action=\"ignore\"` for categorical data.\u001b[39;00m\n\u001b[0;32m   1504\u001b[0m \u001b[38;5;66;03m# TODO: remove the `na_action=\"ignore\"` when that default has been changed in\u001b[39;00m\n\u001b[0;32m   1505\u001b[0m \u001b[38;5;66;03m#  Categorical (GH51645).\u001b[39;00m\n\u001b[0;32m   1506\u001b[0m action \u001b[38;5;241m=\u001b[39m \u001b[38;5;124m\"\u001b[39m\u001b[38;5;124mignore\u001b[39m\u001b[38;5;124m\"\u001b[39m \u001b[38;5;28;01mif\u001b[39;00m \u001b[38;5;28misinstance\u001b[39m(obj\u001b[38;5;241m.\u001b[39mdtype, CategoricalDtype) \u001b[38;5;28;01melse\u001b[39;00m \u001b[38;5;28;01mNone\u001b[39;00m\n\u001b[1;32m-> 1507\u001b[0m mapped \u001b[38;5;241m=\u001b[39m \u001b[43mobj\u001b[49m\u001b[38;5;241;43m.\u001b[39;49m\u001b[43m_map_values\u001b[49m\u001b[43m(\u001b[49m\n\u001b[0;32m   1508\u001b[0m \u001b[43m    \u001b[49m\u001b[43mmapper\u001b[49m\u001b[38;5;241;43m=\u001b[39;49m\u001b[43mcurried\u001b[49m\u001b[43m,\u001b[49m\u001b[43m \u001b[49m\u001b[43mna_action\u001b[49m\u001b[38;5;241;43m=\u001b[39;49m\u001b[43maction\u001b[49m\u001b[43m,\u001b[49m\u001b[43m \u001b[49m\u001b[43mconvert\u001b[49m\u001b[38;5;241;43m=\u001b[39;49m\u001b[38;5;28;43mself\u001b[39;49m\u001b[38;5;241;43m.\u001b[39;49m\u001b[43mconvert_dtype\u001b[49m\n\u001b[0;32m   1509\u001b[0m \u001b[43m\u001b[49m\u001b[43m)\u001b[49m\n\u001b[0;32m   1511\u001b[0m \u001b[38;5;28;01mif\u001b[39;00m \u001b[38;5;28mlen\u001b[39m(mapped) \u001b[38;5;129;01mand\u001b[39;00m \u001b[38;5;28misinstance\u001b[39m(mapped[\u001b[38;5;241m0\u001b[39m], ABCSeries):\n\u001b[0;32m   1512\u001b[0m     \u001b[38;5;66;03m# GH#43986 Need to do list(mapped) in order to get treated as nested\u001b[39;00m\n\u001b[0;32m   1513\u001b[0m     \u001b[38;5;66;03m#  See also GH#25959 regarding EA support\u001b[39;00m\n\u001b[0;32m   1514\u001b[0m     \u001b[38;5;28;01mreturn\u001b[39;00m obj\u001b[38;5;241m.\u001b[39m_constructor_expanddim(\u001b[38;5;28mlist\u001b[39m(mapped), index\u001b[38;5;241m=\u001b[39mobj\u001b[38;5;241m.\u001b[39mindex)\n",
      "File \u001b[1;32me:\\python_env\\movie\\Lib\\site-packages\\pandas\\core\\base.py:921\u001b[0m, in \u001b[0;36mIndexOpsMixin._map_values\u001b[1;34m(self, mapper, na_action, convert)\u001b[0m\n\u001b[0;32m    918\u001b[0m \u001b[38;5;28;01mif\u001b[39;00m \u001b[38;5;28misinstance\u001b[39m(arr, ExtensionArray):\n\u001b[0;32m    919\u001b[0m     \u001b[38;5;28;01mreturn\u001b[39;00m arr\u001b[38;5;241m.\u001b[39mmap(mapper, na_action\u001b[38;5;241m=\u001b[39mna_action)\n\u001b[1;32m--> 921\u001b[0m \u001b[38;5;28;01mreturn\u001b[39;00m \u001b[43malgorithms\u001b[49m\u001b[38;5;241;43m.\u001b[39;49m\u001b[43mmap_array\u001b[49m\u001b[43m(\u001b[49m\u001b[43marr\u001b[49m\u001b[43m,\u001b[49m\u001b[43m \u001b[49m\u001b[43mmapper\u001b[49m\u001b[43m,\u001b[49m\u001b[43m \u001b[49m\u001b[43mna_action\u001b[49m\u001b[38;5;241;43m=\u001b[39;49m\u001b[43mna_action\u001b[49m\u001b[43m,\u001b[49m\u001b[43m \u001b[49m\u001b[43mconvert\u001b[49m\u001b[38;5;241;43m=\u001b[39;49m\u001b[43mconvert\u001b[49m\u001b[43m)\u001b[49m\n",
      "File \u001b[1;32me:\\python_env\\movie\\Lib\\site-packages\\pandas\\core\\algorithms.py:1743\u001b[0m, in \u001b[0;36mmap_array\u001b[1;34m(arr, mapper, na_action, convert)\u001b[0m\n\u001b[0;32m   1741\u001b[0m values \u001b[38;5;241m=\u001b[39m arr\u001b[38;5;241m.\u001b[39mastype(\u001b[38;5;28mobject\u001b[39m, copy\u001b[38;5;241m=\u001b[39m\u001b[38;5;28;01mFalse\u001b[39;00m)\n\u001b[0;32m   1742\u001b[0m \u001b[38;5;28;01mif\u001b[39;00m na_action \u001b[38;5;129;01mis\u001b[39;00m \u001b[38;5;28;01mNone\u001b[39;00m:\n\u001b[1;32m-> 1743\u001b[0m     \u001b[38;5;28;01mreturn\u001b[39;00m \u001b[43mlib\u001b[49m\u001b[38;5;241;43m.\u001b[39;49m\u001b[43mmap_infer\u001b[49m\u001b[43m(\u001b[49m\u001b[43mvalues\u001b[49m\u001b[43m,\u001b[49m\u001b[43m \u001b[49m\u001b[43mmapper\u001b[49m\u001b[43m,\u001b[49m\u001b[43m \u001b[49m\u001b[43mconvert\u001b[49m\u001b[38;5;241;43m=\u001b[39;49m\u001b[43mconvert\u001b[49m\u001b[43m)\u001b[49m\n\u001b[0;32m   1744\u001b[0m \u001b[38;5;28;01melse\u001b[39;00m:\n\u001b[0;32m   1745\u001b[0m     \u001b[38;5;28;01mreturn\u001b[39;00m lib\u001b[38;5;241m.\u001b[39mmap_infer_mask(\n\u001b[0;32m   1746\u001b[0m         values, mapper, mask\u001b[38;5;241m=\u001b[39misna(values)\u001b[38;5;241m.\u001b[39mview(np\u001b[38;5;241m.\u001b[39muint8), convert\u001b[38;5;241m=\u001b[39mconvert\n\u001b[0;32m   1747\u001b[0m     )\n",
      "File \u001b[1;32mlib.pyx:2972\u001b[0m, in \u001b[0;36mpandas._libs.lib.map_infer\u001b[1;34m()\u001b[0m\n",
      "Cell \u001b[1;32mIn[15], line 1\u001b[0m, in \u001b[0;36m<lambda>\u001b[1;34m(x)\u001b[0m\n\u001b[1;32m----> 1\u001b[0m movies_new[\u001b[38;5;124m'\u001b[39m\u001b[38;5;124mgenres\u001b[39m\u001b[38;5;124m'\u001b[39m] \u001b[38;5;241m=\u001b[39m movies_new[\u001b[38;5;124m'\u001b[39m\u001b[38;5;124mgenres\u001b[39m\u001b[38;5;124m'\u001b[39m]\u001b[38;5;241m.\u001b[39mapply(\u001b[38;5;28;01mlambda\u001b[39;00m x:\u001b[43m[\u001b[49m\u001b[43mi\u001b[49m\u001b[38;5;241;43m.\u001b[39;49m\u001b[43mreplace\u001b[49m\u001b[43m(\u001b[49m\u001b[38;5;124;43m\"\u001b[39;49m\u001b[38;5;124;43m \u001b[39;49m\u001b[38;5;124;43m\"\u001b[39;49m\u001b[43m,\u001b[49m\u001b[38;5;124;43m\"\u001b[39;49m\u001b[38;5;124;43m\"\u001b[39;49m\u001b[43m)\u001b[49m\u001b[43m \u001b[49m\u001b[38;5;28;43;01mfor\u001b[39;49;00m\u001b[43m \u001b[49m\u001b[43mi\u001b[49m\u001b[43m \u001b[49m\u001b[38;5;129;43;01min\u001b[39;49;00m\u001b[43m \u001b[49m\u001b[43mx\u001b[49m\u001b[43m]\u001b[49m)\n",
      "\u001b[1;31mTypeError\u001b[0m: 'float' object is not iterable"
     ]
    }
   ],
   "source": [
    "movies_new['genres'] = movies_new['genres'].apply(lambda x:[i.replace(\" \",\"\") for i in x])"
   ]
  },
  {
   "cell_type": "code",
   "execution_count": 16,
   "metadata": {
    "metadata": {}
   },
   "outputs": [
    {
     "ename": "TypeError",
     "evalue": "'float' object is not iterable",
     "output_type": "error",
     "traceback": [
      "\u001b[1;31m---------------------------------------------------------------------------\u001b[0m",
      "\u001b[1;31mTypeError\u001b[0m                                 Traceback (most recent call last)",
      "Cell \u001b[1;32mIn[16], line 1\u001b[0m\n\u001b[1;32m----> 1\u001b[0m movies_new[\u001b[38;5;124m'\u001b[39m\u001b[38;5;124mkeywords\u001b[39m\u001b[38;5;124m'\u001b[39m] \u001b[38;5;241m=\u001b[39m \u001b[43mmovies_new\u001b[49m\u001b[43m[\u001b[49m\u001b[38;5;124;43m'\u001b[39;49m\u001b[38;5;124;43mgenres\u001b[39;49m\u001b[38;5;124;43m'\u001b[39;49m\u001b[43m]\u001b[49m\u001b[38;5;241;43m.\u001b[39;49m\u001b[43mapply\u001b[49m\u001b[43m(\u001b[49m\u001b[38;5;28;43;01mlambda\u001b[39;49;00m\u001b[43m \u001b[49m\u001b[43mx\u001b[49m\u001b[43m:\u001b[49m\u001b[43m[\u001b[49m\u001b[43mi\u001b[49m\u001b[38;5;241;43m.\u001b[39;49m\u001b[43mreplace\u001b[49m\u001b[43m(\u001b[49m\u001b[38;5;124;43m\"\u001b[39;49m\u001b[38;5;124;43m \u001b[39;49m\u001b[38;5;124;43m\"\u001b[39;49m\u001b[43m,\u001b[49m\u001b[38;5;124;43m\"\u001b[39;49m\u001b[38;5;124;43m\"\u001b[39;49m\u001b[43m)\u001b[49m\u001b[43m \u001b[49m\u001b[38;5;28;43;01mfor\u001b[39;49;00m\u001b[43m \u001b[49m\u001b[43mi\u001b[49m\u001b[43m \u001b[49m\u001b[38;5;129;43;01min\u001b[39;49;00m\u001b[43m \u001b[49m\u001b[43mx\u001b[49m\u001b[43m]\u001b[49m\u001b[43m)\u001b[49m\n\u001b[0;32m      2\u001b[0m movies_new[\u001b[38;5;124m'\u001b[39m\u001b[38;5;124mcast\u001b[39m\u001b[38;5;124m'\u001b[39m] \u001b[38;5;241m=\u001b[39m movies_new[\u001b[38;5;124m'\u001b[39m\u001b[38;5;124mcast\u001b[39m\u001b[38;5;124m'\u001b[39m]\u001b[38;5;241m.\u001b[39mapply(\u001b[38;5;28;01mlambda\u001b[39;00m x:[i\u001b[38;5;241m.\u001b[39mreplace(\u001b[38;5;124m\"\u001b[39m\u001b[38;5;124m \u001b[39m\u001b[38;5;124m\"\u001b[39m,\u001b[38;5;124m\"\u001b[39m\u001b[38;5;124m\"\u001b[39m) \u001b[38;5;28;01mfor\u001b[39;00m i \u001b[38;5;129;01min\u001b[39;00m x])\n\u001b[0;32m      3\u001b[0m movies_new[\u001b[38;5;124m'\u001b[39m\u001b[38;5;124mcrew\u001b[39m\u001b[38;5;124m'\u001b[39m] \u001b[38;5;241m=\u001b[39m movies_new[\u001b[38;5;124m'\u001b[39m\u001b[38;5;124mcrew\u001b[39m\u001b[38;5;124m'\u001b[39m]\u001b[38;5;241m.\u001b[39mapply(\u001b[38;5;28;01mlambda\u001b[39;00m x:[i\u001b[38;5;241m.\u001b[39mreplace(\u001b[38;5;124m\"\u001b[39m\u001b[38;5;124m \u001b[39m\u001b[38;5;124m\"\u001b[39m,\u001b[38;5;124m\"\u001b[39m\u001b[38;5;124m\"\u001b[39m) \u001b[38;5;28;01mfor\u001b[39;00m i \u001b[38;5;129;01min\u001b[39;00m x])\n",
      "File \u001b[1;32me:\\python_env\\movie\\Lib\\site-packages\\pandas\\core\\series.py:4924\u001b[0m, in \u001b[0;36mSeries.apply\u001b[1;34m(self, func, convert_dtype, args, by_row, **kwargs)\u001b[0m\n\u001b[0;32m   4789\u001b[0m \u001b[38;5;28;01mdef\u001b[39;00m \u001b[38;5;21mapply\u001b[39m(\n\u001b[0;32m   4790\u001b[0m     \u001b[38;5;28mself\u001b[39m,\n\u001b[0;32m   4791\u001b[0m     func: AggFuncType,\n\u001b[1;32m   (...)\u001b[0m\n\u001b[0;32m   4796\u001b[0m     \u001b[38;5;241m*\u001b[39m\u001b[38;5;241m*\u001b[39mkwargs,\n\u001b[0;32m   4797\u001b[0m ) \u001b[38;5;241m-\u001b[39m\u001b[38;5;241m>\u001b[39m DataFrame \u001b[38;5;241m|\u001b[39m Series:\n\u001b[0;32m   4798\u001b[0m \u001b[38;5;250m    \u001b[39m\u001b[38;5;124;03m\"\"\"\u001b[39;00m\n\u001b[0;32m   4799\u001b[0m \u001b[38;5;124;03m    Invoke function on values of Series.\u001b[39;00m\n\u001b[0;32m   4800\u001b[0m \n\u001b[1;32m   (...)\u001b[0m\n\u001b[0;32m   4915\u001b[0m \u001b[38;5;124;03m    dtype: float64\u001b[39;00m\n\u001b[0;32m   4916\u001b[0m \u001b[38;5;124;03m    \"\"\"\u001b[39;00m\n\u001b[0;32m   4917\u001b[0m     \u001b[38;5;28;01mreturn\u001b[39;00m \u001b[43mSeriesApply\u001b[49m\u001b[43m(\u001b[49m\n\u001b[0;32m   4918\u001b[0m \u001b[43m        \u001b[49m\u001b[38;5;28;43mself\u001b[39;49m\u001b[43m,\u001b[49m\n\u001b[0;32m   4919\u001b[0m \u001b[43m        \u001b[49m\u001b[43mfunc\u001b[49m\u001b[43m,\u001b[49m\n\u001b[0;32m   4920\u001b[0m \u001b[43m        \u001b[49m\u001b[43mconvert_dtype\u001b[49m\u001b[38;5;241;43m=\u001b[39;49m\u001b[43mconvert_dtype\u001b[49m\u001b[43m,\u001b[49m\n\u001b[0;32m   4921\u001b[0m \u001b[43m        \u001b[49m\u001b[43mby_row\u001b[49m\u001b[38;5;241;43m=\u001b[39;49m\u001b[43mby_row\u001b[49m\u001b[43m,\u001b[49m\n\u001b[0;32m   4922\u001b[0m \u001b[43m        \u001b[49m\u001b[43margs\u001b[49m\u001b[38;5;241;43m=\u001b[39;49m\u001b[43margs\u001b[49m\u001b[43m,\u001b[49m\n\u001b[0;32m   4923\u001b[0m \u001b[43m        \u001b[49m\u001b[43mkwargs\u001b[49m\u001b[38;5;241;43m=\u001b[39;49m\u001b[43mkwargs\u001b[49m\u001b[43m,\u001b[49m\n\u001b[1;32m-> 4924\u001b[0m \u001b[43m    \u001b[49m\u001b[43m)\u001b[49m\u001b[38;5;241;43m.\u001b[39;49m\u001b[43mapply\u001b[49m\u001b[43m(\u001b[49m\u001b[43m)\u001b[49m\n",
      "File \u001b[1;32me:\\python_env\\movie\\Lib\\site-packages\\pandas\\core\\apply.py:1427\u001b[0m, in \u001b[0;36mSeriesApply.apply\u001b[1;34m(self)\u001b[0m\n\u001b[0;32m   1424\u001b[0m     \u001b[38;5;28;01mreturn\u001b[39;00m \u001b[38;5;28mself\u001b[39m\u001b[38;5;241m.\u001b[39mapply_compat()\n\u001b[0;32m   1426\u001b[0m \u001b[38;5;66;03m# self.func is Callable\u001b[39;00m\n\u001b[1;32m-> 1427\u001b[0m \u001b[38;5;28;01mreturn\u001b[39;00m \u001b[38;5;28;43mself\u001b[39;49m\u001b[38;5;241;43m.\u001b[39;49m\u001b[43mapply_standard\u001b[49m\u001b[43m(\u001b[49m\u001b[43m)\u001b[49m\n",
      "File \u001b[1;32me:\\python_env\\movie\\Lib\\site-packages\\pandas\\core\\apply.py:1507\u001b[0m, in \u001b[0;36mSeriesApply.apply_standard\u001b[1;34m(self)\u001b[0m\n\u001b[0;32m   1501\u001b[0m \u001b[38;5;66;03m# row-wise access\u001b[39;00m\n\u001b[0;32m   1502\u001b[0m \u001b[38;5;66;03m# apply doesn't have a `na_action` keyword and for backward compat reasons\u001b[39;00m\n\u001b[0;32m   1503\u001b[0m \u001b[38;5;66;03m# we need to give `na_action=\"ignore\"` for categorical data.\u001b[39;00m\n\u001b[0;32m   1504\u001b[0m \u001b[38;5;66;03m# TODO: remove the `na_action=\"ignore\"` when that default has been changed in\u001b[39;00m\n\u001b[0;32m   1505\u001b[0m \u001b[38;5;66;03m#  Categorical (GH51645).\u001b[39;00m\n\u001b[0;32m   1506\u001b[0m action \u001b[38;5;241m=\u001b[39m \u001b[38;5;124m\"\u001b[39m\u001b[38;5;124mignore\u001b[39m\u001b[38;5;124m\"\u001b[39m \u001b[38;5;28;01mif\u001b[39;00m \u001b[38;5;28misinstance\u001b[39m(obj\u001b[38;5;241m.\u001b[39mdtype, CategoricalDtype) \u001b[38;5;28;01melse\u001b[39;00m \u001b[38;5;28;01mNone\u001b[39;00m\n\u001b[1;32m-> 1507\u001b[0m mapped \u001b[38;5;241m=\u001b[39m \u001b[43mobj\u001b[49m\u001b[38;5;241;43m.\u001b[39;49m\u001b[43m_map_values\u001b[49m\u001b[43m(\u001b[49m\n\u001b[0;32m   1508\u001b[0m \u001b[43m    \u001b[49m\u001b[43mmapper\u001b[49m\u001b[38;5;241;43m=\u001b[39;49m\u001b[43mcurried\u001b[49m\u001b[43m,\u001b[49m\u001b[43m \u001b[49m\u001b[43mna_action\u001b[49m\u001b[38;5;241;43m=\u001b[39;49m\u001b[43maction\u001b[49m\u001b[43m,\u001b[49m\u001b[43m \u001b[49m\u001b[43mconvert\u001b[49m\u001b[38;5;241;43m=\u001b[39;49m\u001b[38;5;28;43mself\u001b[39;49m\u001b[38;5;241;43m.\u001b[39;49m\u001b[43mconvert_dtype\u001b[49m\n\u001b[0;32m   1509\u001b[0m \u001b[43m\u001b[49m\u001b[43m)\u001b[49m\n\u001b[0;32m   1511\u001b[0m \u001b[38;5;28;01mif\u001b[39;00m \u001b[38;5;28mlen\u001b[39m(mapped) \u001b[38;5;129;01mand\u001b[39;00m \u001b[38;5;28misinstance\u001b[39m(mapped[\u001b[38;5;241m0\u001b[39m], ABCSeries):\n\u001b[0;32m   1512\u001b[0m     \u001b[38;5;66;03m# GH#43986 Need to do list(mapped) in order to get treated as nested\u001b[39;00m\n\u001b[0;32m   1513\u001b[0m     \u001b[38;5;66;03m#  See also GH#25959 regarding EA support\u001b[39;00m\n\u001b[0;32m   1514\u001b[0m     \u001b[38;5;28;01mreturn\u001b[39;00m obj\u001b[38;5;241m.\u001b[39m_constructor_expanddim(\u001b[38;5;28mlist\u001b[39m(mapped), index\u001b[38;5;241m=\u001b[39mobj\u001b[38;5;241m.\u001b[39mindex)\n",
      "File \u001b[1;32me:\\python_env\\movie\\Lib\\site-packages\\pandas\\core\\base.py:921\u001b[0m, in \u001b[0;36mIndexOpsMixin._map_values\u001b[1;34m(self, mapper, na_action, convert)\u001b[0m\n\u001b[0;32m    918\u001b[0m \u001b[38;5;28;01mif\u001b[39;00m \u001b[38;5;28misinstance\u001b[39m(arr, ExtensionArray):\n\u001b[0;32m    919\u001b[0m     \u001b[38;5;28;01mreturn\u001b[39;00m arr\u001b[38;5;241m.\u001b[39mmap(mapper, na_action\u001b[38;5;241m=\u001b[39mna_action)\n\u001b[1;32m--> 921\u001b[0m \u001b[38;5;28;01mreturn\u001b[39;00m \u001b[43malgorithms\u001b[49m\u001b[38;5;241;43m.\u001b[39;49m\u001b[43mmap_array\u001b[49m\u001b[43m(\u001b[49m\u001b[43marr\u001b[49m\u001b[43m,\u001b[49m\u001b[43m \u001b[49m\u001b[43mmapper\u001b[49m\u001b[43m,\u001b[49m\u001b[43m \u001b[49m\u001b[43mna_action\u001b[49m\u001b[38;5;241;43m=\u001b[39;49m\u001b[43mna_action\u001b[49m\u001b[43m,\u001b[49m\u001b[43m \u001b[49m\u001b[43mconvert\u001b[49m\u001b[38;5;241;43m=\u001b[39;49m\u001b[43mconvert\u001b[49m\u001b[43m)\u001b[49m\n",
      "File \u001b[1;32me:\\python_env\\movie\\Lib\\site-packages\\pandas\\core\\algorithms.py:1743\u001b[0m, in \u001b[0;36mmap_array\u001b[1;34m(arr, mapper, na_action, convert)\u001b[0m\n\u001b[0;32m   1741\u001b[0m values \u001b[38;5;241m=\u001b[39m arr\u001b[38;5;241m.\u001b[39mastype(\u001b[38;5;28mobject\u001b[39m, copy\u001b[38;5;241m=\u001b[39m\u001b[38;5;28;01mFalse\u001b[39;00m)\n\u001b[0;32m   1742\u001b[0m \u001b[38;5;28;01mif\u001b[39;00m na_action \u001b[38;5;129;01mis\u001b[39;00m \u001b[38;5;28;01mNone\u001b[39;00m:\n\u001b[1;32m-> 1743\u001b[0m     \u001b[38;5;28;01mreturn\u001b[39;00m \u001b[43mlib\u001b[49m\u001b[38;5;241;43m.\u001b[39;49m\u001b[43mmap_infer\u001b[49m\u001b[43m(\u001b[49m\u001b[43mvalues\u001b[49m\u001b[43m,\u001b[49m\u001b[43m \u001b[49m\u001b[43mmapper\u001b[49m\u001b[43m,\u001b[49m\u001b[43m \u001b[49m\u001b[43mconvert\u001b[49m\u001b[38;5;241;43m=\u001b[39;49m\u001b[43mconvert\u001b[49m\u001b[43m)\u001b[49m\n\u001b[0;32m   1744\u001b[0m \u001b[38;5;28;01melse\u001b[39;00m:\n\u001b[0;32m   1745\u001b[0m     \u001b[38;5;28;01mreturn\u001b[39;00m lib\u001b[38;5;241m.\u001b[39mmap_infer_mask(\n\u001b[0;32m   1746\u001b[0m         values, mapper, mask\u001b[38;5;241m=\u001b[39misna(values)\u001b[38;5;241m.\u001b[39mview(np\u001b[38;5;241m.\u001b[39muint8), convert\u001b[38;5;241m=\u001b[39mconvert\n\u001b[0;32m   1747\u001b[0m     )\n",
      "File \u001b[1;32mlib.pyx:2972\u001b[0m, in \u001b[0;36mpandas._libs.lib.map_infer\u001b[1;34m()\u001b[0m\n",
      "Cell \u001b[1;32mIn[16], line 1\u001b[0m, in \u001b[0;36m<lambda>\u001b[1;34m(x)\u001b[0m\n\u001b[1;32m----> 1\u001b[0m movies_new[\u001b[38;5;124m'\u001b[39m\u001b[38;5;124mkeywords\u001b[39m\u001b[38;5;124m'\u001b[39m] \u001b[38;5;241m=\u001b[39m movies_new[\u001b[38;5;124m'\u001b[39m\u001b[38;5;124mgenres\u001b[39m\u001b[38;5;124m'\u001b[39m]\u001b[38;5;241m.\u001b[39mapply(\u001b[38;5;28;01mlambda\u001b[39;00m x:\u001b[43m[\u001b[49m\u001b[43mi\u001b[49m\u001b[38;5;241;43m.\u001b[39;49m\u001b[43mreplace\u001b[49m\u001b[43m(\u001b[49m\u001b[38;5;124;43m\"\u001b[39;49m\u001b[38;5;124;43m \u001b[39;49m\u001b[38;5;124;43m\"\u001b[39;49m\u001b[43m,\u001b[49m\u001b[38;5;124;43m\"\u001b[39;49m\u001b[38;5;124;43m\"\u001b[39;49m\u001b[43m)\u001b[49m\u001b[43m \u001b[49m\u001b[38;5;28;43;01mfor\u001b[39;49;00m\u001b[43m \u001b[49m\u001b[43mi\u001b[49m\u001b[43m \u001b[49m\u001b[38;5;129;43;01min\u001b[39;49;00m\u001b[43m \u001b[49m\u001b[43mx\u001b[49m\u001b[43m]\u001b[49m)\n\u001b[0;32m      2\u001b[0m movies_new[\u001b[38;5;124m'\u001b[39m\u001b[38;5;124mcast\u001b[39m\u001b[38;5;124m'\u001b[39m] \u001b[38;5;241m=\u001b[39m movies_new[\u001b[38;5;124m'\u001b[39m\u001b[38;5;124mcast\u001b[39m\u001b[38;5;124m'\u001b[39m]\u001b[38;5;241m.\u001b[39mapply(\u001b[38;5;28;01mlambda\u001b[39;00m x:[i\u001b[38;5;241m.\u001b[39mreplace(\u001b[38;5;124m\"\u001b[39m\u001b[38;5;124m \u001b[39m\u001b[38;5;124m\"\u001b[39m,\u001b[38;5;124m\"\u001b[39m\u001b[38;5;124m\"\u001b[39m) \u001b[38;5;28;01mfor\u001b[39;00m i \u001b[38;5;129;01min\u001b[39;00m x])\n\u001b[0;32m      3\u001b[0m movies_new[\u001b[38;5;124m'\u001b[39m\u001b[38;5;124mcrew\u001b[39m\u001b[38;5;124m'\u001b[39m] \u001b[38;5;241m=\u001b[39m movies_new[\u001b[38;5;124m'\u001b[39m\u001b[38;5;124mcrew\u001b[39m\u001b[38;5;124m'\u001b[39m]\u001b[38;5;241m.\u001b[39mapply(\u001b[38;5;28;01mlambda\u001b[39;00m x:[i\u001b[38;5;241m.\u001b[39mreplace(\u001b[38;5;124m\"\u001b[39m\u001b[38;5;124m \u001b[39m\u001b[38;5;124m\"\u001b[39m,\u001b[38;5;124m\"\u001b[39m\u001b[38;5;124m\"\u001b[39m) \u001b[38;5;28;01mfor\u001b[39;00m i \u001b[38;5;129;01min\u001b[39;00m x])\n",
      "\u001b[1;31mTypeError\u001b[0m: 'float' object is not iterable"
     ]
    }
   ],
   "source": [
    "movies_new['keywords'] = movies_new['genres'].apply(lambda x:[i.replace(\" \",\"\") for i in x])\n",
    "movies_new['cast'] = movies_new['cast'].apply(lambda x:[i.replace(\" \",\"\") for i in x])\n",
    "movies_new['crew'] = movies_new['crew'].apply(lambda x:[i.replace(\" \",\"\") for i in x])"
   ]
  },
  {
   "cell_type": "code",
   "execution_count": 17,
   "metadata": {
    "metadata": {}
   },
   "outputs": [
    {
     "data": {
      "text/html": [
       "<div>\n",
       "<style scoped>\n",
       "    .dataframe tbody tr th:only-of-type {\n",
       "        vertical-align: middle;\n",
       "    }\n",
       "\n",
       "    .dataframe tbody tr th {\n",
       "        vertical-align: top;\n",
       "    }\n",
       "\n",
       "    .dataframe thead th {\n",
       "        text-align: right;\n",
       "    }\n",
       "</style>\n",
       "<table border=\"1\" class=\"dataframe\">\n",
       "  <thead>\n",
       "    <tr style=\"text-align: right;\">\n",
       "      <th></th>\n",
       "      <th>Unnamed: 0</th>\n",
       "      <th>movie_id</th>\n",
       "      <th>title</th>\n",
       "      <th>overview</th>\n",
       "      <th>genres</th>\n",
       "      <th>keywords</th>\n",
       "      <th>cast</th>\n",
       "      <th>crew</th>\n",
       "    </tr>\n",
       "  </thead>\n",
       "  <tbody>\n",
       "    <tr>\n",
       "      <th>0</th>\n",
       "      <td>0</td>\n",
       "      <td>19995</td>\n",
       "      <td>Avatar</td>\n",
       "      <td>[In, the, 22nd, century,, a, paraplegic, Marin...</td>\n",
       "      <td>['Action']</td>\n",
       "      <td>['culture clash']</td>\n",
       "      <td>['Sam Worthington', 'Zoe Saldana', 'Sigourney ...</td>\n",
       "      <td>[James Cameron]</td>\n",
       "    </tr>\n",
       "    <tr>\n",
       "      <th>1</th>\n",
       "      <td>1</td>\n",
       "      <td>285</td>\n",
       "      <td>Pirates of the Caribbean: At World's End</td>\n",
       "      <td>[Captain, Barbossa,, long, believed, to, be, d...</td>\n",
       "      <td>['Adventure']</td>\n",
       "      <td>['ocean']</td>\n",
       "      <td>['Johnny Depp', 'Orlando Bloom', 'Keira Knight...</td>\n",
       "      <td>[Gore Verbinski]</td>\n",
       "    </tr>\n",
       "  </tbody>\n",
       "</table>\n",
       "</div>"
      ],
      "text/plain": [
       "   Unnamed: 0  movie_id                                     title  \\\n",
       "0           0     19995                                    Avatar   \n",
       "1           1       285  Pirates of the Caribbean: At World's End   \n",
       "\n",
       "                                            overview         genres  \\\n",
       "0  [In, the, 22nd, century,, a, paraplegic, Marin...     ['Action']   \n",
       "1  [Captain, Barbossa,, long, believed, to, be, d...  ['Adventure']   \n",
       "\n",
       "            keywords                                               cast  \\\n",
       "0  ['culture clash']  ['Sam Worthington', 'Zoe Saldana', 'Sigourney ...   \n",
       "1          ['ocean']  ['Johnny Depp', 'Orlando Bloom', 'Keira Knight...   \n",
       "\n",
       "               crew  \n",
       "0   [James Cameron]  \n",
       "1  [Gore Verbinski]  "
      ]
     },
     "execution_count": 17,
     "metadata": {},
     "output_type": "execute_result"
    }
   ],
   "source": [
    "movies_new.head(2)"
   ]
  },
  {
   "cell_type": "code",
   "execution_count": null,
   "metadata": {},
   "outputs": [],
   "source": []
  },
  {
   "cell_type": "markdown",
   "metadata": {},
   "source": [
    "#### adding the columns in one tags column\n"
   ]
  },
  {
   "cell_type": "code",
   "execution_count": 167,
   "metadata": {
    "metadata": {}
   },
   "outputs": [],
   "source": [
    "movies_new['tags'] = movies_new['overview']+movies_new['genres']+movies_new['keywords']+movies_new['crew']+movies_new['cast']"
   ]
  },
  {
   "cell_type": "code",
   "execution_count": 168,
   "metadata": {
    "metadata": {}
   },
   "outputs": [
    {
     "data": {
      "text/html": [
       "<div>\n",
       "<style scoped>\n",
       "    .dataframe tbody tr th:only-of-type {\n",
       "        vertical-align: middle;\n",
       "    }\n",
       "\n",
       "    .dataframe tbody tr th {\n",
       "        vertical-align: top;\n",
       "    }\n",
       "\n",
       "    .dataframe thead th {\n",
       "        text-align: right;\n",
       "    }\n",
       "</style>\n",
       "<table border=\"1\" class=\"dataframe\">\n",
       "  <thead>\n",
       "    <tr style=\"text-align: right;\">\n",
       "      <th></th>\n",
       "      <th>Unnamed: 0</th>\n",
       "      <th>movie_id</th>\n",
       "      <th>title</th>\n",
       "      <th>overview</th>\n",
       "      <th>genres</th>\n",
       "      <th>keywords</th>\n",
       "      <th>cast</th>\n",
       "      <th>crew</th>\n",
       "      <th>tags</th>\n",
       "    </tr>\n",
       "  </thead>\n",
       "  <tbody>\n",
       "    <tr>\n",
       "      <th>0</th>\n",
       "      <td>0</td>\n",
       "      <td>19995</td>\n",
       "      <td>Avatar</td>\n",
       "      <td>[In, the, 22nd, century,, a, paraplegic, Marin...</td>\n",
       "      <td>[Action]</td>\n",
       "      <td>[Action]</td>\n",
       "      <td>[SamWorthington, ZoeSaldana, SigourneyWeaver, ...</td>\n",
       "      <td>[JamesCameron]</td>\n",
       "      <td>[In, the, 22nd, century,, a, paraplegic, Marin...</td>\n",
       "    </tr>\n",
       "    <tr>\n",
       "      <th>1</th>\n",
       "      <td>1</td>\n",
       "      <td>285</td>\n",
       "      <td>Pirates of the Caribbean: At World's End</td>\n",
       "      <td>[Captain, Barbossa,, long, believed, to, be, d...</td>\n",
       "      <td>[Adventure]</td>\n",
       "      <td>[Adventure]</td>\n",
       "      <td>[JohnnyDepp, OrlandoBloom, KeiraKnightley, Ste...</td>\n",
       "      <td>[GoreVerbinski]</td>\n",
       "      <td>[Captain, Barbossa,, long, believed, to, be, d...</td>\n",
       "    </tr>\n",
       "  </tbody>\n",
       "</table>\n",
       "</div>"
      ],
      "text/plain": [
       "   Unnamed: 0  movie_id                                     title  \\\n",
       "0           0     19995                                    Avatar   \n",
       "1           1       285  Pirates of the Caribbean: At World's End   \n",
       "\n",
       "                                            overview       genres  \\\n",
       "0  [In, the, 22nd, century,, a, paraplegic, Marin...     [Action]   \n",
       "1  [Captain, Barbossa,, long, believed, to, be, d...  [Adventure]   \n",
       "\n",
       "      keywords                                               cast  \\\n",
       "0     [Action]  [SamWorthington, ZoeSaldana, SigourneyWeaver, ...   \n",
       "1  [Adventure]  [JohnnyDepp, OrlandoBloom, KeiraKnightley, Ste...   \n",
       "\n",
       "              crew                                               tags  \n",
       "0   [JamesCameron]  [In, the, 22nd, century,, a, paraplegic, Marin...  \n",
       "1  [GoreVerbinski]  [Captain, Barbossa,, long, believed, to, be, d...  "
      ]
     },
     "execution_count": 168,
     "metadata": {},
     "output_type": "execute_result"
    }
   ],
   "source": [
    "movies_new.head(2)"
   ]
  },
  {
   "cell_type": "code",
   "execution_count": null,
   "metadata": {},
   "outputs": [],
   "source": []
  },
  {
   "cell_type": "code",
   "execution_count": 2,
   "metadata": {},
   "outputs": [],
   "source": [
    "import numpy as np\n",
    "import pandas as pd"
   ]
  },
  {
   "cell_type": "code",
   "execution_count": 3,
   "metadata": {
    "metadata": {}
   },
   "outputs": [],
   "source": [
    "new_df = pd.read_csv('new_dff.csv')"
   ]
  },
  {
   "cell_type": "code",
   "execution_count": 24,
   "metadata": {
    "metadata": {}
   },
   "outputs": [],
   "source": [
    "# new_df = movies_new[['movie_id','tags','title']]"
   ]
  },
  {
   "cell_type": "code",
   "execution_count": 4,
   "metadata": {
    "metadata": {}
   },
   "outputs": [
    {
     "data": {
      "text/html": [
       "<div>\n",
       "<style scoped>\n",
       "    .dataframe tbody tr th:only-of-type {\n",
       "        vertical-align: middle;\n",
       "    }\n",
       "\n",
       "    .dataframe tbody tr th {\n",
       "        vertical-align: top;\n",
       "    }\n",
       "\n",
       "    .dataframe thead th {\n",
       "        text-align: right;\n",
       "    }\n",
       "</style>\n",
       "<table border=\"1\" class=\"dataframe\">\n",
       "  <thead>\n",
       "    <tr style=\"text-align: right;\">\n",
       "      <th></th>\n",
       "      <th>Unnamed: 0</th>\n",
       "      <th>movie_id</th>\n",
       "      <th>tags</th>\n",
       "      <th>title</th>\n",
       "    </tr>\n",
       "  </thead>\n",
       "  <tbody>\n",
       "    <tr>\n",
       "      <th>0</th>\n",
       "      <td>0</td>\n",
       "      <td>19995</td>\n",
       "      <td>['In', 'the', '22nd', 'century,', 'a', 'parapl...</td>\n",
       "      <td>Avatar</td>\n",
       "    </tr>\n",
       "    <tr>\n",
       "      <th>1</th>\n",
       "      <td>1</td>\n",
       "      <td>285</td>\n",
       "      <td>['Captain', 'Barbossa,', 'long', 'believed', '...</td>\n",
       "      <td>Pirates of the Caribbean: At World's End</td>\n",
       "    </tr>\n",
       "  </tbody>\n",
       "</table>\n",
       "</div>"
      ],
      "text/plain": [
       "   Unnamed: 0  movie_id                                               tags  \\\n",
       "0           0     19995  ['In', 'the', '22nd', 'century,', 'a', 'parapl...   \n",
       "1           1       285  ['Captain', 'Barbossa,', 'long', 'believed', '...   \n",
       "\n",
       "                                      title  \n",
       "0                                    Avatar  \n",
       "1  Pirates of the Caribbean: At World's End  "
      ]
     },
     "execution_count": 4,
     "metadata": {},
     "output_type": "execute_result"
    }
   ],
   "source": [
    "new_df.head(2)"
   ]
  },
  {
   "cell_type": "code",
   "execution_count": 5,
   "metadata": {
    "metadata": {}
   },
   "outputs": [],
   "source": [
    "import ast\n",
    "\n",
    "# Custom function to safely convert string representations to actual lists\n",
    "def safe_literal_eval(x):\n",
    "    try:\n",
    "        return ast.literal_eval(x)\n",
    "    except (ValueError, SyntaxError):\n",
    "        # If evaluation fails, return an empty list or handle the error as per your requirement\n",
    "        return []\n",
    "\n",
    "# Assuming 'movies_new' DataFrame has 'keywords' column where values are stored as string representations of lists\n",
    "# Apply the custom function to convert string representations to actual lists\n",
    "new_df['tags'] = new_df['tags'].apply(safe_literal_eval)\n"
   ]
  },
  {
   "cell_type": "code",
   "execution_count": 6,
   "metadata": {
    "metadata": {}
   },
   "outputs": [
    {
     "data": {
      "text/html": [
       "<div>\n",
       "<style scoped>\n",
       "    .dataframe tbody tr th:only-of-type {\n",
       "        vertical-align: middle;\n",
       "    }\n",
       "\n",
       "    .dataframe tbody tr th {\n",
       "        vertical-align: top;\n",
       "    }\n",
       "\n",
       "    .dataframe thead th {\n",
       "        text-align: right;\n",
       "    }\n",
       "</style>\n",
       "<table border=\"1\" class=\"dataframe\">\n",
       "  <thead>\n",
       "    <tr style=\"text-align: right;\">\n",
       "      <th></th>\n",
       "      <th>Unnamed: 0</th>\n",
       "      <th>movie_id</th>\n",
       "      <th>tags</th>\n",
       "      <th>title</th>\n",
       "    </tr>\n",
       "  </thead>\n",
       "  <tbody>\n",
       "    <tr>\n",
       "      <th>0</th>\n",
       "      <td>0</td>\n",
       "      <td>19995</td>\n",
       "      <td>[In, the, 22nd, century,, a, paraplegic, Marin...</td>\n",
       "      <td>Avatar</td>\n",
       "    </tr>\n",
       "    <tr>\n",
       "      <th>1</th>\n",
       "      <td>1</td>\n",
       "      <td>285</td>\n",
       "      <td>[Captain, Barbossa,, long, believed, to, be, d...</td>\n",
       "      <td>Pirates of the Caribbean: At World's End</td>\n",
       "    </tr>\n",
       "  </tbody>\n",
       "</table>\n",
       "</div>"
      ],
      "text/plain": [
       "   Unnamed: 0  movie_id                                               tags  \\\n",
       "0           0     19995  [In, the, 22nd, century,, a, paraplegic, Marin...   \n",
       "1           1       285  [Captain, Barbossa,, long, believed, to, be, d...   \n",
       "\n",
       "                                      title  \n",
       "0                                    Avatar  \n",
       "1  Pirates of the Caribbean: At World's End  "
      ]
     },
     "execution_count": 6,
     "metadata": {},
     "output_type": "execute_result"
    }
   ],
   "source": [
    "new_df.head(2)"
   ]
  },
  {
   "cell_type": "code",
   "execution_count": 7,
   "metadata": {
    "metadata": {}
   },
   "outputs": [],
   "source": [
    "new_df['tags'] = new_df['tags'].apply(lambda x:\" \".join(x))"
   ]
  },
  {
   "cell_type": "code",
   "execution_count": 8,
   "metadata": {
    "metadata": {}
   },
   "outputs": [
    {
     "data": {
      "text/html": [
       "<div>\n",
       "<style scoped>\n",
       "    .dataframe tbody tr th:only-of-type {\n",
       "        vertical-align: middle;\n",
       "    }\n",
       "\n",
       "    .dataframe tbody tr th {\n",
       "        vertical-align: top;\n",
       "    }\n",
       "\n",
       "    .dataframe thead th {\n",
       "        text-align: right;\n",
       "    }\n",
       "</style>\n",
       "<table border=\"1\" class=\"dataframe\">\n",
       "  <thead>\n",
       "    <tr style=\"text-align: right;\">\n",
       "      <th></th>\n",
       "      <th>Unnamed: 0</th>\n",
       "      <th>movie_id</th>\n",
       "      <th>tags</th>\n",
       "      <th>title</th>\n",
       "    </tr>\n",
       "  </thead>\n",
       "  <tbody>\n",
       "    <tr>\n",
       "      <th>0</th>\n",
       "      <td>0</td>\n",
       "      <td>19995</td>\n",
       "      <td>In the 22nd century, a paraplegic Marine is di...</td>\n",
       "      <td>Avatar</td>\n",
       "    </tr>\n",
       "    <tr>\n",
       "      <th>1</th>\n",
       "      <td>1</td>\n",
       "      <td>285</td>\n",
       "      <td>Captain Barbossa, long believed to be dead, ha...</td>\n",
       "      <td>Pirates of the Caribbean: At World's End</td>\n",
       "    </tr>\n",
       "  </tbody>\n",
       "</table>\n",
       "</div>"
      ],
      "text/plain": [
       "   Unnamed: 0  movie_id                                               tags  \\\n",
       "0           0     19995  In the 22nd century, a paraplegic Marine is di...   \n",
       "1           1       285  Captain Barbossa, long believed to be dead, ha...   \n",
       "\n",
       "                                      title  \n",
       "0                                    Avatar  \n",
       "1  Pirates of the Caribbean: At World's End  "
      ]
     },
     "execution_count": 8,
     "metadata": {},
     "output_type": "execute_result"
    }
   ],
   "source": [
    "new_df.head(2)"
   ]
  },
  {
   "cell_type": "code",
   "execution_count": 9,
   "metadata": {
    "metadata": {}
   },
   "outputs": [
    {
     "data": {
      "text/plain": [
       "'In the 22nd century, a paraplegic Marine is dispatched to the moon Pandora on a unique mission, but becomes torn between following orders and protecting an alien civilization. Action Action JamesCameron SamWorthington ZoeSaldana SigourneyWeaver StephenLang MichelleRodriguez GiovanniRibisi JoelDavidMoore CCHPounder WesStudi LazAlonso DileepRao MattGerald SeanAnthonyMoran JasonWhyte ScottLawrence KellyKilgour JamesPatrickPitt SeanPatrickMurphy PeterDillon KevinDorman KelsonHenderson DavidVanHorn JacobTomuri MichaelBlain-Rozgay JonCurry LukeHawker WoodySchultz PeterMensah SoniaYee JahnelCurfman IlramChoi KylaWarren LisaRoumain DebraWilson ChrisMala TaylorKibby JodieLandau JulieLamm CullenB.Madden JosephBradyMadden FrankieTorres AustinWilson SaraWilson TamicaWashington-Miller LucyBriant NathanMeister GerryBlair MatthewChamberlain PaulYates WrayWilson JamesGaylyn MelvinLenoClarkIII CarvonFutrell BrandonJelkes MicahMoch HanniyahMuhammad ChristopherNolen ChristaOliver AprilMarieThomas BravitaA.Threatt ColinBleasdale MikeBodnar MattClayton NicoleDionne JamieHarrison AllanHenry AnthonyIngruber AshleyJeffery DeanKnowsley JosephMika-Hunt TerryNotary KaiPantano LoganPithyou StuartPollock Raja GarethRuck RhianSheehan T.J.Storm JodieTaylor AliciaVela-Bailey RichardWhiteside NikieZambo JuleneRenee'"
      ]
     },
     "execution_count": 9,
     "metadata": {},
     "output_type": "execute_result"
    }
   ],
   "source": [
    "new_df['tags'][0]\n"
   ]
  },
  {
   "cell_type": "code",
   "execution_count": 10,
   "metadata": {
    "metadata": {}
   },
   "outputs": [],
   "source": [
    "new_df['tags'] = new_df['tags'].apply(lambda x:x.lower())"
   ]
  },
  {
   "cell_type": "code",
   "execution_count": 11,
   "metadata": {
    "metadata": {}
   },
   "outputs": [
    {
     "data": {
      "text/html": [
       "<div>\n",
       "<style scoped>\n",
       "    .dataframe tbody tr th:only-of-type {\n",
       "        vertical-align: middle;\n",
       "    }\n",
       "\n",
       "    .dataframe tbody tr th {\n",
       "        vertical-align: top;\n",
       "    }\n",
       "\n",
       "    .dataframe thead th {\n",
       "        text-align: right;\n",
       "    }\n",
       "</style>\n",
       "<table border=\"1\" class=\"dataframe\">\n",
       "  <thead>\n",
       "    <tr style=\"text-align: right;\">\n",
       "      <th></th>\n",
       "      <th>Unnamed: 0</th>\n",
       "      <th>movie_id</th>\n",
       "      <th>tags</th>\n",
       "      <th>title</th>\n",
       "    </tr>\n",
       "  </thead>\n",
       "  <tbody>\n",
       "    <tr>\n",
       "      <th>0</th>\n",
       "      <td>0</td>\n",
       "      <td>19995</td>\n",
       "      <td>in the 22nd century, a paraplegic marine is di...</td>\n",
       "      <td>Avatar</td>\n",
       "    </tr>\n",
       "    <tr>\n",
       "      <th>1</th>\n",
       "      <td>1</td>\n",
       "      <td>285</td>\n",
       "      <td>captain barbossa, long believed to be dead, ha...</td>\n",
       "      <td>Pirates of the Caribbean: At World's End</td>\n",
       "    </tr>\n",
       "  </tbody>\n",
       "</table>\n",
       "</div>"
      ],
      "text/plain": [
       "   Unnamed: 0  movie_id                                               tags  \\\n",
       "0           0     19995  in the 22nd century, a paraplegic marine is di...   \n",
       "1           1       285  captain barbossa, long believed to be dead, ha...   \n",
       "\n",
       "                                      title  \n",
       "0                                    Avatar  \n",
       "1  Pirates of the Caribbean: At World's End  "
      ]
     },
     "execution_count": 11,
     "metadata": {},
     "output_type": "execute_result"
    }
   ],
   "source": [
    "new_df.head(2)"
   ]
  },
  {
   "cell_type": "code",
   "execution_count": 12,
   "metadata": {
    "metadata": {}
   },
   "outputs": [],
   "source": [
    "new_df = new_df.drop(['Unnamed: 0'],axis=1)"
   ]
  },
  {
   "cell_type": "markdown",
   "metadata": {},
   "source": [
    "#### Vectorization"
   ]
  },
  {
   "cell_type": "code",
   "execution_count": 186,
   "metadata": {
    "metadata": {}
   },
   "outputs": [
    {
     "name": "stdout",
     "output_type": "stream",
     "text": [
      "Note: you may need to restart the kernel to use updated packages.Collecting scikit-learn\n",
      "  Using cached scikit_learn-1.4.2-cp311-cp311-win_amd64.whl.metadata (11 kB)\n",
      "Requirement already satisfied: numpy>=1.19.5 in .\\movie\\lib\\site-packages (from scikit-learn) (1.26.4)\n",
      "Collecting scipy>=1.6.0 (from scikit-learn)\n",
      "  Using cached scipy-1.13.0-cp311-cp311-win_amd64.whl.metadata (60 kB)\n",
      "Collecting joblib>=1.2.0 (from scikit-learn)\n",
      "  Using cached joblib-1.4.2-py3-none-any.whl.metadata (5.4 kB)\n",
      "Collecting threadpoolctl>=2.0.0 (from scikit-learn)\n",
      "  Using cached threadpoolctl-3.5.0-py3-none-any.whl.metadata (13 kB)\n",
      "Downloading scikit_learn-1.4.2-cp311-cp311-win_amd64.whl (10.6 MB)\n",
      "   ---------------------------------------- 0.0/10.6 MB ? eta -:--:--\n",
      "   - -------------------------------------- 0.3/10.6 MB 5.9 MB/s eta 0:00:02\n",
      "   -- ------------------------------------- 0.8/10.6 MB 5.4 MB/s eta 0:00:02\n",
      "   --- ------------------------------------ 1.0/10.6 MB 6.0 MB/s eta 0:00:02\n",
      "   --- ------------------------------------ 1.0/10.6 MB 6.0 MB/s eta 0:00:02\n",
      "   ---- ----------------------------------- 1.2/10.6 MB 4.3 MB/s eta 0:00:03\n",
      "   ---- ----------------------------------- 1.2/10.6 MB 4.0 MB/s eta 0:00:03\n",
      "   ---- ----------------------------------- 1.2/10.6 MB 3.6 MB/s eta 0:00:03\n",
      "   ----- ---------------------------------- 1.4/10.6 MB 3.3 MB/s eta 0:00:03\n",
      "   ----- ---------------------------------- 1.4/10.6 MB 2.9 MB/s eta 0:00:04\n",
      "   ----- ---------------------------------- 1.4/10.6 MB 2.9 MB/s eta 0:00:04\n",
      "   ----- ---------------------------------- 1.6/10.6 MB 2.7 MB/s eta 0:00:04\n",
      "   ------ --------------------------------- 1.6/10.6 MB 2.6 MB/s eta 0:00:04\n",
      "   ------ --------------------------------- 1.7/10.6 MB 2.5 MB/s eta 0:00:04\n",
      "   ------ --------------------------------- 1.7/10.6 MB 2.5 MB/s eta 0:00:04\n",
      "   ------ --------------------------------- 1.7/10.6 MB 2.5 MB/s eta 0:00:04\n",
      "   ------ --------------------------------- 1.8/10.6 MB 2.3 MB/s eta 0:00:04\n",
      "   ------- -------------------------------- 1.9/10.6 MB 2.3 MB/s eta 0:00:04\n",
      "   ------- -------------------------------- 1.9/10.6 MB 2.2 MB/s eta 0:00:04\n",
      "   ------- -------------------------------- 2.0/10.6 MB 2.1 MB/s eta 0:00:05\n",
      "   ------- -------------------------------- 2.1/10.6 MB 2.1 MB/s eta 0:00:05\n",
      "   -------- ------------------------------- 2.1/10.6 MB 2.1 MB/s eta 0:00:05\n",
      "   -------- ------------------------------- 2.2/10.6 MB 2.1 MB/s eta 0:00:05\n",
      "   -------- ------------------------------- 2.3/10.6 MB 2.0 MB/s eta 0:00:05\n",
      "   -------- ------------------------------- 2.3/10.6 MB 2.0 MB/s eta 0:00:05\n",
      "   -------- ------------------------------- 2.4/10.6 MB 1.9 MB/s eta 0:00:05\n",
      "   --------- ------------------------------ 2.4/10.6 MB 1.9 MB/s eta 0:00:05\n",
      "   --------- ------------------------------ 2.5/10.6 MB 1.9 MB/s eta 0:00:05\n",
      "   --------- ------------------------------ 2.5/10.6 MB 1.8 MB/s eta 0:00:05\n",
      "   --------- ------------------------------ 2.5/10.6 MB 1.8 MB/s eta 0:00:05\n",
      "   --------- ------------------------------ 2.5/10.6 MB 1.8 MB/s eta 0:00:05\n",
      "   --------- ------------------------------ 2.5/10.6 MB 1.8 MB/s eta 0:00:05\n",
      "   --------- ------------------------------ 2.5/10.6 MB 1.8 MB/s eta 0:00:05\n",
      "   --------- ------------------------------ 2.5/10.6 MB 1.8 MB/s eta 0:00:05\n",
      "   --------- ------------------------------ 2.5/10.6 MB 1.8 MB/s eta 0:00:05\n",
      "   --------- ------------------------------ 2.5/10.6 MB 1.8 MB/s eta 0:00:05\n",
      "   --------- ------------------------------ 2.5/10.6 MB 1.8 MB/s eta 0:00:05\n",
      "   --------- ------------------------------ 2.5/10.6 MB 1.8 MB/s eta 0:00:05\n",
      "   --------- ------------------------------ 2.5/10.6 MB 1.8 MB/s eta 0:00:05\n",
      "   --------- ------------------------------ 2.5/10.6 MB 1.8 MB/s eta 0:00:05\n",
      "   --------- ------------------------------ 2.5/10.6 MB 1.8 MB/s eta 0:00:05\n",
      "   --------- ------------------------------ 2.5/10.6 MB 1.8 MB/s eta 0:00:05\n",
      "   --------- ------------------------------ 2.5/10.6 MB 1.8 MB/s eta 0:00:05\n",
      "   --------- ------------------------------ 2.5/10.6 MB 1.8 MB/s eta 0:00:05\n",
      "   --------- ------------------------------ 2.5/10.6 MB 1.8 MB/s eta 0:00:05\n",
      "   --------- ------------------------------ 2.5/10.6 MB 1.8 MB/s eta 0:00:05\n",
      "   --------- ------------------------------ 2.5/10.6 MB 1.8 MB/s eta 0:00:05\n",
      "   --------- ------------------------------ 2.5/10.6 MB 1.8 MB/s eta 0:00:05\n",
      "   --------- ------------------------------ 2.5/10.6 MB 1.8 MB/s eta 0:00:05\n",
      "   --------- ------------------------------ 2.5/10.6 MB 1.8 MB/s eta 0:00:05\n",
      "   ---------- ----------------------------- 2.8/10.6 MB 1.2 MB/s eta 0:00:07\n",
      "   ---------- ----------------------------- 2.9/10.6 MB 1.2 MB/s eta 0:00:07\n",
      "   ------------ --------------------------- 3.4/10.6 MB 1.3 MB/s eta 0:00:06\n",
      "   ------------- -------------------------- 3.6/10.6 MB 1.4 MB/s eta 0:00:06\n",
      "   ------------- -------------------------- 3.7/10.6 MB 1.4 MB/s eta 0:00:05\n",
      "   -------------- ------------------------- 3.8/10.6 MB 1.4 MB/s eta 0:00:05\n",
      "   -------------- ------------------------- 3.9/10.6 MB 1.4 MB/s eta 0:00:05\n",
      "   -------------- ------------------------- 4.0/10.6 MB 1.4 MB/s eta 0:00:05\n",
      "   --------------- ------------------------ 4.0/10.6 MB 1.4 MB/s eta 0:00:05\n",
      "   --------------- ------------------------ 4.1/10.6 MB 1.4 MB/s eta 0:00:05\n",
      "   --------------- ------------------------ 4.2/10.6 MB 1.4 MB/s eta 0:00:05\n",
      "   ---------------- ----------------------- 4.3/10.6 MB 1.4 MB/s eta 0:00:05\n",
      "   ---------------- ----------------------- 4.4/10.6 MB 1.4 MB/s eta 0:00:05\n",
      "   ----------------- ---------------------- 4.6/10.6 MB 1.4 MB/s eta 0:00:05\n",
      "   ----------------- ---------------------- 4.7/10.6 MB 1.4 MB/s eta 0:00:05\n",
      "   ------------------ --------------------- 4.8/10.6 MB 1.4 MB/s eta 0:00:05\n",
      "   ------------------ --------------------- 4.9/10.6 MB 1.5 MB/s eta 0:00:04\n",
      "   ------------------ --------------------- 5.0/10.6 MB 1.5 MB/s eta 0:00:04\n",
      "   ------------------- -------------------- 5.1/10.6 MB 1.5 MB/s eta 0:00:04\n",
      "   ------------------- -------------------- 5.1/10.6 MB 1.5 MB/s eta 0:00:04\n",
      "   ------------------- -------------------- 5.2/10.6 MB 1.5 MB/s eta 0:00:04\n",
      "   ------------------- -------------------- 5.3/10.6 MB 1.5 MB/s eta 0:00:04\n",
      "   -------------------- ------------------- 5.4/10.6 MB 1.5 MB/s eta 0:00:04\n",
      "   -------------------- ------------------- 5.5/10.6 MB 1.5 MB/s eta 0:00:04\n",
      "   -------------------- ------------------- 5.5/10.6 MB 1.5 MB/s eta 0:00:04\n",
      "   --------------------- ------------------ 5.6/10.6 MB 1.5 MB/s eta 0:00:04\n",
      "   --------------------- ------------------ 5.7/10.6 MB 1.5 MB/s eta 0:00:04\n",
      "   --------------------- ------------------ 5.7/10.6 MB 1.5 MB/s eta 0:00:04\n",
      "   --------------------- ------------------ 5.8/10.6 MB 1.5 MB/s eta 0:00:04\n",
      "   ---------------------- ----------------- 5.8/10.6 MB 1.5 MB/s eta 0:00:04\n",
      "   ---------------------- ----------------- 5.8/10.6 MB 1.5 MB/s eta 0:00:04\n",
      "   ---------------------- ----------------- 5.8/10.6 MB 1.5 MB/s eta 0:00:04\n",
      "   ---------------------- ----------------- 5.8/10.6 MB 1.5 MB/s eta 0:00:04\n",
      "   ---------------------- ----------------- 5.8/10.6 MB 1.5 MB/s eta 0:00:04\n",
      "   ---------------------- ----------------- 5.9/10.6 MB 1.4 MB/s eta 0:00:04\n",
      "   ---------------------- ----------------- 5.9/10.6 MB 1.4 MB/s eta 0:00:04\n",
      "   ---------------------- ----------------- 5.9/10.6 MB 1.4 MB/s eta 0:00:04\n",
      "   ---------------------- ----------------- 5.9/10.6 MB 1.4 MB/s eta 0:00:04\n",
      "   ---------------------- ----------------- 6.0/10.6 MB 1.4 MB/s eta 0:00:04\n",
      "   ---------------------- ----------------- 6.0/10.6 MB 1.4 MB/s eta 0:00:04\n",
      "   ---------------------- ----------------- 6.1/10.6 MB 1.4 MB/s eta 0:00:04\n",
      "   ----------------------- ---------------- 6.1/10.6 MB 1.3 MB/s eta 0:00:04\n",
      "   ----------------------- ---------------- 6.1/10.6 MB 1.3 MB/s eta 0:00:04\n",
      "   ----------------------- ---------------- 6.2/10.6 MB 1.3 MB/s eta 0:00:04\n",
      "   ----------------------- ---------------- 6.3/10.6 MB 1.3 MB/s eta 0:00:04\n",
      "   ----------------------- ---------------- 6.3/10.6 MB 1.3 MB/s eta 0:00:04\n",
      "   ------------------------ --------------- 6.4/10.6 MB 1.3 MB/s eta 0:00:04\n",
      "   ------------------------ --------------- 6.5/10.6 MB 1.3 MB/s eta 0:00:04\n",
      "   ------------------------ --------------- 6.5/10.6 MB 1.3 MB/s eta 0:00:04\n",
      "   ------------------------ --------------- 6.6/10.6 MB 1.3 MB/s eta 0:00:04\n",
      "   ------------------------- -------------- 6.7/10.6 MB 1.3 MB/s eta 0:00:03\n",
      "   ------------------------- -------------- 6.7/10.6 MB 1.3 MB/s eta 0:00:03\n",
      "   ------------------------- -------------- 6.8/10.6 MB 1.3 MB/s eta 0:00:03\n",
      "   ------------------------- -------------- 6.9/10.6 MB 1.3 MB/s eta 0:00:03\n",
      "   -------------------------- ------------- 6.9/10.6 MB 1.3 MB/s eta 0:00:03\n",
      "   -------------------------- ------------- 7.0/10.6 MB 1.3 MB/s eta 0:00:03\n",
      "   -------------------------- ------------- 7.1/10.6 MB 1.3 MB/s eta 0:00:03\n",
      "   --------------------------- ------------ 7.2/10.6 MB 1.4 MB/s eta 0:00:03\n",
      "   --------------------------- ------------ 7.3/10.6 MB 1.4 MB/s eta 0:00:03\n",
      "   --------------------------- ------------ 7.3/10.6 MB 1.4 MB/s eta 0:00:03\n",
      "   ---------------------------- ----------- 7.4/10.6 MB 1.4 MB/s eta 0:00:03\n",
      "   ---------------------------- ----------- 7.5/10.6 MB 1.4 MB/s eta 0:00:03\n",
      "   ---------------------------- ----------- 7.6/10.6 MB 1.4 MB/s eta 0:00:03\n",
      "   ---------------------------- ----------- 7.6/10.6 MB 1.4 MB/s eta 0:00:03\n",
      "   ----------------------------- ---------- 7.7/10.6 MB 1.4 MB/s eta 0:00:03\n",
      "   ----------------------------- ---------- 7.8/10.6 MB 1.4 MB/s eta 0:00:03\n",
      "   ----------------------------- ---------- 7.9/10.6 MB 1.4 MB/s eta 0:00:02\n",
      "   ----------------------------- ---------- 7.9/10.6 MB 1.4 MB/s eta 0:00:02\n",
      "   ------------------------------ --------- 8.0/10.6 MB 1.4 MB/s eta 0:00:02\n",
      "   ------------------------------ --------- 8.0/10.6 MB 1.4 MB/s eta 0:00:02\n",
      "   ------------------------------ --------- 8.1/10.6 MB 1.4 MB/s eta 0:00:02\n",
      "   ------------------------------ --------- 8.2/10.6 MB 1.4 MB/s eta 0:00:02\n",
      "   ------------------------------- -------- 8.2/10.6 MB 1.4 MB/s eta 0:00:02\n",
      "   ------------------------------- -------- 8.3/10.6 MB 1.4 MB/s eta 0:00:02\n",
      "   ------------------------------- -------- 8.3/10.6 MB 1.4 MB/s eta 0:00:02\n",
      "   ------------------------------- -------- 8.4/10.6 MB 1.4 MB/s eta 0:00:02\n",
      "   -------------------------------- ------- 8.5/10.6 MB 1.4 MB/s eta 0:00:02\n",
      "   -------------------------------- ------- 8.6/10.6 MB 1.4 MB/s eta 0:00:02\n",
      "   -------------------------------- ------- 8.7/10.6 MB 1.4 MB/s eta 0:00:02\n",
      "   --------------------------------- ------ 8.8/10.6 MB 1.4 MB/s eta 0:00:02\n",
      "   --------------------------------- ------ 8.8/10.6 MB 1.4 MB/s eta 0:00:02\n",
      "   --------------------------------- ------ 8.9/10.6 MB 1.4 MB/s eta 0:00:02\n",
      "   --------------------------------- ------ 9.0/10.6 MB 1.4 MB/s eta 0:00:02\n",
      "   ---------------------------------- ----- 9.0/10.6 MB 1.4 MB/s eta 0:00:02\n",
      "   ---------------------------------- ----- 9.1/10.6 MB 1.4 MB/s eta 0:00:02\n",
      "   ---------------------------------- ----- 9.2/10.6 MB 1.4 MB/s eta 0:00:02\n",
      "   ---------------------------------- ----- 9.2/10.6 MB 1.4 MB/s eta 0:00:02\n",
      "   ----------------------------------- ---- 9.3/10.6 MB 1.4 MB/s eta 0:00:01\n",
      "   ----------------------------------- ---- 9.4/10.6 MB 1.4 MB/s eta 0:00:01\n",
      "   ----------------------------------- ---- 9.4/10.6 MB 1.4 MB/s eta 0:00:01\n",
      "   ------------------------------------ --- 9.5/10.6 MB 1.4 MB/s eta 0:00:01\n",
      "   ------------------------------------ --- 9.6/10.6 MB 1.4 MB/s eta 0:00:01\n",
      "   ------------------------------------ --- 9.7/10.6 MB 1.4 MB/s eta 0:00:01\n",
      "   ------------------------------------ --- 9.8/10.6 MB 1.4 MB/s eta 0:00:01\n",
      "   ------------------------------------- -- 9.9/10.6 MB 1.4 MB/s eta 0:00:01\n",
      "   ------------------------------------- -- 10.0/10.6 MB 1.4 MB/s eta 0:00:01\n",
      "   ------------------------------------- -- 10.1/10.6 MB 1.4 MB/s eta 0:00:01\n",
      "   -------------------------------------- - 10.1/10.6 MB 1.4 MB/s eta 0:00:01\n",
      "   -------------------------------------- - 10.2/10.6 MB 1.4 MB/s eta 0:00:01\n",
      "   -------------------------------------- - 10.2/10.6 MB 1.4 MB/s eta 0:00:01\n",
      "   -------------------------------------- - 10.3/10.6 MB 1.4 MB/s eta 0:00:01\n",
      "   -------------------------------------- - 10.3/10.6 MB 1.4 MB/s eta 0:00:01\n",
      "   ---------------------------------------  10.4/10.6 MB 1.3 MB/s eta 0:00:01\n",
      "   ---------------------------------------  10.4/10.6 MB 1.3 MB/s eta 0:00:01\n",
      "   ---------------------------------------  10.5/10.6 MB 1.3 MB/s eta 0:00:01\n",
      "   ---------------------------------------  10.5/10.6 MB 1.3 MB/s eta 0:00:01\n",
      "   ---------------------------------------  10.6/10.6 MB 1.3 MB/s eta 0:00:01\n",
      "   ---------------------------------------  10.6/10.6 MB 1.3 MB/s eta 0:00:01\n",
      "   ---------------------------------------  10.6/10.6 MB 1.3 MB/s eta 0:00:01\n",
      "   ---------------------------------------  10.6/10.6 MB 1.3 MB/s eta 0:00:01\n",
      "   ---------------------------------------  10.6/10.6 MB 1.3 MB/s eta 0:00:01\n",
      "   ---------------------------------------  10.6/10.6 MB 1.3 MB/s eta 0:00:01\n",
      "   ---------------------------------------  10.6/10.6 MB 1.3 MB/s eta 0:00:01\n",
      "   ---------------------------------------- 10.6/10.6 MB 1.3 MB/s eta 0:00:00\n",
      "Downloading joblib-1.4.2-py3-none-any.whl (301 kB)\n",
      "   ---------------------------------------- 0.0/301.8 kB ? eta -:--:--\n",
      "   ---------- ----------------------------- 81.9/301.8 kB 1.5 MB/s eta 0:00:01\n",
      "   ---------------- ----------------------- 122.9/301.8 kB 1.4 MB/s eta 0:00:01\n",
      "   ------------------------- -------------- 194.6/301.8 kB 1.3 MB/s eta 0:00:01\n",
      "   -------------------------------- ------- 245.8/301.8 kB 1.3 MB/s eta 0:00:01\n",
      "   ---------------------------------------  297.0/301.8 kB 1.3 MB/s eta 0:00:01\n",
      "   ---------------------------------------  297.0/301.8 kB 1.3 MB/s eta 0:00:01\n",
      "   -------------------------------------- 301.8/301.8 kB 889.0 kB/s eta 0:00:00\n",
      "Downloading scipy-1.13.0-cp311-cp311-win_amd64.whl (46.2 MB)\n",
      "   ---------------------------------------- 0.0/46.2 MB ? eta -:--:--\n",
      "   ---------------------------------------- 0.1/46.2 MB 2.6 MB/s eta 0:00:18\n",
      "   ---------------------------------------- 0.2/46.2 MB 1.8 MB/s eta 0:00:26\n",
      "   ---------------------------------------- 0.3/46.2 MB 1.8 MB/s eta 0:00:27\n",
      "   ---------------------------------------- 0.4/46.2 MB 1.7 MB/s eta 0:00:27\n",
      "   ---------------------------------------- 0.5/46.2 MB 1.8 MB/s eta 0:00:26\n",
      "   ---------------------------------------- 0.5/46.2 MB 1.7 MB/s eta 0:00:28\n",
      "   ---------------------------------------- 0.6/46.2 MB 1.7 MB/s eta 0:00:27\n",
      "    --------------------------------------- 0.7/46.2 MB 1.7 MB/s eta 0:00:27\n",
      "    --------------------------------------- 0.8/46.2 MB 1.7 MB/s eta 0:00:27\n",
      "    --------------------------------------- 0.9/46.2 MB 1.7 MB/s eta 0:00:27\n",
      "    --------------------------------------- 1.0/46.2 MB 1.7 MB/s eta 0:00:27\n",
      "    --------------------------------------- 1.0/46.2 MB 1.8 MB/s eta 0:00:26\n",
      "   - -------------------------------------- 1.2/46.2 MB 1.7 MB/s eta 0:00:26\n",
      "   - -------------------------------------- 1.2/46.2 MB 1.7 MB/s eta 0:00:26\n",
      "   - -------------------------------------- 1.4/46.2 MB 1.8 MB/s eta 0:00:25\n",
      "   - -------------------------------------- 1.5/46.2 MB 1.8 MB/s eta 0:00:25\n",
      "   - -------------------------------------- 1.6/46.2 MB 1.9 MB/s eta 0:00:24\n",
      "   - -------------------------------------- 1.7/46.2 MB 1.9 MB/s eta 0:00:24\n",
      "   - -------------------------------------- 1.8/46.2 MB 1.9 MB/s eta 0:00:24\n",
      "   - -------------------------------------- 1.9/46.2 MB 1.8 MB/s eta 0:00:25\n",
      "   - -------------------------------------- 2.0/46.2 MB 1.8 MB/s eta 0:00:25\n",
      "   - -------------------------------------- 2.0/46.2 MB 1.8 MB/s eta 0:00:25\n",
      "   - -------------------------------------- 2.1/46.2 MB 1.8 MB/s eta 0:00:25\n",
      "   - -------------------------------------- 2.2/46.2 MB 1.8 MB/s eta 0:00:26\n",
      "   - -------------------------------------- 2.2/46.2 MB 1.7 MB/s eta 0:00:26\n",
      "   - -------------------------------------- 2.3/46.2 MB 1.7 MB/s eta 0:00:26\n",
      "   -- ------------------------------------- 2.4/46.2 MB 1.7 MB/s eta 0:00:26\n",
      "   -- ------------------------------------- 2.4/46.2 MB 1.7 MB/s eta 0:00:26\n",
      "   -- ------------------------------------- 2.5/46.2 MB 1.7 MB/s eta 0:00:26\n",
      "   -- ------------------------------------- 2.5/46.2 MB 1.7 MB/s eta 0:00:26\n",
      "   -- ------------------------------------- 2.6/46.2 MB 1.7 MB/s eta 0:00:27\n",
      "   -- ------------------------------------- 2.7/46.2 MB 1.7 MB/s eta 0:00:27\n",
      "   -- ------------------------------------- 2.7/46.2 MB 1.7 MB/s eta 0:00:27\n",
      "   -- ------------------------------------- 2.8/46.2 MB 1.7 MB/s eta 0:00:27\n",
      "   -- ------------------------------------- 2.9/46.2 MB 1.6 MB/s eta 0:00:27\n",
      "   -- ------------------------------------- 2.9/46.2 MB 1.6 MB/s eta 0:00:27\n",
      "   -- ------------------------------------- 3.0/46.2 MB 1.6 MB/s eta 0:00:28\n",
      "   -- ------------------------------------- 3.0/46.2 MB 1.6 MB/s eta 0:00:28\n",
      "   -- ------------------------------------- 3.0/46.2 MB 1.6 MB/s eta 0:00:28\n",
      "   -- ------------------------------------- 3.1/46.2 MB 1.5 MB/s eta 0:00:28\n",
      "   -- ------------------------------------- 3.2/46.2 MB 1.5 MB/s eta 0:00:29\n",
      "   -- ------------------------------------- 3.2/46.2 MB 1.5 MB/s eta 0:00:29\n",
      "   -- ------------------------------------- 3.3/46.2 MB 1.5 MB/s eta 0:00:29\n",
      "   -- ------------------------------------- 3.3/46.2 MB 1.5 MB/s eta 0:00:29\n",
      "   -- ------------------------------------- 3.4/46.2 MB 1.5 MB/s eta 0:00:29\n",
      "   --- ------------------------------------ 3.5/46.2 MB 1.5 MB/s eta 0:00:29\n",
      "   --- ------------------------------------ 3.5/46.2 MB 1.5 MB/s eta 0:00:29\n",
      "   --- ------------------------------------ 3.6/46.2 MB 1.5 MB/s eta 0:00:29\n",
      "   --- ------------------------------------ 3.7/46.2 MB 1.5 MB/s eta 0:00:29\n",
      "   --- ------------------------------------ 3.8/46.2 MB 1.5 MB/s eta 0:00:29\n",
      "   --- ------------------------------------ 3.9/46.2 MB 1.5 MB/s eta 0:00:29\n",
      "   --- ------------------------------------ 3.9/46.2 MB 1.5 MB/s eta 0:00:29\n",
      "   --- ------------------------------------ 4.0/46.2 MB 1.5 MB/s eta 0:00:29\n",
      "   --- ------------------------------------ 4.1/46.2 MB 1.5 MB/s eta 0:00:29\n",
      "   --- ------------------------------------ 4.1/46.2 MB 1.5 MB/s eta 0:00:29\n",
      "   --- ------------------------------------ 4.2/46.2 MB 1.5 MB/s eta 0:00:29\n",
      "   --- ------------------------------------ 4.3/46.2 MB 1.5 MB/s eta 0:00:28\n",
      "   --- ------------------------------------ 4.4/46.2 MB 1.5 MB/s eta 0:00:28\n",
      "   --- ------------------------------------ 4.5/46.2 MB 1.5 MB/s eta 0:00:28\n",
      "   --- ------------------------------------ 4.6/46.2 MB 1.5 MB/s eta 0:00:28\n",
      "   ---- ----------------------------------- 4.7/46.2 MB 1.5 MB/s eta 0:00:28\n",
      "   ---- ----------------------------------- 4.7/46.2 MB 1.5 MB/s eta 0:00:28\n",
      "   ---- ----------------------------------- 4.8/46.2 MB 1.5 MB/s eta 0:00:28\n",
      "   ---- ----------------------------------- 4.9/46.2 MB 1.5 MB/s eta 0:00:28\n",
      "   ---- ----------------------------------- 4.9/46.2 MB 1.5 MB/s eta 0:00:28\n",
      "   ---- ----------------------------------- 5.0/46.2 MB 1.5 MB/s eta 0:00:28\n",
      "   ---- ----------------------------------- 5.0/46.2 MB 1.5 MB/s eta 0:00:28\n",
      "   ---- ----------------------------------- 5.0/46.2 MB 1.5 MB/s eta 0:00:28\n",
      "   ---- ----------------------------------- 5.1/46.2 MB 1.5 MB/s eta 0:00:29\n",
      "   ---- ----------------------------------- 5.1/46.2 MB 1.5 MB/s eta 0:00:29\n",
      "   ---- ----------------------------------- 5.2/46.2 MB 1.4 MB/s eta 0:00:29\n",
      "   ---- ----------------------------------- 5.2/46.2 MB 1.4 MB/s eta 0:00:29\n",
      "   ---- ----------------------------------- 5.3/46.2 MB 1.4 MB/s eta 0:00:29\n",
      "   ---- ----------------------------------- 5.3/46.2 MB 1.4 MB/s eta 0:00:29\n",
      "   ---- ----------------------------------- 5.4/46.2 MB 1.4 MB/s eta 0:00:29\n",
      "   ---- ----------------------------------- 5.4/46.2 MB 1.4 MB/s eta 0:00:29\n",
      "   ---- ----------------------------------- 5.5/46.2 MB 1.4 MB/s eta 0:00:29\n",
      "   ---- ----------------------------------- 5.5/46.2 MB 1.4 MB/s eta 0:00:29\n",
      "   ---- ----------------------------------- 5.6/46.2 MB 1.4 MB/s eta 0:00:30\n",
      "   ---- ----------------------------------- 5.6/46.2 MB 1.4 MB/s eta 0:00:30\n",
      "   ---- ----------------------------------- 5.6/46.2 MB 1.4 MB/s eta 0:00:30\n",
      "   ---- ----------------------------------- 5.7/46.2 MB 1.4 MB/s eta 0:00:30\n",
      "   ---- ----------------------------------- 5.7/46.2 MB 1.4 MB/s eta 0:00:30\n",
      "   ---- ----------------------------------- 5.8/46.2 MB 1.4 MB/s eta 0:00:30\n",
      "   ----- ---------------------------------- 5.8/46.2 MB 1.4 MB/s eta 0:00:30\n",
      "   ----- ---------------------------------- 5.9/46.2 MB 1.4 MB/s eta 0:00:30\n",
      "   ----- ---------------------------------- 5.9/46.2 MB 1.4 MB/s eta 0:00:30\n",
      "   ----- ---------------------------------- 6.0/46.2 MB 1.4 MB/s eta 0:00:30\n",
      "   ----- ---------------------------------- 6.0/46.2 MB 1.4 MB/s eta 0:00:30\n",
      "   ----- ---------------------------------- 6.1/46.2 MB 1.4 MB/s eta 0:00:30\n",
      "   ----- ---------------------------------- 6.2/46.2 MB 1.4 MB/s eta 0:00:30\n",
      "   ----- ---------------------------------- 6.2/46.2 MB 1.4 MB/s eta 0:00:30\n",
      "   ----- ---------------------------------- 6.3/46.2 MB 1.4 MB/s eta 0:00:30\n",
      "   ----- ---------------------------------- 6.4/46.2 MB 1.4 MB/s eta 0:00:30\n",
      "   ----- ---------------------------------- 6.5/46.2 MB 1.4 MB/s eta 0:00:30\n",
      "   ----- ---------------------------------- 6.5/46.2 MB 1.4 MB/s eta 0:00:30\n",
      "   ----- ---------------------------------- 6.6/46.2 MB 1.4 MB/s eta 0:00:29\n",
      "   ----- ---------------------------------- 6.7/46.2 MB 1.4 MB/s eta 0:00:29\n",
      "   ----- ---------------------------------- 6.7/46.2 MB 1.4 MB/s eta 0:00:29\n",
      "   ----- ---------------------------------- 6.8/46.2 MB 1.4 MB/s eta 0:00:29\n",
      "   ----- ---------------------------------- 6.9/46.2 MB 1.4 MB/s eta 0:00:29\n",
      "   ------ --------------------------------- 7.0/46.2 MB 1.4 MB/s eta 0:00:29\n",
      "   ------ --------------------------------- 7.1/46.2 MB 1.4 MB/s eta 0:00:29\n",
      "   ------ --------------------------------- 7.2/46.2 MB 1.4 MB/s eta 0:00:28\n",
      "   ------ --------------------------------- 7.3/46.2 MB 1.4 MB/s eta 0:00:28\n",
      "   ------ --------------------------------- 7.4/46.2 MB 1.4 MB/s eta 0:00:28\n",
      "   ------ --------------------------------- 7.5/46.2 MB 1.4 MB/s eta 0:00:28\n",
      "   ------ --------------------------------- 7.5/46.2 MB 1.4 MB/s eta 0:00:28\n",
      "   ------ --------------------------------- 7.5/46.2 MB 1.4 MB/s eta 0:00:28\n",
      "   ------ --------------------------------- 7.6/46.2 MB 1.4 MB/s eta 0:00:28\n",
      "   ------ --------------------------------- 7.6/46.2 MB 1.4 MB/s eta 0:00:28\n",
      "   ------ --------------------------------- 7.7/46.2 MB 1.4 MB/s eta 0:00:29\n",
      "   ------ --------------------------------- 7.7/46.2 MB 1.4 MB/s eta 0:00:29\n",
      "   ------ --------------------------------- 7.7/46.2 MB 1.4 MB/s eta 0:00:29\n",
      "   ------ --------------------------------- 7.8/46.2 MB 1.4 MB/s eta 0:00:29\n",
      "   ------ --------------------------------- 7.8/46.2 MB 1.4 MB/s eta 0:00:29\n",
      "   ------ --------------------------------- 7.9/46.2 MB 1.4 MB/s eta 0:00:29\n",
      "   ------ --------------------------------- 7.9/46.2 MB 1.3 MB/s eta 0:00:29\n",
      "   ------ --------------------------------- 7.9/46.2 MB 1.3 MB/s eta 0:00:29\n",
      "   ------ --------------------------------- 8.0/46.2 MB 1.3 MB/s eta 0:00:29\n",
      "   ------ --------------------------------- 8.0/46.2 MB 1.3 MB/s eta 0:00:29\n",
      "   ------ --------------------------------- 8.1/46.2 MB 1.3 MB/s eta 0:00:29\n",
      "   ------- -------------------------------- 8.1/46.2 MB 1.3 MB/s eta 0:00:29\n",
      "   ------- -------------------------------- 8.1/46.2 MB 1.3 MB/s eta 0:00:29\n",
      "   ------- -------------------------------- 8.2/46.2 MB 1.3 MB/s eta 0:00:29\n",
      "   ------- -------------------------------- 8.2/46.2 MB 1.3 MB/s eta 0:00:29\n",
      "   ------- -------------------------------- 8.3/46.2 MB 1.3 MB/s eta 0:00:29\n",
      "   ------- -------------------------------- 8.3/46.2 MB 1.3 MB/s eta 0:00:29\n",
      "   ------- -------------------------------- 8.3/46.2 MB 1.3 MB/s eta 0:00:29\n",
      "   ------- -------------------------------- 8.4/46.2 MB 1.3 MB/s eta 0:00:29\n",
      "   ------- -------------------------------- 8.4/46.2 MB 1.3 MB/s eta 0:00:29\n",
      "   ------- -------------------------------- 8.5/46.2 MB 1.3 MB/s eta 0:00:29\n",
      "   ------- -------------------------------- 8.6/46.2 MB 1.3 MB/s eta 0:00:29\n",
      "   ------- -------------------------------- 8.6/46.2 MB 1.3 MB/s eta 0:00:29\n",
      "   ------- -------------------------------- 8.7/46.2 MB 1.3 MB/s eta 0:00:29\n",
      "   ------- -------------------------------- 8.7/46.2 MB 1.3 MB/s eta 0:00:29\n",
      "   ------- -------------------------------- 8.8/46.2 MB 1.3 MB/s eta 0:00:29\n",
      "   ------- -------------------------------- 8.9/46.2 MB 1.3 MB/s eta 0:00:29\n",
      "   ------- -------------------------------- 8.9/46.2 MB 1.3 MB/s eta 0:00:29\n",
      "   ------- -------------------------------- 9.0/46.2 MB 1.3 MB/s eta 0:00:29\n",
      "   ------- -------------------------------- 9.1/46.2 MB 1.3 MB/s eta 0:00:29\n",
      "   ------- -------------------------------- 9.2/46.2 MB 1.3 MB/s eta 0:00:29\n",
      "   ------- -------------------------------- 9.2/46.2 MB 1.3 MB/s eta 0:00:29\n",
      "   -------- ------------------------------- 9.3/46.2 MB 1.3 MB/s eta 0:00:29\n",
      "   -------- ------------------------------- 9.4/46.2 MB 1.3 MB/s eta 0:00:29\n",
      "   -------- ------------------------------- 9.4/46.2 MB 1.3 MB/s eta 0:00:29\n",
      "   -------- ------------------------------- 9.5/46.2 MB 1.3 MB/s eta 0:00:28\n",
      "   -------- ------------------------------- 9.6/46.2 MB 1.3 MB/s eta 0:00:28\n",
      "   -------- ------------------------------- 9.7/46.2 MB 1.3 MB/s eta 0:00:28\n",
      "   -------- ------------------------------- 9.8/46.2 MB 1.3 MB/s eta 0:00:28\n",
      "   -------- ------------------------------- 9.9/46.2 MB 1.3 MB/s eta 0:00:28\n",
      "   -------- ------------------------------- 9.9/46.2 MB 1.3 MB/s eta 0:00:28\n",
      "   -------- ------------------------------- 10.1/46.2 MB 1.3 MB/s eta 0:00:28\n",
      "   -------- ------------------------------- 10.1/46.2 MB 1.3 MB/s eta 0:00:27\n",
      "   -------- ------------------------------- 10.3/46.2 MB 1.3 MB/s eta 0:00:27\n",
      "   -------- ------------------------------- 10.4/46.2 MB 1.3 MB/s eta 0:00:27\n",
      "   --------- ------------------------------ 10.5/46.2 MB 1.3 MB/s eta 0:00:27\n",
      "   --------- ------------------------------ 10.5/46.2 MB 1.4 MB/s eta 0:00:27\n",
      "   --------- ------------------------------ 10.7/46.2 MB 1.4 MB/s eta 0:00:27\n",
      "   --------- ------------------------------ 10.7/46.2 MB 1.4 MB/s eta 0:00:27\n",
      "   --------- ------------------------------ 10.8/46.2 MB 1.3 MB/s eta 0:00:27\n",
      "   --------- ------------------------------ 10.8/46.2 MB 1.4 MB/s eta 0:00:27\n",
      "   --------- ------------------------------ 10.9/46.2 MB 1.3 MB/s eta 0:00:27\n",
      "   --------- ------------------------------ 10.9/46.2 MB 1.3 MB/s eta 0:00:27\n",
      "   --------- ------------------------------ 11.0/46.2 MB 1.3 MB/s eta 0:00:27\n",
      "   --------- ------------------------------ 11.0/46.2 MB 1.3 MB/s eta 0:00:27\n",
      "   --------- ------------------------------ 11.1/46.2 MB 1.3 MB/s eta 0:00:27\n",
      "   --------- ------------------------------ 11.1/46.2 MB 1.3 MB/s eta 0:00:27\n",
      "   --------- ------------------------------ 11.2/46.2 MB 1.3 MB/s eta 0:00:27\n",
      "   --------- ------------------------------ 11.2/46.2 MB 1.3 MB/s eta 0:00:27\n",
      "   --------- ------------------------------ 11.3/46.2 MB 1.3 MB/s eta 0:00:27\n",
      "   --------- ------------------------------ 11.3/46.2 MB 1.3 MB/s eta 0:00:27\n",
      "   --------- ------------------------------ 11.4/46.2 MB 1.3 MB/s eta 0:00:27\n",
      "   --------- ------------------------------ 11.4/46.2 MB 1.3 MB/s eta 0:00:27\n",
      "   --------- ------------------------------ 11.5/46.2 MB 1.3 MB/s eta 0:00:27\n",
      "   --------- ------------------------------ 11.5/46.2 MB 1.3 MB/s eta 0:00:27\n",
      "   ---------- ----------------------------- 11.6/46.2 MB 1.3 MB/s eta 0:00:27\n",
      "   ---------- ----------------------------- 11.7/46.2 MB 1.3 MB/s eta 0:00:27\n",
      "   ---------- ----------------------------- 11.7/46.2 MB 1.3 MB/s eta 0:00:27\n",
      "   ---------- ----------------------------- 11.8/46.2 MB 1.3 MB/s eta 0:00:27\n",
      "   ---------- ----------------------------- 11.9/46.2 MB 1.3 MB/s eta 0:00:27\n",
      "   ---------- ----------------------------- 12.0/46.2 MB 1.3 MB/s eta 0:00:27\n",
      "   ---------- ----------------------------- 12.1/46.2 MB 1.3 MB/s eta 0:00:27\n",
      "   ---------- ----------------------------- 12.1/46.2 MB 1.3 MB/s eta 0:00:27\n",
      "   ---------- ----------------------------- 12.2/46.2 MB 1.3 MB/s eta 0:00:27\n",
      "   ---------- ----------------------------- 12.2/46.2 MB 1.3 MB/s eta 0:00:27\n",
      "   ---------- ----------------------------- 12.3/46.2 MB 1.3 MB/s eta 0:00:27\n",
      "   ---------- ----------------------------- 12.3/46.2 MB 1.3 MB/s eta 0:00:27\n",
      "   ---------- ----------------------------- 12.3/46.2 MB 1.3 MB/s eta 0:00:27\n",
      "   ---------- ----------------------------- 12.4/46.2 MB 1.3 MB/s eta 0:00:27\n",
      "   ---------- ----------------------------- 12.4/46.2 MB 1.3 MB/s eta 0:00:27\n",
      "   ---------- ----------------------------- 12.5/46.2 MB 1.3 MB/s eta 0:00:27\n",
      "   ---------- ----------------------------- 12.5/46.2 MB 1.3 MB/s eta 0:00:27\n",
      "   ---------- ----------------------------- 12.6/46.2 MB 1.3 MB/s eta 0:00:27\n",
      "   ---------- ----------------------------- 12.6/46.2 MB 1.3 MB/s eta 0:00:27\n",
      "   ---------- ----------------------------- 12.7/46.2 MB 1.3 MB/s eta 0:00:27\n",
      "   ----------- ---------------------------- 12.7/46.2 MB 1.3 MB/s eta 0:00:27\n",
      "   ----------- ---------------------------- 12.8/46.2 MB 1.3 MB/s eta 0:00:27\n",
      "   ----------- ---------------------------- 12.9/46.2 MB 1.3 MB/s eta 0:00:27\n",
      "   ----------- ---------------------------- 12.9/46.2 MB 1.3 MB/s eta 0:00:27\n",
      "   ----------- ---------------------------- 13.0/46.2 MB 1.3 MB/s eta 0:00:27\n",
      "   ----------- ---------------------------- 13.0/46.2 MB 1.3 MB/s eta 0:00:27\n",
      "   ----------- ---------------------------- 13.1/46.2 MB 1.3 MB/s eta 0:00:27\n",
      "   ----------- ---------------------------- 13.2/46.2 MB 1.3 MB/s eta 0:00:27\n",
      "   ----------- ---------------------------- 13.3/46.2 MB 1.3 MB/s eta 0:00:26\n",
      "   ----------- ---------------------------- 13.3/46.2 MB 1.3 MB/s eta 0:00:26\n",
      "   ----------- ---------------------------- 13.4/46.2 MB 1.3 MB/s eta 0:00:26\n",
      "   ----------- ---------------------------- 13.5/46.2 MB 1.3 MB/s eta 0:00:26\n",
      "   ----------- ---------------------------- 13.5/46.2 MB 1.3 MB/s eta 0:00:26\n",
      "   ----------- ---------------------------- 13.6/46.2 MB 1.3 MB/s eta 0:00:26\n",
      "   ----------- ---------------------------- 13.6/46.2 MB 1.3 MB/s eta 0:00:26\n",
      "   ----------- ---------------------------- 13.6/46.2 MB 1.3 MB/s eta 0:00:26\n",
      "   ----------- ---------------------------- 13.7/46.2 MB 1.3 MB/s eta 0:00:26\n",
      "   ----------- ---------------------------- 13.7/46.2 MB 1.3 MB/s eta 0:00:26\n",
      "   ----------- ---------------------------- 13.8/46.2 MB 1.3 MB/s eta 0:00:26\n",
      "   ----------- ---------------------------- 13.8/46.2 MB 1.3 MB/s eta 0:00:26\n",
      "   ----------- ---------------------------- 13.8/46.2 MB 1.3 MB/s eta 0:00:26\n",
      "   ----------- ---------------------------- 13.8/46.2 MB 1.3 MB/s eta 0:00:26\n",
      "   ------------ --------------------------- 13.9/46.2 MB 1.2 MB/s eta 0:00:26\n",
      "   ------------ --------------------------- 13.9/46.2 MB 1.2 MB/s eta 0:00:26\n",
      "   ------------ --------------------------- 14.0/46.2 MB 1.2 MB/s eta 0:00:26\n",
      "   ------------ --------------------------- 14.0/46.2 MB 1.2 MB/s eta 0:00:27\n",
      "   ------------ --------------------------- 14.0/46.2 MB 1.2 MB/s eta 0:00:27\n",
      "   ------------ --------------------------- 14.1/46.2 MB 1.2 MB/s eta 0:00:27\n",
      "   ------------ --------------------------- 14.1/46.2 MB 1.2 MB/s eta 0:00:27\n",
      "   ------------ --------------------------- 14.2/46.2 MB 1.2 MB/s eta 0:00:27\n",
      "   ------------ --------------------------- 14.2/46.2 MB 1.2 MB/s eta 0:00:27\n",
      "   ------------ --------------------------- 14.3/46.2 MB 1.2 MB/s eta 0:00:27\n",
      "   ------------ --------------------------- 14.3/46.2 MB 1.2 MB/s eta 0:00:27\n",
      "   ------------ --------------------------- 14.4/46.2 MB 1.2 MB/s eta 0:00:27\n",
      "   ------------ --------------------------- 14.4/46.2 MB 1.2 MB/s eta 0:00:27\n",
      "   ------------ --------------------------- 14.5/46.2 MB 1.2 MB/s eta 0:00:27\n",
      "   ------------ --------------------------- 14.6/46.2 MB 1.2 MB/s eta 0:00:27\n",
      "   ------------ --------------------------- 14.6/46.2 MB 1.2 MB/s eta 0:00:26\n",
      "   ------------ --------------------------- 14.7/46.2 MB 1.2 MB/s eta 0:00:27\n",
      "   ------------ --------------------------- 14.8/46.2 MB 1.2 MB/s eta 0:00:27\n",
      "   ------------ --------------------------- 14.8/46.2 MB 1.2 MB/s eta 0:00:26\n",
      "   ------------ --------------------------- 14.9/46.2 MB 1.2 MB/s eta 0:00:26\n",
      "   ------------ --------------------------- 15.0/46.2 MB 1.2 MB/s eta 0:00:26\n",
      "   ------------- -------------------------- 15.1/46.2 MB 1.2 MB/s eta 0:00:26\n",
      "   ------------- -------------------------- 15.1/46.2 MB 1.2 MB/s eta 0:00:26\n",
      "   ------------- -------------------------- 15.2/46.2 MB 1.2 MB/s eta 0:00:26\n",
      "   ------------- -------------------------- 15.3/46.2 MB 1.2 MB/s eta 0:00:26\n",
      "   ------------- -------------------------- 15.4/46.2 MB 1.2 MB/s eta 0:00:25\n",
      "   ------------- -------------------------- 15.5/46.2 MB 1.2 MB/s eta 0:00:25\n",
      "   ------------- -------------------------- 15.6/46.2 MB 1.2 MB/s eta 0:00:25\n",
      "   ------------- -------------------------- 15.7/46.2 MB 1.3 MB/s eta 0:00:25\n",
      "   ------------- -------------------------- 15.8/46.2 MB 1.3 MB/s eta 0:00:25\n",
      "   ------------- -------------------------- 15.8/46.2 MB 1.3 MB/s eta 0:00:24\n",
      "   ------------- -------------------------- 16.0/46.2 MB 1.3 MB/s eta 0:00:24\n",
      "   ------------- -------------------------- 16.0/46.2 MB 1.3 MB/s eta 0:00:24\n",
      "   ------------- -------------------------- 16.1/46.2 MB 1.3 MB/s eta 0:00:24\n",
      "   -------------- ------------------------- 16.2/46.2 MB 1.3 MB/s eta 0:00:24\n",
      "   -------------- ------------------------- 16.3/46.2 MB 1.3 MB/s eta 0:00:23\n",
      "   -------------- ------------------------- 16.3/46.2 MB 1.3 MB/s eta 0:00:23\n",
      "   -------------- ------------------------- 16.4/46.2 MB 1.3 MB/s eta 0:00:23\n",
      "   -------------- ------------------------- 16.4/46.2 MB 1.3 MB/s eta 0:00:23\n",
      "   -------------- ------------------------- 16.5/46.2 MB 1.3 MB/s eta 0:00:23\n",
      "   -------------- ------------------------- 16.5/46.2 MB 1.3 MB/s eta 0:00:23\n",
      "   -------------- ------------------------- 16.6/46.2 MB 1.3 MB/s eta 0:00:23\n",
      "   -------------- ------------------------- 16.6/46.2 MB 1.3 MB/s eta 0:00:23\n",
      "   -------------- ------------------------- 16.7/46.2 MB 1.3 MB/s eta 0:00:24\n",
      "   -------------- ------------------------- 16.7/46.2 MB 1.3 MB/s eta 0:00:24\n",
      "   -------------- ------------------------- 16.7/46.2 MB 1.3 MB/s eta 0:00:24\n",
      "   -------------- ------------------------- 16.8/46.2 MB 1.3 MB/s eta 0:00:24\n",
      "   -------------- ------------------------- 16.8/46.2 MB 1.3 MB/s eta 0:00:24\n",
      "   -------------- ------------------------- 16.9/46.2 MB 1.3 MB/s eta 0:00:24\n",
      "   -------------- ------------------------- 16.9/46.2 MB 1.3 MB/s eta 0:00:24\n",
      "   -------------- ------------------------- 17.0/46.2 MB 1.3 MB/s eta 0:00:24\n",
      "   -------------- ------------------------- 17.0/46.2 MB 1.3 MB/s eta 0:00:24\n",
      "   -------------- ------------------------- 17.1/46.2 MB 1.3 MB/s eta 0:00:24\n",
      "   -------------- ------------------------- 17.2/46.2 MB 1.3 MB/s eta 0:00:24\n",
      "   -------------- ------------------------- 17.2/46.2 MB 1.3 MB/s eta 0:00:24\n",
      "   -------------- ------------------------- 17.3/46.2 MB 1.3 MB/s eta 0:00:24\n",
      "   --------------- ------------------------ 17.3/46.2 MB 1.2 MB/s eta 0:00:24\n",
      "   --------------- ------------------------ 17.4/46.2 MB 1.3 MB/s eta 0:00:23\n",
      "   --------------- ------------------------ 17.5/46.2 MB 1.2 MB/s eta 0:00:24\n",
      "   --------------- ------------------------ 17.6/46.2 MB 1.2 MB/s eta 0:00:23\n",
      "   --------------- ------------------------ 17.6/46.2 MB 1.2 MB/s eta 0:00:23\n",
      "   --------------- ------------------------ 17.7/46.2 MB 1.3 MB/s eta 0:00:23\n",
      "   --------------- ------------------------ 17.8/46.2 MB 1.3 MB/s eta 0:00:23\n",
      "   --------------- ------------------------ 17.9/46.2 MB 1.3 MB/s eta 0:00:23\n",
      "   --------------- ------------------------ 18.0/46.2 MB 1.3 MB/s eta 0:00:23\n",
      "   --------------- ------------------------ 18.0/46.2 MB 1.3 MB/s eta 0:00:22\n",
      "   --------------- ------------------------ 18.1/46.2 MB 1.3 MB/s eta 0:00:22\n",
      "   --------------- ------------------------ 18.2/46.2 MB 1.3 MB/s eta 0:00:22\n",
      "   --------------- ------------------------ 18.3/46.2 MB 1.3 MB/s eta 0:00:22\n",
      "   --------------- ------------------------ 18.4/46.2 MB 1.3 MB/s eta 0:00:22\n",
      "   ---------------- ----------------------- 18.5/46.2 MB 1.3 MB/s eta 0:00:21\n",
      "   ---------------- ----------------------- 18.6/46.2 MB 1.3 MB/s eta 0:00:21\n",
      "   ---------------- ----------------------- 18.6/46.2 MB 1.3 MB/s eta 0:00:21\n",
      "   ---------------- ----------------------- 18.7/46.2 MB 1.3 MB/s eta 0:00:21\n",
      "   ---------------- ----------------------- 18.7/46.2 MB 1.3 MB/s eta 0:00:21\n",
      "   ---------------- ----------------------- 18.8/46.2 MB 1.3 MB/s eta 0:00:21\n",
      "   ---------------- ----------------------- 18.8/46.2 MB 1.3 MB/s eta 0:00:21\n",
      "   ---------------- ----------------------- 18.8/46.2 MB 1.3 MB/s eta 0:00:21\n",
      "   ---------------- ----------------------- 18.9/46.2 MB 1.3 MB/s eta 0:00:21\n",
      "   ---------------- ----------------------- 18.9/46.2 MB 1.3 MB/s eta 0:00:21\n",
      "   ---------------- ----------------------- 18.9/46.2 MB 1.3 MB/s eta 0:00:21\n",
      "   ---------------- ----------------------- 19.0/46.2 MB 1.3 MB/s eta 0:00:21\n",
      "   ---------------- ----------------------- 19.0/46.2 MB 1.3 MB/s eta 0:00:21\n",
      "   ---------------- ----------------------- 19.1/46.2 MB 1.3 MB/s eta 0:00:21\n",
      "   ---------------- ----------------------- 19.1/46.2 MB 1.3 MB/s eta 0:00:21\n",
      "   ---------------- ----------------------- 19.1/46.2 MB 1.3 MB/s eta 0:00:21\n",
      "   ---------------- ----------------------- 19.2/46.2 MB 1.3 MB/s eta 0:00:21\n",
      "   ---------------- ----------------------- 19.2/46.2 MB 1.3 MB/s eta 0:00:21\n",
      "   ---------------- ----------------------- 19.3/46.2 MB 1.3 MB/s eta 0:00:21\n",
      "   ---------------- ----------------------- 19.3/46.2 MB 1.3 MB/s eta 0:00:21\n",
      "   ---------------- ----------------------- 19.4/46.2 MB 1.3 MB/s eta 0:00:21\n",
      "   ---------------- ----------------------- 19.4/46.2 MB 1.3 MB/s eta 0:00:21\n",
      "   ---------------- ----------------------- 19.5/46.2 MB 1.3 MB/s eta 0:00:21\n",
      "   ---------------- ----------------------- 19.6/46.2 MB 1.3 MB/s eta 0:00:21\n",
      "   ----------------- ---------------------- 19.6/46.2 MB 1.3 MB/s eta 0:00:21\n",
      "   ----------------- ---------------------- 19.7/46.2 MB 1.3 MB/s eta 0:00:21\n",
      "   ----------------- ---------------------- 19.8/46.2 MB 1.3 MB/s eta 0:00:21\n",
      "   ----------------- ---------------------- 19.8/46.2 MB 1.3 MB/s eta 0:00:21\n",
      "   ----------------- ---------------------- 19.9/46.2 MB 1.3 MB/s eta 0:00:21\n",
      "   ----------------- ---------------------- 20.0/46.2 MB 1.3 MB/s eta 0:00:21\n",
      "   ----------------- ---------------------- 20.1/46.2 MB 1.3 MB/s eta 0:00:21\n",
      "   ----------------- ---------------------- 20.2/46.2 MB 1.3 MB/s eta 0:00:21\n",
      "   ----------------- ---------------------- 20.2/46.2 MB 1.3 MB/s eta 0:00:21\n",
      "   ----------------- ---------------------- 20.3/46.2 MB 1.3 MB/s eta 0:00:21\n",
      "   ----------------- ---------------------- 20.4/46.2 MB 1.3 MB/s eta 0:00:21\n",
      "   ----------------- ---------------------- 20.5/46.2 MB 1.3 MB/s eta 0:00:21\n",
      "   ----------------- ---------------------- 20.6/46.2 MB 1.3 MB/s eta 0:00:21\n",
      "   ----------------- ---------------------- 20.6/46.2 MB 1.3 MB/s eta 0:00:21\n",
      "   ----------------- ---------------------- 20.7/46.2 MB 1.3 MB/s eta 0:00:21\n",
      "   ----------------- ---------------------- 20.8/46.2 MB 1.3 MB/s eta 0:00:20\n",
      "   ------------------ --------------------- 20.8/46.2 MB 1.3 MB/s eta 0:00:21\n",
      "   ------------------ --------------------- 20.9/46.2 MB 1.3 MB/s eta 0:00:21\n",
      "   ------------------ --------------------- 20.9/46.2 MB 1.3 MB/s eta 0:00:21\n",
      "   ------------------ --------------------- 21.0/46.2 MB 1.3 MB/s eta 0:00:21\n",
      "   ------------------ --------------------- 21.0/46.2 MB 1.3 MB/s eta 0:00:21\n",
      "   ------------------ --------------------- 21.0/46.2 MB 1.3 MB/s eta 0:00:21\n",
      "   ------------------ --------------------- 21.1/46.2 MB 1.3 MB/s eta 0:00:21\n",
      "   ------------------ --------------------- 21.1/46.2 MB 1.2 MB/s eta 0:00:21\n",
      "   ------------------ --------------------- 21.2/46.2 MB 1.2 MB/s eta 0:00:21\n",
      "   ------------------ --------------------- 21.2/46.2 MB 1.2 MB/s eta 0:00:20\n",
      "   ------------------ --------------------- 21.2/46.2 MB 1.2 MB/s eta 0:00:20\n",
      "   ------------------ --------------------- 21.3/46.2 MB 1.3 MB/s eta 0:00:20\n",
      "   ------------------ --------------------- 21.3/46.2 MB 1.3 MB/s eta 0:00:20\n",
      "   ------------------ --------------------- 21.4/46.2 MB 1.3 MB/s eta 0:00:20\n",
      "   ------------------ --------------------- 21.5/46.2 MB 1.3 MB/s eta 0:00:20\n",
      "   ------------------ --------------------- 21.5/46.2 MB 1.3 MB/s eta 0:00:20\n",
      "   ------------------ --------------------- 21.6/46.2 MB 1.3 MB/s eta 0:00:20\n",
      "   ------------------ --------------------- 21.6/46.2 MB 1.3 MB/s eta 0:00:20\n",
      "   ------------------ --------------------- 21.7/46.2 MB 1.3 MB/s eta 0:00:20\n",
      "   ------------------ --------------------- 21.8/46.2 MB 1.3 MB/s eta 0:00:20\n",
      "   ------------------ --------------------- 21.8/46.2 MB 1.3 MB/s eta 0:00:20\n",
      "   ------------------ --------------------- 21.9/46.2 MB 1.3 MB/s eta 0:00:20\n",
      "   ------------------- -------------------- 22.0/46.2 MB 1.3 MB/s eta 0:00:20\n",
      "   ------------------- -------------------- 22.1/46.2 MB 1.3 MB/s eta 0:00:20\n",
      "   ------------------- -------------------- 22.1/46.2 MB 1.3 MB/s eta 0:00:20\n",
      "   ------------------- -------------------- 22.2/46.2 MB 1.3 MB/s eta 0:00:19\n",
      "   ------------------- -------------------- 22.3/46.2 MB 1.3 MB/s eta 0:00:19\n",
      "   ------------------- -------------------- 22.4/46.2 MB 1.3 MB/s eta 0:00:19\n",
      "   ------------------- -------------------- 22.4/46.2 MB 1.3 MB/s eta 0:00:19\n",
      "   ------------------- -------------------- 22.5/46.2 MB 1.3 MB/s eta 0:00:19\n",
      "   ------------------- -------------------- 22.6/46.2 MB 1.3 MB/s eta 0:00:19\n",
      "   ------------------- -------------------- 22.6/46.2 MB 1.3 MB/s eta 0:00:19\n",
      "   ------------------- -------------------- 22.7/46.2 MB 1.3 MB/s eta 0:00:19\n",
      "   ------------------- -------------------- 22.7/46.2 MB 1.3 MB/s eta 0:00:19\n",
      "   ------------------- -------------------- 22.7/46.2 MB 1.3 MB/s eta 0:00:19\n",
      "   ------------------- -------------------- 22.8/46.2 MB 1.3 MB/s eta 0:00:19\n",
      "   ------------------- -------------------- 22.8/46.2 MB 1.3 MB/s eta 0:00:19\n",
      "   ------------------- -------------------- 22.9/46.2 MB 1.3 MB/s eta 0:00:19\n",
      "   ------------------- -------------------- 22.9/46.2 MB 1.3 MB/s eta 0:00:19\n",
      "   ------------------- -------------------- 23.0/46.2 MB 1.3 MB/s eta 0:00:19\n",
      "   ------------------- -------------------- 23.1/46.2 MB 1.3 MB/s eta 0:00:19\n",
      "   -------------------- ------------------- 23.1/46.2 MB 1.3 MB/s eta 0:00:19\n",
      "   -------------------- ------------------- 23.2/46.2 MB 1.3 MB/s eta 0:00:19\n",
      "   -------------------- ------------------- 23.2/46.2 MB 1.3 MB/s eta 0:00:19\n",
      "   -------------------- ------------------- 23.3/46.2 MB 1.3 MB/s eta 0:00:19\n",
      "   -------------------- ------------------- 23.4/46.2 MB 1.3 MB/s eta 0:00:18\n",
      "   -------------------- ------------------- 23.5/46.2 MB 1.3 MB/s eta 0:00:18\n",
      "   -------------------- ------------------- 23.5/46.2 MB 1.3 MB/s eta 0:00:18\n",
      "   -------------------- ------------------- 23.6/46.2 MB 1.3 MB/s eta 0:00:18\n",
      "   -------------------- ------------------- 23.7/46.2 MB 1.3 MB/s eta 0:00:18\n",
      "   -------------------- ------------------- 23.8/46.2 MB 1.3 MB/s eta 0:00:18\n",
      "   -------------------- ------------------- 23.8/46.2 MB 1.3 MB/s eta 0:00:18\n",
      "   -------------------- ------------------- 23.9/46.2 MB 1.3 MB/s eta 0:00:18\n",
      "   -------------------- ------------------- 24.0/46.2 MB 1.3 MB/s eta 0:00:18\n",
      "   -------------------- ------------------- 24.1/46.2 MB 1.3 MB/s eta 0:00:17\n",
      "   -------------------- ------------------- 24.2/46.2 MB 1.3 MB/s eta 0:00:17\n",
      "   --------------------- ------------------ 24.3/46.2 MB 1.3 MB/s eta 0:00:17\n",
      "   --------------------- ------------------ 24.3/46.2 MB 1.3 MB/s eta 0:00:17\n",
      "   --------------------- ------------------ 24.4/46.2 MB 1.3 MB/s eta 0:00:17\n",
      "   --------------------- ------------------ 24.5/46.2 MB 1.3 MB/s eta 0:00:17\n",
      "   --------------------- ------------------ 24.5/46.2 MB 1.3 MB/s eta 0:00:17\n",
      "   --------------------- ------------------ 24.5/46.2 MB 1.3 MB/s eta 0:00:17\n",
      "   --------------------- ------------------ 24.6/46.2 MB 1.3 MB/s eta 0:00:17\n",
      "   --------------------- ------------------ 24.6/46.2 MB 1.3 MB/s eta 0:00:17\n",
      "   --------------------- ------------------ 24.6/46.2 MB 1.3 MB/s eta 0:00:17\n",
      "   --------------------- ------------------ 24.6/46.2 MB 1.3 MB/s eta 0:00:17\n",
      "   --------------------- ------------------ 24.7/46.2 MB 1.3 MB/s eta 0:00:17\n",
      "   --------------------- ------------------ 24.7/46.2 MB 1.3 MB/s eta 0:00:17\n",
      "   --------------------- ------------------ 24.7/46.2 MB 1.3 MB/s eta 0:00:17\n",
      "   --------------------- ------------------ 24.7/46.2 MB 1.3 MB/s eta 0:00:17\n",
      "   --------------------- ------------------ 24.7/46.2 MB 1.3 MB/s eta 0:00:17\n",
      "   --------------------- ------------------ 24.7/46.2 MB 1.3 MB/s eta 0:00:17\n",
      "   --------------------- ------------------ 24.8/46.2 MB 1.3 MB/s eta 0:00:17\n",
      "   --------------------- ------------------ 24.8/46.2 MB 1.3 MB/s eta 0:00:17\n",
      "   --------------------- ------------------ 24.8/46.2 MB 1.3 MB/s eta 0:00:17\n",
      "   --------------------- ------------------ 24.8/46.2 MB 1.3 MB/s eta 0:00:17\n",
      "   --------------------- ------------------ 24.9/46.2 MB 1.3 MB/s eta 0:00:17\n",
      "   --------------------- ------------------ 24.9/46.2 MB 1.3 MB/s eta 0:00:17\n",
      "   --------------------- ------------------ 25.0/46.2 MB 1.3 MB/s eta 0:00:17\n",
      "   --------------------- ------------------ 25.0/46.2 MB 1.3 MB/s eta 0:00:17\n",
      "   --------------------- ------------------ 25.0/46.2 MB 1.3 MB/s eta 0:00:17\n",
      "   --------------------- ------------------ 25.1/46.2 MB 1.3 MB/s eta 0:00:17\n",
      "   --------------------- ------------------ 25.1/46.2 MB 1.3 MB/s eta 0:00:17\n",
      "   --------------------- ------------------ 25.2/46.2 MB 1.2 MB/s eta 0:00:17\n",
      "   --------------------- ------------------ 25.2/46.2 MB 1.2 MB/s eta 0:00:17\n",
      "   --------------------- ------------------ 25.3/46.2 MB 1.2 MB/s eta 0:00:17\n",
      "   --------------------- ------------------ 25.3/46.2 MB 1.2 MB/s eta 0:00:17\n",
      "   --------------------- ------------------ 25.4/46.2 MB 1.2 MB/s eta 0:00:17\n",
      "   ---------------------- ----------------- 25.5/46.2 MB 1.2 MB/s eta 0:00:17\n",
      "   ---------------------- ----------------- 25.5/46.2 MB 1.2 MB/s eta 0:00:17\n",
      "   ---------------------- ----------------- 25.6/46.2 MB 1.2 MB/s eta 0:00:17\n",
      "   ---------------------- ----------------- 25.7/46.2 MB 1.2 MB/s eta 0:00:17\n",
      "   ---------------------- ----------------- 25.7/46.2 MB 1.2 MB/s eta 0:00:17\n",
      "   ---------------------- ----------------- 25.8/46.2 MB 1.2 MB/s eta 0:00:17\n",
      "   ---------------------- ----------------- 25.9/46.2 MB 1.2 MB/s eta 0:00:17\n",
      "   ---------------------- ----------------- 26.0/46.2 MB 1.2 MB/s eta 0:00:17\n",
      "   ---------------------- ----------------- 26.0/46.2 MB 1.2 MB/s eta 0:00:17\n",
      "   ---------------------- ----------------- 26.1/46.2 MB 1.2 MB/s eta 0:00:17\n",
      "   ---------------------- ----------------- 26.2/46.2 MB 1.2 MB/s eta 0:00:17\n",
      "   ---------------------- ----------------- 26.3/46.2 MB 1.2 MB/s eta 0:00:17\n",
      "   ---------------------- ----------------- 26.4/46.2 MB 1.2 MB/s eta 0:00:17\n",
      "   ---------------------- ----------------- 26.5/46.2 MB 1.2 MB/s eta 0:00:17\n",
      "   ---------------------- ----------------- 26.5/46.2 MB 1.2 MB/s eta 0:00:17\n",
      "   ----------------------- ---------------- 26.6/46.2 MB 1.2 MB/s eta 0:00:16\n",
      "   ----------------------- ---------------- 26.7/46.2 MB 1.2 MB/s eta 0:00:16\n",
      "   ----------------------- ---------------- 26.8/46.2 MB 1.2 MB/s eta 0:00:16\n",
      "   ----------------------- ---------------- 26.9/46.2 MB 1.3 MB/s eta 0:00:16\n",
      "   ----------------------- ---------------- 27.0/46.2 MB 1.3 MB/s eta 0:00:16\n",
      "   ----------------------- ---------------- 27.1/46.2 MB 1.3 MB/s eta 0:00:16\n",
      "   ----------------------- ---------------- 27.2/46.2 MB 1.3 MB/s eta 0:00:15\n",
      "   ----------------------- ---------------- 27.3/46.2 MB 1.3 MB/s eta 0:00:15\n",
      "   ----------------------- ---------------- 27.4/46.2 MB 1.3 MB/s eta 0:00:15\n",
      "   ----------------------- ---------------- 27.5/46.2 MB 1.3 MB/s eta 0:00:15\n",
      "   ----------------------- ---------------- 27.6/46.2 MB 1.3 MB/s eta 0:00:15\n",
      "   ----------------------- ---------------- 27.7/46.2 MB 1.3 MB/s eta 0:00:15\n",
      "   ----------------------- ---------------- 27.7/46.2 MB 1.3 MB/s eta 0:00:15\n",
      "   ------------------------ --------------- 27.8/46.2 MB 1.3 MB/s eta 0:00:15\n",
      "   ------------------------ --------------- 27.8/46.2 MB 1.3 MB/s eta 0:00:15\n",
      "   ------------------------ --------------- 27.9/46.2 MB 1.3 MB/s eta 0:00:15\n",
      "   ------------------------ --------------- 27.9/46.2 MB 1.3 MB/s eta 0:00:15\n",
      "   ------------------------ --------------- 27.9/46.2 MB 1.3 MB/s eta 0:00:15\n",
      "   ------------------------ --------------- 28.0/46.2 MB 1.3 MB/s eta 0:00:15\n",
      "   ------------------------ --------------- 28.0/46.2 MB 1.3 MB/s eta 0:00:15\n",
      "   ------------------------ --------------- 28.0/46.2 MB 1.3 MB/s eta 0:00:15\n",
      "   ------------------------ --------------- 28.1/46.2 MB 1.3 MB/s eta 0:00:15\n",
      "   ------------------------ --------------- 28.1/46.2 MB 1.3 MB/s eta 0:00:15\n",
      "   ------------------------ --------------- 28.1/46.2 MB 1.3 MB/s eta 0:00:15\n",
      "   ------------------------ --------------- 28.2/46.2 MB 1.2 MB/s eta 0:00:15\n",
      "   ------------------------ --------------- 28.2/46.2 MB 1.2 MB/s eta 0:00:15\n",
      "   ------------------------ --------------- 28.3/46.2 MB 1.2 MB/s eta 0:00:15\n",
      "   ------------------------ --------------- 28.3/46.2 MB 1.2 MB/s eta 0:00:15\n",
      "   ------------------------ --------------- 28.4/46.2 MB 1.2 MB/s eta 0:00:15\n",
      "   ------------------------ --------------- 28.4/46.2 MB 1.2 MB/s eta 0:00:15\n",
      "   ------------------------ --------------- 28.4/46.2 MB 1.2 MB/s eta 0:00:15\n",
      "   ------------------------ --------------- 28.5/46.2 MB 1.2 MB/s eta 0:00:15\n",
      "   ------------------------ --------------- 28.6/46.2 MB 1.2 MB/s eta 0:00:15\n",
      "   ------------------------ --------------- 28.6/46.2 MB 1.2 MB/s eta 0:00:15\n",
      "   ------------------------ --------------- 28.7/46.2 MB 1.2 MB/s eta 0:00:15\n",
      "   ------------------------ --------------- 28.7/46.2 MB 1.2 MB/s eta 0:00:15\n",
      "   ------------------------ --------------- 28.8/46.2 MB 1.2 MB/s eta 0:00:15\n",
      "   ------------------------ --------------- 28.9/46.2 MB 1.2 MB/s eta 0:00:15\n",
      "   ------------------------- -------------- 28.9/46.2 MB 1.2 MB/s eta 0:00:15\n",
      "   ------------------------- -------------- 29.0/46.2 MB 1.2 MB/s eta 0:00:15\n",
      "   ------------------------- -------------- 29.1/46.2 MB 1.2 MB/s eta 0:00:14\n",
      "   ------------------------- -------------- 29.2/46.2 MB 1.2 MB/s eta 0:00:14\n",
      "   ------------------------- -------------- 29.2/46.2 MB 1.2 MB/s eta 0:00:14\n",
      "   ------------------------- -------------- 29.3/46.2 MB 1.3 MB/s eta 0:00:14\n",
      "   ------------------------- -------------- 29.4/46.2 MB 1.3 MB/s eta 0:00:14\n",
      "   ------------------------- -------------- 29.5/46.2 MB 1.3 MB/s eta 0:00:14\n",
      "   ------------------------- -------------- 29.6/46.2 MB 1.3 MB/s eta 0:00:14\n",
      "   ------------------------- -------------- 29.6/46.2 MB 1.3 MB/s eta 0:00:14\n",
      "   ------------------------- -------------- 29.7/46.2 MB 1.3 MB/s eta 0:00:13\n",
      "   ------------------------- -------------- 29.8/46.2 MB 1.3 MB/s eta 0:00:13\n",
      "   ------------------------- -------------- 29.9/46.2 MB 1.3 MB/s eta 0:00:13\n",
      "   ------------------------- -------------- 30.0/46.2 MB 1.3 MB/s eta 0:00:13\n",
      "   -------------------------- ------------- 30.1/46.2 MB 1.3 MB/s eta 0:00:13\n",
      "   -------------------------- ------------- 30.2/46.2 MB 1.3 MB/s eta 0:00:13\n",
      "   -------------------------- ------------- 30.3/46.2 MB 1.3 MB/s eta 0:00:13\n",
      "   -------------------------- ------------- 30.3/46.2 MB 1.3 MB/s eta 0:00:13\n",
      "   -------------------------- ------------- 30.4/46.2 MB 1.3 MB/s eta 0:00:13\n",
      "   -------------------------- ------------- 30.4/46.2 MB 1.3 MB/s eta 0:00:13\n",
      "   -------------------------- ------------- 30.5/46.2 MB 1.3 MB/s eta 0:00:13\n",
      "   -------------------------- ------------- 30.5/46.2 MB 1.3 MB/s eta 0:00:13\n",
      "   -------------------------- ------------- 30.6/46.2 MB 1.3 MB/s eta 0:00:13\n",
      "   -------------------------- ------------- 30.6/46.2 MB 1.3 MB/s eta 0:00:13\n",
      "   -------------------------- ------------- 30.7/46.2 MB 1.3 MB/s eta 0:00:13\n",
      "   -------------------------- ------------- 30.8/46.2 MB 1.3 MB/s eta 0:00:13\n",
      "   -------------------------- ------------- 30.8/46.2 MB 1.3 MB/s eta 0:00:13\n",
      "   -------------------------- ------------- 30.8/46.2 MB 1.3 MB/s eta 0:00:13\n",
      "   -------------------------- ------------- 30.9/46.2 MB 1.3 MB/s eta 0:00:13\n",
      "   -------------------------- ------------- 30.9/46.2 MB 1.3 MB/s eta 0:00:13\n",
      "   -------------------------- ------------- 31.0/46.2 MB 1.3 MB/s eta 0:00:13\n",
      "   -------------------------- ------------- 31.0/46.2 MB 1.3 MB/s eta 0:00:13\n",
      "   -------------------------- ------------- 31.1/46.2 MB 1.3 MB/s eta 0:00:13\n",
      "   -------------------------- ------------- 31.1/46.2 MB 1.2 MB/s eta 0:00:13\n",
      "   -------------------------- ------------- 31.2/46.2 MB 1.3 MB/s eta 0:00:12\n",
      "   --------------------------- ------------ 31.2/46.2 MB 1.2 MB/s eta 0:00:13\n",
      "   --------------------------- ------------ 31.2/46.2 MB 1.3 MB/s eta 0:00:12\n",
      "   --------------------------- ------------ 31.3/46.2 MB 1.2 MB/s eta 0:00:12\n",
      "   --------------------------- ------------ 31.3/46.2 MB 1.3 MB/s eta 0:00:12\n",
      "   --------------------------- ------------ 31.4/46.2 MB 1.3 MB/s eta 0:00:12\n",
      "   --------------------------- ------------ 31.4/46.2 MB 1.3 MB/s eta 0:00:12\n",
      "   --------------------------- ------------ 31.5/46.2 MB 1.3 MB/s eta 0:00:12\n",
      "   --------------------------- ------------ 31.5/46.2 MB 1.3 MB/s eta 0:00:12\n",
      "   --------------------------- ------------ 31.6/46.2 MB 1.3 MB/s eta 0:00:12\n",
      "   --------------------------- ------------ 31.7/46.2 MB 1.3 MB/s eta 0:00:12\n",
      "   --------------------------- ------------ 31.7/46.2 MB 1.3 MB/s eta 0:00:12\n",
      "   --------------------------- ------------ 31.8/46.2 MB 1.3 MB/s eta 0:00:12\n",
      "   --------------------------- ------------ 31.8/46.2 MB 1.3 MB/s eta 0:00:12\n",
      "   --------------------------- ------------ 31.9/46.2 MB 1.3 MB/s eta 0:00:12\n",
      "   --------------------------- ------------ 32.0/46.2 MB 1.3 MB/s eta 0:00:12\n",
      "   --------------------------- ------------ 32.1/46.2 MB 1.3 MB/s eta 0:00:12\n",
      "   --------------------------- ------------ 32.2/46.2 MB 1.3 MB/s eta 0:00:12\n",
      "   --------------------------- ------------ 32.2/46.2 MB 1.3 MB/s eta 0:00:12\n",
      "   --------------------------- ------------ 32.3/46.2 MB 1.3 MB/s eta 0:00:11\n",
      "   ---------------------------- ----------- 32.4/46.2 MB 1.3 MB/s eta 0:00:11\n",
      "   ---------------------------- ----------- 32.6/46.2 MB 1.3 MB/s eta 0:00:11\n",
      "   ---------------------------- ----------- 32.6/46.2 MB 1.3 MB/s eta 0:00:11\n",
      "   ---------------------------- ----------- 32.8/46.2 MB 1.3 MB/s eta 0:00:11\n",
      "   ---------------------------- ----------- 32.9/46.2 MB 1.3 MB/s eta 0:00:11\n",
      "   ---------------------------- ----------- 33.0/46.2 MB 1.3 MB/s eta 0:00:11\n",
      "   ---------------------------- ----------- 33.0/46.2 MB 1.3 MB/s eta 0:00:11\n",
      "   ---------------------------- ----------- 33.1/46.2 MB 1.3 MB/s eta 0:00:11\n",
      "   ---------------------------- ----------- 33.1/46.2 MB 1.3 MB/s eta 0:00:11\n",
      "   ---------------------------- ----------- 33.3/46.2 MB 1.3 MB/s eta 0:00:11\n",
      "   ---------------------------- ----------- 33.3/46.2 MB 1.3 MB/s eta 0:00:11\n",
      "   ---------------------------- ----------- 33.4/46.2 MB 1.3 MB/s eta 0:00:11\n",
      "   ---------------------------- ----------- 33.5/46.2 MB 1.3 MB/s eta 0:00:11\n",
      "   ----------------------------- ---------- 33.6/46.2 MB 1.3 MB/s eta 0:00:11\n",
      "   ----------------------------- ---------- 33.6/46.2 MB 1.3 MB/s eta 0:00:10\n",
      "   ----------------------------- ---------- 33.7/46.2 MB 1.3 MB/s eta 0:00:10\n",
      "   ----------------------------- ---------- 33.8/46.2 MB 1.3 MB/s eta 0:00:10\n",
      "   ----------------------------- ---------- 33.9/46.2 MB 1.3 MB/s eta 0:00:10\n",
      "   ----------------------------- ---------- 33.9/46.2 MB 1.3 MB/s eta 0:00:10\n",
      "   ----------------------------- ---------- 34.0/46.2 MB 1.3 MB/s eta 0:00:10\n",
      "   ----------------------------- ---------- 34.0/46.2 MB 1.3 MB/s eta 0:00:10\n",
      "   ----------------------------- ---------- 34.1/46.2 MB 1.3 MB/s eta 0:00:10\n",
      "   ----------------------------- ---------- 34.2/46.2 MB 1.3 MB/s eta 0:00:10\n",
      "   ----------------------------- ---------- 34.2/46.2 MB 1.2 MB/s eta 0:00:10\n",
      "   ----------------------------- ---------- 34.3/46.2 MB 1.2 MB/s eta 0:00:10\n",
      "   ----------------------------- ---------- 34.4/46.2 MB 1.2 MB/s eta 0:00:10\n",
      "   ----------------------------- ---------- 34.4/46.2 MB 1.2 MB/s eta 0:00:10\n",
      "   ----------------------------- ---------- 34.5/46.2 MB 1.2 MB/s eta 0:00:10\n",
      "   ----------------------------- ---------- 34.6/46.2 MB 1.2 MB/s eta 0:00:10\n",
      "   ----------------------------- ---------- 34.6/46.2 MB 1.2 MB/s eta 0:00:10\n",
      "   ------------------------------ --------- 34.7/46.2 MB 1.2 MB/s eta 0:00:10\n",
      "   ------------------------------ --------- 34.8/46.2 MB 1.3 MB/s eta 0:00:10\n",
      "   ------------------------------ --------- 34.9/46.2 MB 1.3 MB/s eta 0:00:09\n",
      "   ------------------------------ --------- 35.0/46.2 MB 1.3 MB/s eta 0:00:09\n",
      "   ------------------------------ --------- 35.1/46.2 MB 1.3 MB/s eta 0:00:09\n",
      "   ------------------------------ --------- 35.2/46.2 MB 1.3 MB/s eta 0:00:09\n",
      "   ------------------------------ --------- 35.3/46.2 MB 1.3 MB/s eta 0:00:09\n",
      "   ------------------------------ --------- 35.3/46.2 MB 1.3 MB/s eta 0:00:09\n",
      "   ------------------------------ --------- 35.4/46.2 MB 1.3 MB/s eta 0:00:08\n",
      "   ------------------------------ --------- 35.5/46.2 MB 1.3 MB/s eta 0:00:08\n",
      "   ------------------------------ --------- 35.5/46.2 MB 1.3 MB/s eta 0:00:08\n",
      "   ------------------------------ --------- 35.6/46.2 MB 1.3 MB/s eta 0:00:08\n",
      "   ------------------------------ --------- 35.6/46.2 MB 1.3 MB/s eta 0:00:08\n",
      "   ------------------------------ --------- 35.7/46.2 MB 1.3 MB/s eta 0:00:08\n",
      "   ------------------------------ --------- 35.7/46.2 MB 1.3 MB/s eta 0:00:08\n",
      "   ------------------------------ --------- 35.7/46.2 MB 1.3 MB/s eta 0:00:08\n",
      "   ------------------------------ --------- 35.8/46.2 MB 1.3 MB/s eta 0:00:08\n",
      "   ------------------------------- -------- 35.8/46.2 MB 1.3 MB/s eta 0:00:08\n",
      "   ------------------------------- -------- 35.9/46.2 MB 1.3 MB/s eta 0:00:08\n",
      "   ------------------------------- -------- 35.9/46.2 MB 1.3 MB/s eta 0:00:08\n",
      "   ------------------------------- -------- 36.0/46.2 MB 1.3 MB/s eta 0:00:08\n",
      "   ------------------------------- -------- 36.0/46.2 MB 1.3 MB/s eta 0:00:08\n",
      "   ------------------------------- -------- 36.1/46.2 MB 1.3 MB/s eta 0:00:08\n",
      "   ------------------------------- -------- 36.1/46.2 MB 1.3 MB/s eta 0:00:08\n",
      "   ------------------------------- -------- 36.2/46.2 MB 1.3 MB/s eta 0:00:08\n",
      "   ------------------------------- -------- 36.2/46.2 MB 1.3 MB/s eta 0:00:08\n",
      "   ------------------------------- -------- 36.3/46.2 MB 1.3 MB/s eta 0:00:08\n",
      "   ------------------------------- -------- 36.4/46.2 MB 1.3 MB/s eta 0:00:08\n",
      "   ------------------------------- -------- 36.4/46.2 MB 1.3 MB/s eta 0:00:08\n",
      "   ------------------------------- -------- 36.4/46.2 MB 1.3 MB/s eta 0:00:08\n",
      "   ------------------------------- -------- 36.5/46.2 MB 1.3 MB/s eta 0:00:08\n",
      "   ------------------------------- -------- 36.5/46.2 MB 1.3 MB/s eta 0:00:08\n",
      "   ------------------------------- -------- 36.6/46.2 MB 1.3 MB/s eta 0:00:08\n",
      "   ------------------------------- -------- 36.6/46.2 MB 1.3 MB/s eta 0:00:08\n",
      "   ------------------------------- -------- 36.7/46.2 MB 1.3 MB/s eta 0:00:08\n",
      "   ------------------------------- -------- 36.7/46.2 MB 1.3 MB/s eta 0:00:08\n",
      "   ------------------------------- -------- 36.8/46.2 MB 1.3 MB/s eta 0:00:08\n",
      "   ------------------------------- -------- 36.8/46.2 MB 1.3 MB/s eta 0:00:08\n",
      "   ------------------------------- -------- 36.9/46.2 MB 1.3 MB/s eta 0:00:08\n",
      "   -------------------------------- ------- 37.0/46.2 MB 1.3 MB/s eta 0:00:08\n",
      "   -------------------------------- ------- 37.0/46.2 MB 1.3 MB/s eta 0:00:08\n",
      "   -------------------------------- ------- 37.1/46.2 MB 1.3 MB/s eta 0:00:08\n",
      "   -------------------------------- ------- 37.1/46.2 MB 1.3 MB/s eta 0:00:08\n",
      "   -------------------------------- ------- 37.2/46.2 MB 1.3 MB/s eta 0:00:08\n",
      "   -------------------------------- ------- 37.2/46.2 MB 1.3 MB/s eta 0:00:08\n",
      "   -------------------------------- ------- 37.3/46.2 MB 1.3 MB/s eta 0:00:08\n",
      "   -------------------------------- ------- 37.3/46.2 MB 1.3 MB/s eta 0:00:08\n",
      "   -------------------------------- ------- 37.4/46.2 MB 1.3 MB/s eta 0:00:07\n",
      "   -------------------------------- ------- 37.5/46.2 MB 1.3 MB/s eta 0:00:07\n",
      "   -------------------------------- ------- 37.6/46.2 MB 1.2 MB/s eta 0:00:07\n",
      "   -------------------------------- ------- 37.7/46.2 MB 1.2 MB/s eta 0:00:07\n",
      "   -------------------------------- ------- 37.7/46.2 MB 1.2 MB/s eta 0:00:07\n",
      "   -------------------------------- ------- 37.8/46.2 MB 1.2 MB/s eta 0:00:07\n",
      "   -------------------------------- ------- 37.9/46.2 MB 1.3 MB/s eta 0:00:07\n",
      "\n",
      "   -------------------------------- ------- 38.0/46.2 MB 1.3 MB/s eta 0:00:07\n",
      "   -------------------------------- ------- 38.1/46.2 MB 1.3 MB/s eta 0:00:07\n",
      "   --------------------------------- ------ 38.2/46.2 MB 1.3 MB/s eta 0:00:07\n",
      "   --------------------------------- ------ 38.2/46.2 MB 1.3 MB/s eta 0:00:07\n",
      "   --------------------------------- ------ 38.3/46.2 MB 1.3 MB/s eta 0:00:07\n",
      "   --------------------------------- ------ 38.4/46.2 MB 1.3 MB/s eta 0:00:07\n",
      "   --------------------------------- ------ 38.4/46.2 MB 1.3 MB/s eta 0:00:07\n",
      "   --------------------------------- ------ 38.5/46.2 MB 1.3 MB/s eta 0:00:06\n",
      "   --------------------------------- ------ 38.6/46.2 MB 1.3 MB/s eta 0:00:06\n",
      "   --------------------------------- ------ 38.6/46.2 MB 1.3 MB/s eta 0:00:06\n",
      "   --------------------------------- ------ 38.7/46.2 MB 1.3 MB/s eta 0:00:06\n",
      "   --------------------------------- ------ 38.8/46.2 MB 1.3 MB/s eta 0:00:06\n",
      "   --------------------------------- ------ 38.9/46.2 MB 1.3 MB/s eta 0:00:06\n",
      "   --------------------------------- ------ 38.9/46.2 MB 1.3 MB/s eta 0:00:06\n",
      "   --------------------------------- ------ 39.0/46.2 MB 1.3 MB/s eta 0:00:06\n",
      "   --------------------------------- ------ 39.0/46.2 MB 1.3 MB/s eta 0:00:06\n",
      "   --------------------------------- ------ 39.0/46.2 MB 1.3 MB/s eta 0:00:06\n",
      "   --------------------------------- ------ 39.1/46.2 MB 1.3 MB/s eta 0:00:06\n",
      "   --------------------------------- ------ 39.1/46.2 MB 1.3 MB/s eta 0:00:06\n",
      "   --------------------------------- ------ 39.1/46.2 MB 1.3 MB/s eta 0:00:06\n",
      "   --------------------------------- ------ 39.1/46.2 MB 1.3 MB/s eta 0:00:06\n",
      "   --------------------------------- ------ 39.1/46.2 MB 1.3 MB/s eta 0:00:06\n",
      "   --------------------------------- ------ 39.1/46.2 MB 1.3 MB/s eta 0:00:06\n",
      "   --------------------------------- ------ 39.1/46.2 MB 1.3 MB/s eta 0:00:06\n",
      "   --------------------------------- ------ 39.1/46.2 MB 1.3 MB/s eta 0:00:06\n",
      "   --------------------------------- ------ 39.2/46.2 MB 1.3 MB/s eta 0:00:06\n",
      "   --------------------------------- ------ 39.2/46.2 MB 1.3 MB/s eta 0:00:06\n",
      "   --------------------------------- ------ 39.2/46.2 MB 1.2 MB/s eta 0:00:06\n",
      "   ---------------------------------- ----- 39.3/46.2 MB 1.2 MB/s eta 0:00:06\n",
      "   ---------------------------------- ----- 39.3/46.2 MB 1.2 MB/s eta 0:00:06\n",
      "   ---------------------------------- ----- 39.3/46.2 MB 1.2 MB/s eta 0:00:06\n",
      "   ---------------------------------- ----- 39.3/46.2 MB 1.2 MB/s eta 0:00:06\n",
      "   ---------------------------------- ----- 39.3/46.2 MB 1.2 MB/s eta 0:00:06\n",
      "   ---------------------------------- ----- 39.5/46.2 MB 1.2 MB/s eta 0:00:06\n",
      "   ---------------------------------- ----- 39.6/46.2 MB 1.2 MB/s eta 0:00:06\n",
      "   ---------------------------------- ----- 39.7/46.2 MB 1.2 MB/s eta 0:00:06\n",
      "   ---------------------------------- ----- 39.8/46.2 MB 1.2 MB/s eta 0:00:06\n",
      "   ---------------------------------- ----- 40.0/46.2 MB 1.2 MB/s eta 0:00:06\n",
      "   ---------------------------------- ----- 40.1/46.2 MB 1.2 MB/s eta 0:00:05\n",
      "   ---------------------------------- ----- 40.3/46.2 MB 1.2 MB/s eta 0:00:05\n",
      "   ----------------------------------- ---- 40.5/46.2 MB 1.2 MB/s eta 0:00:05\n",
      "   ----------------------------------- ---- 40.7/46.2 MB 1.3 MB/s eta 0:00:05\n",
      "   ----------------------------------- ---- 41.0/46.2 MB 1.3 MB/s eta 0:00:05\n",
      "   ----------------------------------- ---- 41.1/46.2 MB 1.3 MB/s eta 0:00:04\n",
      "   ----------------------------------- ---- 41.3/46.2 MB 1.3 MB/s eta 0:00:04\n",
      "   ----------------------------------- ---- 41.3/46.2 MB 1.3 MB/s eta 0:00:04\n",
      "   ----------------------------------- ---- 41.3/46.2 MB 1.3 MB/s eta 0:00:04\n",
      "   ----------------------------------- ---- 41.3/46.2 MB 1.3 MB/s eta 0:00:04\n",
      "   ----------------------------------- ---- 41.4/46.2 MB 1.3 MB/s eta 0:00:04\n",
      "   ----------------------------------- ---- 41.4/46.2 MB 1.3 MB/s eta 0:00:04\n",
      "   ----------------------------------- ---- 41.4/46.2 MB 1.3 MB/s eta 0:00:04\n",
      "   ----------------------------------- ---- 41.5/46.2 MB 1.3 MB/s eta 0:00:04\n",
      "   ------------------------------------ --- 41.6/46.2 MB 1.3 MB/s eta 0:00:04\n",
      "   ------------------------------------ --- 41.7/46.2 MB 1.3 MB/s eta 0:00:04\n",
      "   ------------------------------------ --- 41.8/46.2 MB 1.3 MB/s eta 0:00:04\n",
      "   ------------------------------------ --- 41.9/46.2 MB 1.3 MB/s eta 0:00:04\n",
      "   ------------------------------------ --- 41.9/46.2 MB 1.3 MB/s eta 0:00:04\n",
      "   ------------------------------------ --- 42.0/46.2 MB 1.3 MB/s eta 0:00:04\n",
      "   ------------------------------------ --- 42.1/46.2 MB 1.3 MB/s eta 0:00:04\n",
      "   ------------------------------------ --- 42.2/46.2 MB 1.3 MB/s eta 0:00:04\n",
      "   ------------------------------------ --- 42.2/46.2 MB 1.3 MB/s eta 0:00:04\n",
      "   ------------------------------------ --- 42.3/46.2 MB 1.3 MB/s eta 0:00:04\n",
      "   ------------------------------------ --- 42.5/46.2 MB 1.3 MB/s eta 0:00:03\n",
      "   ------------------------------------ --- 42.6/46.2 MB 1.3 MB/s eta 0:00:03\n",
      "   ------------------------------------ --- 42.7/46.2 MB 1.3 MB/s eta 0:00:03\n",
      "   ------------------------------------- -- 42.9/46.2 MB 1.3 MB/s eta 0:00:03\n",
      "   ------------------------------------- -- 42.9/46.2 MB 1.3 MB/s eta 0:00:03\n",
      "   ------------------------------------- -- 43.0/46.2 MB 1.3 MB/s eta 0:00:03\n",
      "   ------------------------------------- -- 43.1/46.2 MB 1.3 MB/s eta 0:00:03\n",
      "   ------------------------------------- -- 43.3/46.2 MB 1.3 MB/s eta 0:00:03\n",
      "   ------------------------------------- -- 43.3/46.2 MB 1.3 MB/s eta 0:00:03\n",
      "   ------------------------------------- -- 43.4/46.2 MB 1.3 MB/s eta 0:00:03\n",
      "   ------------------------------------- -- 43.5/46.2 MB 1.3 MB/s eta 0:00:03\n",
      "   ------------------------------------- -- 43.5/46.2 MB 1.3 MB/s eta 0:00:03\n",
      "   ------------------------------------- -- 43.6/46.2 MB 1.3 MB/s eta 0:00:03\n",
      "   ------------------------------------- -- 43.7/46.2 MB 1.3 MB/s eta 0:00:03\n",
      "   ------------------------------------- -- 43.7/46.2 MB 1.3 MB/s eta 0:00:02\n",
      "   ------------------------------------- -- 43.8/46.2 MB 1.3 MB/s eta 0:00:02\n",
      "   ------------------------------------- -- 43.8/46.2 MB 1.3 MB/s eta 0:00:02\n",
      "   ------------------------------------- -- 43.8/46.2 MB 1.3 MB/s eta 0:00:02\n",
      "   -------------------------------------- - 43.9/46.2 MB 1.2 MB/s eta 0:00:02\n",
      "   -------------------------------------- - 44.0/46.2 MB 1.2 MB/s eta 0:00:02\n",
      "   -------------------------------------- - 44.0/46.2 MB 1.2 MB/s eta 0:00:02\n",
      "   -------------------------------------- - 44.1/46.2 MB 1.2 MB/s eta 0:00:02\n",
      "   -------------------------------------- - 44.3/46.2 MB 1.2 MB/s eta 0:00:02\n",
      "   -------------------------------------- - 44.4/46.2 MB 1.2 MB/s eta 0:00:02\n",
      "   -------------------------------------- - 44.6/46.2 MB 1.2 MB/s eta 0:00:02\n",
      "   -------------------------------------- - 44.9/46.2 MB 1.2 MB/s eta 0:00:02\n",
      "   -------------------------------------- - 45.0/46.2 MB 1.2 MB/s eta 0:00:01\n",
      "   ---------------------------------------  45.2/46.2 MB 1.2 MB/s eta 0:00:01\n",
      "   ---------------------------------------  45.3/46.2 MB 1.2 MB/s eta 0:00:01\n",
      "   ---------------------------------------  45.4/46.2 MB 1.2 MB/s eta 0:00:01\n",
      "   ---------------------------------------  45.6/46.2 MB 1.2 MB/s eta 0:00:01\n",
      "   ---------------------------------------  45.8/46.2 MB 1.3 MB/s eta 0:00:01\n",
      "   ---------------------------------------  46.0/46.2 MB 1.3 MB/s eta 0:00:01\n",
      "   ---------------------------------------  46.2/46.2 MB 1.3 MB/s eta 0:00:01\n",
      "   ---------------------------------------  46.2/46.2 MB 1.3 MB/s eta 0:00:01\n",
      "   ---------------------------------------  46.2/46.2 MB 1.3 MB/s eta 0:00:01\n",
      "   ---------------------------------------  46.2/46.2 MB 1.3 MB/s eta 0:00:01\n",
      "   ---------------------------------------  46.2/46.2 MB 1.3 MB/s eta 0:00:01\n",
      "   ---------------------------------------  46.2/46.2 MB 1.3 MB/s eta 0:00:01\n",
      "   ---------------------------------------  46.2/46.2 MB 1.3 MB/s eta 0:00:01\n",
      "   ---------------------------------------  46.2/46.2 MB 1.3 MB/s eta 0:00:01\n",
      "   ---------------------------------------  46.2/46.2 MB 1.3 MB/s eta 0:00:01\n",
      "   ---------------------------------------  46.2/46.2 MB 1.3 MB/s eta 0:00:01\n",
      "   ---------------------------------------  46.2/46.2 MB 1.3 MB/s eta 0:00:01\n",
      "   ---------------------------------------  46.2/46.2 MB 1.3 MB/s eta 0:00:01\n",
      "   ---------------------------------------  46.2/46.2 MB 1.3 MB/s eta 0:00:01\n",
      "   ---------------------------------------  46.2/46.2 MB 1.3 MB/s eta 0:00:01\n",
      "   ---------------------------------------  46.2/46.2 MB 1.3 MB/s eta 0:00:01\n",
      "   ---------------------------------------  46.2/46.2 MB 1.3 MB/s eta 0:00:01\n",
      "   ---------------------------------------  46.2/46.2 MB 1.3 MB/s eta 0:00:01\n",
      "   ---------------------------------------  46.2/46.2 MB 1.3 MB/s eta 0:00:01\n",
      "   ---------------------------------------  46.2/46.2 MB 1.3 MB/s eta 0:00:01\n",
      "   ---------------------------------------  46.2/46.2 MB 1.3 MB/s eta 0:00:01\n",
      "   ---------------------------------------  46.2/46.2 MB 1.3 MB/s eta 0:00:01\n",
      "   ---------------------------------------  46.2/46.2 MB 1.3 MB/s eta 0:00:01\n",
      "   ---------------------------------------  46.2/46.2 MB 1.3 MB/s eta 0:00:01\n",
      "   ---------------------------------------  46.2/46.2 MB 1.3 MB/s eta 0:00:01\n",
      "   ---------------------------------------  46.2/46.2 MB 1.3 MB/s eta 0:00:01\n",
      "   ---------------------------------------  46.2/46.2 MB 1.3 MB/s eta 0:00:01\n",
      "   ---------------------------------------  46.2/46.2 MB 1.3 MB/s eta 0:00:01\n",
      "   ---------------------------------------  46.2/46.2 MB 1.3 MB/s eta 0:00:01\n",
      "   ---------------------------------------  46.2/46.2 MB 1.3 MB/s eta 0:00:01\n",
      "   ---------------------------------------  46.2/46.2 MB 1.3 MB/s eta 0:00:01\n",
      "   ---------------------------------------  46.2/46.2 MB 1.3 MB/s eta 0:00:01\n",
      "   ---------------------------------------  46.2/46.2 MB 1.3 MB/s eta 0:00:01\n",
      "   ---------------------------------------  46.2/46.2 MB 1.3 MB/s eta 0:00:01\n",
      "   ---------------------------------------  46.2/46.2 MB 1.3 MB/s eta 0:00:01\n",
      "   ---------------------------------------  46.2/46.2 MB 1.3 MB/s eta 0:00:01\n",
      "   ---------------------------------------- 46.2/46.2 MB 1.1 MB/s eta 0:00:00\n",
      "Downloading threadpoolctl-3.5.0-py3-none-any.whl (18 kB)\n",
      "Installing collected packages: threadpoolctl, scipy, joblib, scikit-learn\n",
      "Successfully installed joblib-1.4.2 scikit-learn-1.4.2 scipy-1.13.0 threadpoolctl-3.5.0\n"
     ]
    }
   ],
   "source": [
    "# pip install -U scikit-learn"
   ]
  },
  {
   "cell_type": "code",
   "execution_count": null,
   "metadata": {},
   "outputs": [],
   "source": []
  },
  {
   "cell_type": "code",
   "execution_count": 13,
   "metadata": {
    "metadata": {}
   },
   "outputs": [],
   "source": [
    "import sklearn"
   ]
  },
  {
   "cell_type": "code",
   "execution_count": 14,
   "metadata": {
    "metadata": {}
   },
   "outputs": [],
   "source": [
    "from sklearn.feature_extraction.text import CountVectorizer"
   ]
  },
  {
   "cell_type": "code",
   "execution_count": 15,
   "metadata": {
    "metadata": {}
   },
   "outputs": [],
   "source": [
    "cv = CountVectorizer(max_features=5500,stop_words='english')"
   ]
  },
  {
   "cell_type": "code",
   "execution_count": 16,
   "metadata": {
    "metadata": {}
   },
   "outputs": [],
   "source": [
    "vectors = cv.fit_transform(new_df['tags']).toarray()"
   ]
  },
  {
   "cell_type": "code",
   "execution_count": 17,
   "metadata": {
    "metadata": {}
   },
   "outputs": [
    {
     "data": {
      "text/plain": [
       "array([0, 0, 0, ..., 0, 0, 0], dtype=int64)"
      ]
     },
     "execution_count": 17,
     "metadata": {},
     "output_type": "execute_result"
    }
   ],
   "source": [
    "vectors[0]"
   ]
  },
  {
   "cell_type": "code",
   "execution_count": 18,
   "metadata": {
    "metadata": {}
   },
   "outputs": [
    {
     "data": {
      "text/plain": [
       "(4806, 5500)"
      ]
     },
     "execution_count": 18,
     "metadata": {},
     "output_type": "execute_result"
    }
   ],
   "source": [
    "cv.fit_transform(new_df['tags']).toarray().shape"
   ]
  },
  {
   "cell_type": "code",
   "execution_count": 19,
   "metadata": {
    "metadata": {}
   },
   "outputs": [
    {
     "data": {
      "text/plain": [
       "array(['000', '007', '10', '100', '11', '12', '13', '14', '15', '16',\n",
       "       '17', '18', '18th', '19', '1930s', '1950s', '1960s', '1970s',\n",
       "       '1980', '1980s'], dtype=object)"
      ]
     },
     "execution_count": 19,
     "metadata": {},
     "output_type": "execute_result"
    }
   ],
   "source": [
    "cv.get_feature_names_out()[0:20]"
   ]
  },
  {
   "cell_type": "code",
   "execution_count": 20,
   "metadata": {
    "metadata": {}
   },
   "outputs": [
    {
     "data": {
      "text/plain": [
       "5500"
      ]
     },
     "execution_count": 20,
     "metadata": {},
     "output_type": "execute_result"
    }
   ],
   "source": [
    "len(cv.get_feature_names_out())"
   ]
  },
  {
   "cell_type": "code",
   "execution_count": 21,
   "metadata": {
    "metadata": {}
   },
   "outputs": [
    {
     "name": "stderr",
     "output_type": "stream",
     "text": [
      "ERROR: Invalid requirement: '#natural'\n"
     ]
    }
   ],
   "source": [
    "!pip install nltk #natural language processing library"
   ]
  },
  {
   "cell_type": "code",
   "execution_count": 22,
   "metadata": {
    "metadata": {}
   },
   "outputs": [],
   "source": [
    "import nltk"
   ]
  },
  {
   "cell_type": "code",
   "execution_count": 23,
   "metadata": {
    "metadata": {}
   },
   "outputs": [],
   "source": [
    "from nltk.stem.porter import PorterStemmer\n",
    "ps = PorterStemmer()"
   ]
  },
  {
   "cell_type": "code",
   "execution_count": 24,
   "metadata": {
    "metadata": {}
   },
   "outputs": [],
   "source": [
    "def stem(text):\n",
    "    y = []\n",
    "    for i in text.split():\n",
    "        y.append(ps.stem(i))\n",
    "    return \" \".join(y)"
   ]
  },
  {
   "cell_type": "code",
   "execution_count": 25,
   "metadata": {
    "metadata": {}
   },
   "outputs": [],
   "source": [
    "new_df['tags'] = new_df['tags'].apply(stem)"
   ]
  },
  {
   "cell_type": "code",
   "execution_count": 26,
   "metadata": {
    "metadata": {}
   },
   "outputs": [
    {
     "data": {
      "text/html": [
       "<div>\n",
       "<style scoped>\n",
       "    .dataframe tbody tr th:only-of-type {\n",
       "        vertical-align: middle;\n",
       "    }\n",
       "\n",
       "    .dataframe tbody tr th {\n",
       "        vertical-align: top;\n",
       "    }\n",
       "\n",
       "    .dataframe thead th {\n",
       "        text-align: right;\n",
       "    }\n",
       "</style>\n",
       "<table border=\"1\" class=\"dataframe\">\n",
       "  <thead>\n",
       "    <tr style=\"text-align: right;\">\n",
       "      <th></th>\n",
       "      <th>movie_id</th>\n",
       "      <th>tags</th>\n",
       "      <th>title</th>\n",
       "    </tr>\n",
       "  </thead>\n",
       "  <tbody>\n",
       "    <tr>\n",
       "      <th>0</th>\n",
       "      <td>19995</td>\n",
       "      <td>in the 22nd century, a parapleg marin is dispa...</td>\n",
       "      <td>Avatar</td>\n",
       "    </tr>\n",
       "    <tr>\n",
       "      <th>1</th>\n",
       "      <td>285</td>\n",
       "      <td>captain barbossa, long believ to be dead, ha c...</td>\n",
       "      <td>Pirates of the Caribbean: At World's End</td>\n",
       "    </tr>\n",
       "  </tbody>\n",
       "</table>\n",
       "</div>"
      ],
      "text/plain": [
       "   movie_id                                               tags  \\\n",
       "0     19995  in the 22nd century, a parapleg marin is dispa...   \n",
       "1       285  captain barbossa, long believ to be dead, ha c...   \n",
       "\n",
       "                                      title  \n",
       "0                                    Avatar  \n",
       "1  Pirates of the Caribbean: At World's End  "
      ]
     },
     "execution_count": 26,
     "metadata": {},
     "output_type": "execute_result"
    }
   ],
   "source": [
    "new_df.head(2)"
   ]
  },
  {
   "cell_type": "code",
   "execution_count": 27,
   "metadata": {
    "metadata": {}
   },
   "outputs": [],
   "source": [
    "from sklearn.metrics.pairwise import cosine_similarity\n",
    "similarity = cosine_similarity(vectors)"
   ]
  },
  {
   "cell_type": "code",
   "execution_count": 28,
   "metadata": {
    "metadata": {}
   },
   "outputs": [
    {
     "data": {
      "text/plain": [
       "array([1.        , 0.        , 0.12506108, ..., 0.        , 0.        ,\n",
       "       0.        ])"
      ]
     },
     "execution_count": 28,
     "metadata": {},
     "output_type": "execute_result"
    }
   ],
   "source": [
    "similarity[0]"
   ]
  },
  {
   "cell_type": "markdown",
   "metadata": {},
   "source": [
    "###  recommendation"
   ]
  },
  {
   "cell_type": "code",
   "execution_count": 29,
   "metadata": {
    "metadata": {}
   },
   "outputs": [],
   "source": [
    "def reccomend(movie):\n",
    "    movie_index = new_df[new_df['title'] == movie].index[0]\n",
    "    distances = similarity[movie_index]\n",
    "    movie_list = sorted(list(enumerate(distances)),reverse=True,key=lambda x:x[1])[1:6]\n",
    "\n",
    "\n",
    "    for i in movie_list:\n",
    "        print(new_df.iloc[i[0]].title)\n"
   ]
  },
  {
   "cell_type": "code",
   "execution_count": 30,
   "metadata": {
    "metadata": {}
   },
   "outputs": [],
   "source": [
    "import streamlit"
   ]
  },
  {
   "cell_type": "code",
   "execution_count": 31,
   "metadata": {
    "metadata": {}
   },
   "outputs": [
    {
     "name": "stdout",
     "output_type": "stream",
     "text": [
      "The Helix... Loaded\n",
      "Khiladi 786\n",
      "Silver Medalist\n",
      "Force 10 from Navarone\n",
      "Supercross\n"
     ]
    }
   ],
   "source": [
    "reccomend(movie='Avatar')"
   ]
  },
  {
   "cell_type": "code",
   "execution_count": 32,
   "metadata": {
    "metadata": {}
   },
   "outputs": [
    {
     "data": {
      "text/plain": [
       "'The Hobbit: The Battle of the Five Armies'"
      ]
     },
     "execution_count": 32,
     "metadata": {},
     "output_type": "execute_result"
    }
   ],
   "source": [
    "new_df['title'].iloc[19]"
   ]
  },
  {
   "cell_type": "code",
   "execution_count": 33,
   "metadata": {
    "metadata": {}
   },
   "outputs": [
    {
     "data": {
      "text/plain": [
       "119"
      ]
     },
     "execution_count": 33,
     "metadata": {},
     "output_type": "execute_result"
    }
   ],
   "source": [
    "new_df[new_df['title'] == 'Batman Begins'].index[0]"
   ]
  },
  {
   "cell_type": "code",
   "execution_count": 35,
   "metadata": {},
   "outputs": [],
   "source": [
    "import pickle"
   ]
  },
  {
   "cell_type": "code",
   "execution_count": 36,
   "metadata": {},
   "outputs": [],
   "source": [
    "pickle.dump(new_df,open('movie.pkl','wb'))"
   ]
  },
  {
   "cell_type": "code",
   "execution_count": 38,
   "metadata": {},
   "outputs": [
    {
     "data": {
      "text/plain": [
       "array(['Avatar', \"Pirates of the Caribbean: At World's End\", 'Spectre',\n",
       "       ..., 'Signed, Sealed, Delivered', 'Shanghai Calling',\n",
       "       'My Date with Drew'], dtype=object)"
      ]
     },
     "execution_count": 38,
     "metadata": {},
     "output_type": "execute_result"
    }
   ],
   "source": [
    "new_df['title'].values"
   ]
  },
  {
   "cell_type": "code",
   "execution_count": 39,
   "metadata": {},
   "outputs": [],
   "source": [
    "pickle.dump(new_df.to_dict(),open('movie_dict.pkl','wb'))#converting into dictionary"
   ]
  },
  {
   "cell_type": "code",
   "execution_count": 40,
   "metadata": {},
   "outputs": [],
   "source": [
    "pickle.dump(similarity,open('similarity.pkl','wb'))"
   ]
  },
  {
   "cell_type": "code",
   "execution_count": null,
   "metadata": {},
   "outputs": [],
   "source": []
  },
  {
   "cell_type": "code",
   "execution_count": 57,
   "metadata": {
    "metadata": {}
   },
   "outputs": [],
   "source": [
    "l = sorted(list(enumerate(similarity[0])),reverse=True)"
   ]
  },
  {
   "cell_type": "code",
   "execution_count": 58,
   "metadata": {
    "metadata": {}
   },
   "outputs": [
    {
     "data": {
      "text/plain": [
       "[(4805, 0.0),\n",
       " (4804, 0.0),\n",
       " (4803, 0.0),\n",
       " (4802, 0.0),\n",
       " (4801, 0.12143534814378325),\n",
       " (4800, 0.0),\n",
       " (4799, 0.03522349768381735),\n",
       " (4798, 0.02358333153182891),\n",
       " (4797, 0.0),\n",
       " (4796, 0.0),\n",
       " (4795, 0.0),\n",
       " (4794, 0.0),\n",
       " (4793, 0.0),\n",
       " (4792, 0.0),\n",
       " (4791, 0.0),\n",
       " (4790, 0.0),\n",
       " (4789, 0.0),\n",
       " (4788, 0.0),\n",
       " (4787, 0.0),\n",
       " (4786, 0.023382618677247786),\n",
       " (4785, 0.0),\n",
       " (4784, 0.0),\n",
       " (4783, 0.0),\n",
       " (4782, 0.0),\n",
       " (4781, 0.1382602259640567),\n",
       " (4780, 0.0),\n",
       " (4779, 0.0),\n",
       " (4778, 0.0),\n",
       " (4777, 0.0),\n",
       " (4776, 0.0),\n",
       " (4775, 0.0),\n",
       " (4774, 0.0),\n",
       " (4773, 0.0),\n",
       " (4772, 0.11085479909473867),\n",
       " (4771, 0.0),\n",
       " (4770, 0.0),\n",
       " (4769, 0.0),\n",
       " (4768, 0.0),\n",
       " (4767, 0.0),\n",
       " (4766, 0.0),\n",
       " (4765, 0.0),\n",
       " (4764, 0.0),\n",
       " (4763, 0.0),\n",
       " (4762, 0.0),\n",
       " (4761, 0.0),\n",
       " (4760, 0.0),\n",
       " (4759, 0.0),\n",
       " (4758, 0.0),\n",
       " (4757, 0.05184758473652127),\n",
       " (4756, 0.0),\n",
       " (4755, 0.0),\n",
       " (4754, 0.0),\n",
       " (4753, 0.0),\n",
       " (4752, 0.0),\n",
       " (4751, 0.0),\n",
       " (4750, 0.0),\n",
       " (4749, 0.0),\n",
       " (4748, 0.0),\n",
       " (4747, 0.0),\n",
       " (4746, 0.0),\n",
       " (4745, 0.0),\n",
       " (4744, 0.0),\n",
       " (4743, 0.0),\n",
       " (4742, 0.0),\n",
       " (4741, 0.0),\n",
       " (4740, 0.0),\n",
       " (4739, 0.0),\n",
       " (4738, 0.0),\n",
       " (4737, 0.0),\n",
       " (4736, 0.0),\n",
       " (4735, 0.0),\n",
       " (4734, 0.0),\n",
       " (4733, 0.0),\n",
       " (4732, 0.0),\n",
       " (4731, 0.0),\n",
       " (4730, 0.13116516715679058),\n",
       " (4729, 0.0),\n",
       " (4728, 0.0),\n",
       " (4727, 0.0),\n",
       " (4726, 0.0),\n",
       " (4725, 0.0),\n",
       " (4724, 0.0),\n",
       " (4723, 0.0),\n",
       " (4722, 0.0),\n",
       " (4721, 0.0),\n",
       " (4720, 0.0),\n",
       " (4719, 0.0),\n",
       " (4718, 0.0),\n",
       " (4717, 0.0),\n",
       " (4716, 0.0),\n",
       " (4715, 0.0),\n",
       " (4714, 0.0),\n",
       " (4713, 0.0),\n",
       " (4712, 0.0),\n",
       " (4711, 0.08648775001288211),\n",
       " (4710, 0.0),\n",
       " (4709, 0.0),\n",
       " (4708, 0.0),\n",
       " (4707, 0.0),\n",
       " (4706, 0.013655138251635028),\n",
       " (4705, 0.0),\n",
       " (4704, 0.16481712868606582),\n",
       " (4703, 0.0),\n",
       " (4702, 0.0),\n",
       " (4701, 0.0),\n",
       " (4700, 0.0),\n",
       " (4699, 0.0),\n",
       " (4698, 0.0),\n",
       " (4697, 0.0),\n",
       " (4696, 0.0),\n",
       " (4695, 0.0),\n",
       " (4694, 0.0),\n",
       " (4693, 0.0),\n",
       " (4692, 0.06788442333021306),\n",
       " (4691, 0.0),\n",
       " (4690, 0.0),\n",
       " (4689, 0.0),\n",
       " (4688, 0.0),\n",
       " (4687, 0.0),\n",
       " (4686, 0.0),\n",
       " (4685, 0.0),\n",
       " (4684, 0.0),\n",
       " (4683, 0.0),\n",
       " (4682, 0.019255709562623336),\n",
       " (4681, 0.0),\n",
       " (4680, 0.0),\n",
       " (4679, 0.0),\n",
       " (4678, 0.0),\n",
       " (4677, 0.0),\n",
       " (4676, 0.0),\n",
       " (4675, 0.0),\n",
       " (4674, 0.0),\n",
       " (4673, 0.0),\n",
       " (4672, 0.0),\n",
       " (4671, 0.0),\n",
       " (4670, 0.0),\n",
       " (4669, 0.07490058862731383),\n",
       " (4668, 0.0),\n",
       " (4667, 0.0),\n",
       " (4666, 0.0),\n",
       " (4665, 0.0),\n",
       " (4664, 0.0),\n",
       " (4663, 0.0),\n",
       " (4662, 0.0),\n",
       " (4661, 0.0),\n",
       " (4660, 0.0),\n",
       " (4659, 0.0),\n",
       " (4658, 0.0),\n",
       " (4657, 0.16129032258064518),\n",
       " (4656, 0.023382618677247786),\n",
       " (4655, 0.0),\n",
       " (4654, 0.0),\n",
       " (4653, 0.0),\n",
       " (4652, 0.03829197905337418),\n",
       " (4651, 0.0),\n",
       " (4650, 0.0),\n",
       " (4649, 0.0),\n",
       " (4648, 0.0),\n",
       " (4647, 0.0),\n",
       " (4646, 0.0),\n",
       " (4645, 0.0),\n",
       " (4644, 0.0),\n",
       " (4643, 0.0),\n",
       " (4642, 0.0),\n",
       " (4641, 0.0),\n",
       " (4640, 0.03225806451612904),\n",
       " (4639, 0.0),\n",
       " (4638, 0.0),\n",
       " (4637, 0.0),\n",
       " (4636, 0.1270001270001905),\n",
       " (4635, 0.0),\n",
       " (4634, 0.0),\n",
       " (4633, 0.027389551783238836),\n",
       " (4632, 0.04016096644512494),\n",
       " (4631, 0.0),\n",
       " (4630, 0.0),\n",
       " (4629, 0.0),\n",
       " (4628, 0.0),\n",
       " (4627, 0.0),\n",
       " (4626, 0.13116516715679058),\n",
       " (4625, 0.0),\n",
       " (4624, 0.12143534814378325),\n",
       " (4623, 0.16064386578049977),\n",
       " (4622, 0.04356068418690321),\n",
       " (4621, 0.0),\n",
       " (4620, 0.030358837035945812),\n",
       " (4619, 0.0),\n",
       " (4618, 0.0),\n",
       " (4617, 0.0),\n",
       " (4616, 0.0),\n",
       " (4615, 0.0),\n",
       " (4614, 0.0),\n",
       " (4613, 0.0),\n",
       " (4612, 0.0),\n",
       " (4611, 0.0),\n",
       " (4610, 0.0),\n",
       " (4609, 0.0),\n",
       " (4608, 0.0),\n",
       " (4607, 0.0),\n",
       " (4606, 0.0),\n",
       " (4605, 0.0),\n",
       " (4604, 0.0),\n",
       " (4603, 0.0),\n",
       " (4602, 0.13576884666042613),\n",
       " (4601, 0.0),\n",
       " (4600, 0.0),\n",
       " (4599, 0.0),\n",
       " (4598, 0.0),\n",
       " (4597, 0.0),\n",
       " (4596, 0.0),\n",
       " (4595, 0.0),\n",
       " (4594, 0.04356068418690321),\n",
       " (4593, 0.0),\n",
       " (4592, 0.0),\n",
       " (4591, 0.0),\n",
       " (4590, 0.0),\n",
       " (4589, 0.0),\n",
       " (4588, 0.0),\n",
       " (4587, 0.0),\n",
       " (4586, 0.0),\n",
       " (4585, 0.0),\n",
       " (4584, 0.0),\n",
       " (4583, 0.0),\n",
       " (4582, 0.0),\n",
       " (4581, 0.0),\n",
       " (4580, 0.0),\n",
       " (4579, 0.0),\n",
       " (4578, 0.0),\n",
       " (4577, 0.0),\n",
       " (4576, 0.0),\n",
       " (4575, 0.0),\n",
       " (4574, 0.0),\n",
       " (4573, 0.0),\n",
       " (4572, 0.0),\n",
       " (4571, 0.0),\n",
       " (4570, 0.0),\n",
       " (4569, 0.06451612903225808),\n",
       " (4568, 0.1567723603339241),\n",
       " (4567, 0.0),\n",
       " (4566, 0.0),\n",
       " (4565, 0.03349656154508428),\n",
       " (4564, 0.08980265101338746),\n",
       " (4563, 0.0),\n",
       " (4562, 0.0),\n",
       " (4561, 0.0),\n",
       " (4560, 0.0),\n",
       " (4559, 0.0),\n",
       " (4558, 0.0),\n",
       " (4557, 0.17424273674761284),\n",
       " (4556, 0.0),\n",
       " (4555, 0.0),\n",
       " (4554, 0.0),\n",
       " (4553, 0.029934217004462485),\n",
       " (4552, 0.10592542826647522),\n",
       " (4551, 0.0),\n",
       " (4550, 0.0),\n",
       " (4549, 0.12903225806451615),\n",
       " (4548, 0.0),\n",
       " (4547, 0.0),\n",
       " (4546, 0.0),\n",
       " (4545, 0.0267739776300833),\n",
       " (4544, 0.0),\n",
       " (4543, 0.0),\n",
       " (4542, 0.0),\n",
       " (4541, 0.0),\n",
       " (4540, 0.0),\n",
       " (4539, 0.0),\n",
       " (4538, 0.13116516715679058),\n",
       " (4537, 0.0),\n",
       " (4536, 0.0),\n",
       " (4535, 0.0),\n",
       " (4534, 0.0),\n",
       " (4533, 0.0),\n",
       " (4532, 0.0),\n",
       " (4531, 0.0),\n",
       " (4530, 0.0),\n",
       " (4529, 0.026198125853112306),\n",
       " (4528, 0.0),\n",
       " (4527, 0.0),\n",
       " (4526, 0.0),\n",
       " (4525, 0.0),\n",
       " (4524, 0.0),\n",
       " (4523, 0.0),\n",
       " (4522, 0.0),\n",
       " (4521, 0.0),\n",
       " (4520, 0.0),\n",
       " (4519, 0.07332355751067667),\n",
       " (4518, 0.0),\n",
       " (4517, 0.0),\n",
       " (4516, 0.0),\n",
       " (4515, 0.0),\n",
       " (4514, 0.0),\n",
       " (4513, 0.0),\n",
       " (4512, 0.0),\n",
       " (4511, 0.0),\n",
       " (4510, 0.0),\n",
       " (4509, 0.0),\n",
       " (4508, 0.0),\n",
       " (4507, 0.0),\n",
       " (4506, 0.0),\n",
       " (4505, 0.0),\n",
       " (4504, 0.0),\n",
       " (4503, 0.0),\n",
       " (4502, 0.1854955583040673),\n",
       " (4501, 0.0),\n",
       " (4500, 0.0),\n",
       " (4499, 0.0),\n",
       " (4498, 0.0),\n",
       " (4497, 0.0),\n",
       " (4496, 0.041204282171516456),\n",
       " (4495, 0.0),\n",
       " (4494, 0.0),\n",
       " (4493, 0.0),\n",
       " (4492, 0.0),\n",
       " (4491, 0.0),\n",
       " (4490, 0.1531679162134967),\n",
       " (4489, 0.0),\n",
       " (4488, 0.0),\n",
       " (4487, 0.0),\n",
       " (4486, 0.0),\n",
       " (4485, 0.0),\n",
       " (4484, 0.02875986542715254),\n",
       " (4483, 0.0),\n",
       " (4482, 0.0),\n",
       " (4481, 0.0),\n",
       " (4480, 0.0),\n",
       " (4479, 0.0),\n",
       " (4478, 0.0),\n",
       " (4477, 0.0),\n",
       " (4476, 0.0),\n",
       " (4475, 0.0),\n",
       " (4474, 0.0),\n",
       " (4473, 0.0),\n",
       " (4472, 0.07838618016696206),\n",
       " (4471, 0.0),\n",
       " (4470, 0.0),\n",
       " (4469, 0.0),\n",
       " (4468, 0.16064386578049977),\n",
       " (4467, 0.0),\n",
       " (4466, 0.0),\n",
       " (4465, 0.0),\n",
       " (4464, 0.0),\n",
       " (4463, 0.16933350266692068),\n",
       " (4462, 0.0),\n",
       " (4461, 0.0),\n",
       " (4460, 0.0),\n",
       " (4459, 0.0),\n",
       " (4458, 0.0),\n",
       " (4457, 0.0),\n",
       " (4456, 0.0),\n",
       " (4455, 0.0),\n",
       " (4454, 0.04356068418690321),\n",
       " (4453, 0.11359236684941297),\n",
       " (4452, 0.0),\n",
       " (4451, 0.0),\n",
       " (4450, 0.0),\n",
       " (4449, 0.0),\n",
       " (4448, 0.0),\n",
       " (4447, 0.0),\n",
       " (4446, 0.0),\n",
       " (4445, 0.0),\n",
       " (4444, 0.0),\n",
       " (4443, 0.0),\n",
       " (4442, 0.0),\n",
       " (4441, 0.0),\n",
       " (4440, 0.0),\n",
       " (4439, 0.0),\n",
       " (4438, 0.0),\n",
       " (4437, 0.0),\n",
       " (4436, 0.0),\n",
       " (4435, 0.0),\n",
       " (4434, 0.0),\n",
       " (4433, 0.0),\n",
       " (4432, 0.0),\n",
       " (4431, 0.0),\n",
       " (4430, 0.0),\n",
       " (4429, 0.0),\n",
       " (4428, 0.0),\n",
       " (4427, 0.0),\n",
       " (4426, 0.0),\n",
       " (4425, 0.0),\n",
       " (4424, 0.0),\n",
       " (4423, 0.0),\n",
       " (4422, 0.0),\n",
       " (4421, 0.0),\n",
       " (4420, 0.0),\n",
       " (4419, 0.0),\n",
       " (4418, 0.0),\n",
       " (4417, 0.0),\n",
       " (4416, 0.0),\n",
       " (4415, 0.0),\n",
       " (4414, 0.0),\n",
       " (4413, 0.0),\n",
       " (4412, 0.19925419255468718),\n",
       " (4411, 0.0),\n",
       " (4410, 0.0),\n",
       " (4409, 0.0),\n",
       " (4408, 0.0),\n",
       " (4407, 0.0),\n",
       " (4406, 0.0),\n",
       " (4405, 0.3592106040535498),\n",
       " (4404, 0.0),\n",
       " (4403, 0.0),\n",
       " (4402, 0.0),\n",
       " (4401, 0.0),\n",
       " (4400, 0.0),\n",
       " (4399, 0.14802411344743452),\n",
       " (4398, 0.0),\n",
       " (4397, 0.0),\n",
       " (4396, 0.0),\n",
       " (4395, 0.0),\n",
       " (4394, 0.0),\n",
       " (4393, 0.0),\n",
       " (4392, 0.0),\n",
       " (4391, 0.0),\n",
       " (4390, 0.0),\n",
       " (4389, 0.0),\n",
       " (4388, 0.0),\n",
       " (4387, 0.0),\n",
       " (4386, 0.0),\n",
       " (4385, 0.0),\n",
       " (4384, 0.0),\n",
       " (4383, 0.0),\n",
       " (4382, 0.0),\n",
       " (4381, 0.0),\n",
       " (4380, 0.030358837035945812),\n",
       " (4379, 0.0),\n",
       " (4378, 0.0),\n",
       " (4377, 0.0),\n",
       " (4376, 0.0),\n",
       " (4375, 0.0),\n",
       " (4374, 0.0),\n",
       " (4373, 0.0),\n",
       " (4372, 0.0),\n",
       " (4371, 0.0),\n",
       " (4370, 0.0),\n",
       " (4369, 0.0),\n",
       " (4368, 0.0),\n",
       " (4367, 0.0),\n",
       " (4366, 0.0),\n",
       " (4365, 0.0),\n",
       " (4364, 0.0),\n",
       " (4363, 0.0),\n",
       " (4362, 0.0),\n",
       " (4361, 0.0),\n",
       " (4360, 0.0),\n",
       " (4359, 0.02707651805369412),\n",
       " (4358, 0.0),\n",
       " (4357, 0.1567723603339241),\n",
       " (4356, 0.0),\n",
       " (4355, 0.22470176588194152),\n",
       " (4354, 0.0),\n",
       " (4353, 0.0),\n",
       " (4352, 0.0),\n",
       " (4351, 0.046373889576016826),\n",
       " (4350, 0.0),\n",
       " (4349, 0.0),\n",
       " (4348, 0.0),\n",
       " (4347, 0.0),\n",
       " (4346, 0.0),\n",
       " (4345, 0.0),\n",
       " (4344, 0.0),\n",
       " (4343, 0.0),\n",
       " (4342, 0.0),\n",
       " (4341, 0.06160411036336974),\n",
       " (4340, 0.0),\n",
       " (4339, 0.0),\n",
       " (4338, 0.0),\n",
       " (4337, 0.0),\n",
       " (4336, 0.0),\n",
       " (4335, 0.0),\n",
       " (4334, 0.0),\n",
       " (4333, 0.0),\n",
       " (4332, 0.048001536073731935),\n",
       " (4331, 0.0),\n",
       " (4330, 0.11225331376673432),\n",
       " (4329, 0.0),\n",
       " (4328, 0.0),\n",
       " (4327, 0.03592106040535498),\n",
       " (4326, 0.0),\n",
       " (4325, 0.0),\n",
       " (4324, 0.0),\n",
       " (4323, 0.0),\n",
       " (4322, 0.0),\n",
       " (4321, 0.0),\n",
       " (4320, 0.14368424162141993),\n",
       " (4319, 0.07294462186022053),\n",
       " (4318, 0.0),\n",
       " (4317, 0.02913582733740325),\n",
       " (4316, 0.16481712868606582),\n",
       " (4315, 0.0),\n",
       " (4314, 0.0),\n",
       " (4313, 0.0),\n",
       " (4312, 0.0),\n",
       " (4311, 0.0),\n",
       " (4310, 0.0),\n",
       " (4309, 0.0),\n",
       " (4308, 0.0),\n",
       " (4307, 0.0),\n",
       " (4306, 0.0),\n",
       " (4305, 0.04599220498182739),\n",
       " (4304, 0.0),\n",
       " (4303, 0.0),\n",
       " (4302, 0.0),\n",
       " (4301, 0.0),\n",
       " (4300, 0.0),\n",
       " (4299, 0.0),\n",
       " (4298, 0.0),\n",
       " (4297, 0.0),\n",
       " (4296, 0.0),\n",
       " (4295, 0.0),\n",
       " (4294, 0.0),\n",
       " (4293, 0.0),\n",
       " (4292, 0.031750031750047626),\n",
       " (4291, 0.0),\n",
       " (4290, 0.0),\n",
       " (4289, 0.0),\n",
       " (4288, 0.0),\n",
       " (4287, 0.0),\n",
       " (4286, 0.0),\n",
       " (4285, 0.0),\n",
       " (4284, 0.0),\n",
       " (4283, 0.0),\n",
       " (4282, 0.0),\n",
       " (4281, 0.1854955583040673),\n",
       " (4280, 0.0),\n",
       " (4279, 0.0),\n",
       " (4278, 0.0),\n",
       " (4277, 0.0406725917391042),\n",
       " (4276, 0.0),\n",
       " (4275, 0.0),\n",
       " (4274, 0.0),\n",
       " (4273, 0.0),\n",
       " (4272, 0.0),\n",
       " (4271, 0.0),\n",
       " (4270, 0.0),\n",
       " (4269, 0.0),\n",
       " (4268, 0.0),\n",
       " (4267, 0.0),\n",
       " (4266, 0.028398091712353243),\n",
       " (4265, 0.0),\n",
       " (4264, 0.0),\n",
       " (4263, 0.03080205518168487),\n",
       " (4262, 0.0),\n",
       " (4261, 0.11219854269064289),\n",
       " (4260, 0.0),\n",
       " (4259, 0.0),\n",
       " (4258, 0.0),\n",
       " (4257, 0.0),\n",
       " (4256, 0.0),\n",
       " (4255, 0.0),\n",
       " (4254, 0.0),\n",
       " (4253, 0.0),\n",
       " (4252, 0.0),\n",
       " (4251, 0.0),\n",
       " (4250, 0.0),\n",
       " (4249, 0.0),\n",
       " (4248, 0.0),\n",
       " (4247, 0.027713699773684666),\n",
       " (4246, 0.0),\n",
       " (4245, 0.0),\n",
       " (4244, 0.0),\n",
       " (4243, 0.0),\n",
       " (4242, 0.0),\n",
       " (4241, 0.0),\n",
       " (4240, 0.0),\n",
       " (4239, 0.0),\n",
       " (4238, 0.0),\n",
       " (4237, 0.0),\n",
       " (4236, 0.0),\n",
       " (4235, 0.0),\n",
       " (4234, 0.0),\n",
       " (4233, 0.10592542826647522),\n",
       " (4232, 0.0),\n",
       " (4231, 0.0),\n",
       " (4230, 0.0),\n",
       " (4229, 0.0),\n",
       " (4228, 0.0),\n",
       " (4227, 0.0),\n",
       " (4226, 0.0),\n",
       " (4225, 0.0),\n",
       " (4224, 0.0),\n",
       " (4223, 0.07220404814318432),\n",
       " (4222, 0.0),\n",
       " (4221, 0.0),\n",
       " (4220, 0.0),\n",
       " (4219, 0.020207175225248872),\n",
       " (4218, 0.1531679162134967),\n",
       " (4217, 0.0),\n",
       " (4216, 0.0),\n",
       " (4215, 0.02707651805369412),\n",
       " (4214, 0.04356068418690321),\n",
       " (4213, 0.0),\n",
       " (4212, 0.0),\n",
       " (4211, 0.0),\n",
       " (4210, 0.0),\n",
       " (4209, 0.0),\n",
       " (4208, 0.0),\n",
       " (4207, 0.0),\n",
       " (4206, 0.0),\n",
       " (4205, 0.0),\n",
       " (4204, 0.0),\n",
       " (4203, 0.029934217004462485),\n",
       " (4202, 0.0),\n",
       " (4201, 0.0),\n",
       " (4200, 0.0),\n",
       " (4199, 0.0),\n",
       " (4198, 0.0),\n",
       " (4197, 0.0),\n",
       " (4196, 0.17424273674761284),\n",
       " (4195, 0.0),\n",
       " (4194, 0.07490058862731383),\n",
       " (4193, 0.0),\n",
       " (4192, 0.12903225806451615),\n",
       " (4191, 0.0),\n",
       " (4190, 0.21780342093451605),\n",
       " (4189, 0.0),\n",
       " (4188, 0.0),\n",
       " (4187, 0.0),\n",
       " (4186, 0.0),\n",
       " (4185, 0.0),\n",
       " (4184, 0.0),\n",
       " (4183, 0.0),\n",
       " (4182, 0.0),\n",
       " (4181, 0.0),\n",
       " (4180, 0.0),\n",
       " (4179, 0.13240678533309402),\n",
       " (4178, 0.0),\n",
       " (4177, 0.0),\n",
       " (4176, 0.0),\n",
       " (4175, 0.0),\n",
       " (4174, 0.0),\n",
       " (4173, 0.0),\n",
       " (4172, 0.0),\n",
       " (4171, 0.05986843400892497),\n",
       " (4170, 0.0),\n",
       " (4169, 0.0),\n",
       " (4168, 0.0),\n",
       " (4167, 0.046373889576016826),\n",
       " (4166, 0.0),\n",
       " (4165, 0.0),\n",
       " (4164, 0.0),\n",
       " (4163, 0.0),\n",
       " (4162, 0.0),\n",
       " (4161, 0.0),\n",
       " (4160, 0.0),\n",
       " (4159, 0.0),\n",
       " (4158, 0.10479250341244922),\n",
       " (4157, 0.0),\n",
       " (4156, 0.0),\n",
       " (4155, 0.0),\n",
       " (4154, 0.0),\n",
       " (4153, 0.0),\n",
       " (4152, 0.0),\n",
       " (4151, 0.0),\n",
       " (4150, 0.0),\n",
       " (4149, 0.06374957355164235),\n",
       " (4148, 0.0),\n",
       " (4147, 0.0),\n",
       " (4146, 0.13116516715679058),\n",
       " (4145, 0.0),\n",
       " (4144, 0.0),\n",
       " (4143, 0.0),\n",
       " (4142, 0.0),\n",
       " (4141, 0.0),\n",
       " (4140, 0.0),\n",
       " (4139, 0.0),\n",
       " (4138, 0.0),\n",
       " (4137, 0.0),\n",
       " (4136, 0.0),\n",
       " (4135, 0.0),\n",
       " (4134, 0.0),\n",
       " (4133, 0.0),\n",
       " (4132, 0.0),\n",
       " (4131, 0.0),\n",
       " (4130, 0.0),\n",
       " (4129, 0.0),\n",
       " (4128, 0.0),\n",
       " (4127, 0.0),\n",
       " (4126, 0.0),\n",
       " (4125, 0.0),\n",
       " (4124, 0.0),\n",
       " (4123, 0.03456505649101418),\n",
       " (4122, 0.0),\n",
       " (4121, 0.11359236684941297),\n",
       " (4120, 0.0),\n",
       " (4119, 0.0),\n",
       " (4118, 0.1016001016001524),\n",
       " (4117, 0.0),\n",
       " (4116, 0.0),\n",
       " (4115, 0.0),\n",
       " (4114, 0.0),\n",
       " (4113, 0.0),\n",
       " (4112, 0.0),\n",
       " (4111, 0.0),\n",
       " (4110, 0.03522349768381735),\n",
       " (4109, 0.0),\n",
       " (4108, 0.0),\n",
       " (4107, 0.0),\n",
       " (4106, 0.0),\n",
       " (4105, 0.0),\n",
       " (4104, 0.0),\n",
       " (4103, 0.0),\n",
       " (4102, 0.0),\n",
       " (4101, 0.0),\n",
       " (4100, 0.0),\n",
       " (4099, 0.0),\n",
       " (4098, 0.0),\n",
       " (4097, 0.0),\n",
       " (4096, 0.0),\n",
       " (4095, 0.0),\n",
       " (4094, 0.0),\n",
       " (4093, 0.0),\n",
       " (4092, 0.0),\n",
       " (4091, 0.0),\n",
       " (4090, 0.0),\n",
       " (4089, 0.0),\n",
       " (4088, 0.0),\n",
       " (4087, 0.0),\n",
       " (4086, 0.0),\n",
       " (4085, 0.0),\n",
       " (4084, 0.0),\n",
       " (4083, 0.0),\n",
       " (4082, 0.12143534814378325),\n",
       " (4081, 0.0),\n",
       " (4080, 0.0),\n",
       " (4079, 0.0),\n",
       " (4078, 0.030358837035945812),\n",
       " (4077, 0.0),\n",
       " (4076, 0.0),\n",
       " (4075, 0.10369516947304254),\n",
       " (4074, 0.0),\n",
       " (4073, 0.0),\n",
       " (4072, 0.0),\n",
       " (4071, 0.0),\n",
       " (4070, 0.0),\n",
       " (4069, 0.0),\n",
       " (4068, 0.0),\n",
       " (4067, 0.0),\n",
       " (4066, 0.0),\n",
       " (4065, 0.10955820713295535),\n",
       " (4064, 0.0),\n",
       " (4063, 0.0),\n",
       " (4062, 0.0),\n",
       " (4061, 0.026198125853112306),\n",
       " (4060, 0.0),\n",
       " (4059, 0.08466675133346034),\n",
       " (4058, 0.0),\n",
       " (4057, 0.0),\n",
       " (4056, 0.0),\n",
       " (4055, 0.0),\n",
       " (4054, 0.0),\n",
       " (4053, 0.0),\n",
       " (4052, 0.0),\n",
       " (4051, 0.0),\n",
       " (4050, 0.0),\n",
       " (4049, 0.023186944788008413),\n",
       " (4048, 0.0),\n",
       " (4047, 0.0),\n",
       " (4046, 0.18102512888056815),\n",
       " (4045, 0.0),\n",
       " (4044, 0.0),\n",
       " (4043, 0.031750031750047626),\n",
       " (4042, 0.041204282171516456),\n",
       " (4041, 0.0),\n",
       " (4040, 0.0),\n",
       " (4039, 0.0),\n",
       " (4038, 0.0),\n",
       " (4037, 0.0),\n",
       " (4036, 0.0),\n",
       " (4035, 0.0),\n",
       " (4034, 0.0),\n",
       " (4033, 0.0),\n",
       " (4032, 0.0),\n",
       " (4031, 0.0),\n",
       " (4030, 0.0),\n",
       " (4029, 0.0),\n",
       " (4028, 0.0),\n",
       " (4027, 0.0),\n",
       " (4026, 0.0),\n",
       " (4025, 0.0),\n",
       " (4024, 0.0),\n",
       " (4023, 0.0),\n",
       " (4022, 0.0),\n",
       " (4021, 0.0),\n",
       " (4020, 0.0),\n",
       " (4019, 0.0),\n",
       " (4018, 0.0),\n",
       " (4017, 0.1408939907352694),\n",
       " (4016, 0.16933350266692068),\n",
       " (4015, 0.0),\n",
       " (4014, 0.031750031750047626),\n",
       " (4013, 0.0),\n",
       " (4012, 0.0),\n",
       " (4011, 0.027389551783238836),\n",
       " (4010, 0.0),\n",
       " (4009, 0.0),\n",
       " (4008, 0.27824333745610097),\n",
       " (4007, 0.0),\n",
       " (4006, 0.0),\n",
       " (4005, 0.0),\n",
       " (4004, 0.0),\n",
       " (4003, 0.0),\n",
       " (4002, 0.0),\n",
       " (4001, 0.0),\n",
       " (4000, 0.0),\n",
       " (3999, 0.0),\n",
       " (3998, 0.0),\n",
       " (3997, 0.19596545041740515),\n",
       " (3996, 0.0),\n",
       " (3995, 0.0),\n",
       " (3994, 0.0),\n",
       " (3993, 0.0),\n",
       " (3992, 0.0),\n",
       " (3991, 0.0),\n",
       " (3990, 0.0),\n",
       " (3989, 0.0),\n",
       " (3988, 0.0),\n",
       " (3987, 0.0),\n",
       " (3986, 0.0),\n",
       " (3985, 0.0),\n",
       " (3984, 0.0),\n",
       " (3983, 0.0),\n",
       " (3982, 0.0),\n",
       " (3981, 0.0),\n",
       " (3980, 0.0),\n",
       " (3979, 0.0),\n",
       " (3978, 0.0),\n",
       " (3977, 0.0),\n",
       " (3976, 0.17424273674761284),\n",
       " (3975, 0.03666177875533833),\n",
       " (3974, 0.041204282171516456),\n",
       " (3973, 0.0),\n",
       " (3972, 0.0),\n",
       " (3971, 0.0),\n",
       " (3970, 0.16481712868606582),\n",
       " (3969, 0.0),\n",
       " (3968, 0.0),\n",
       " (3967, 0.0),\n",
       " (3966, 0.14980117725462766),\n",
       " (3965, 0.0),\n",
       " (3964, 0.0),\n",
       " (3963, 0.0),\n",
       " (3962, 0.0),\n",
       " (3961, 0.0),\n",
       " (3960, 0.0),\n",
       " (3959, 0.0),\n",
       " (3958, 0.0),\n",
       " (3957, 0.0),\n",
       " (3956, 0.030358837035945812),\n",
       " (3955, 0.0),\n",
       " (3954, 0.0),\n",
       " (3953, 0.0),\n",
       " (3952, 0.03522349768381735),\n",
       " (3951, 0.0),\n",
       " (3950, 0.0),\n",
       " (3949, 0.018624202231923414),\n",
       " (3948, 0.024906774069335898),\n",
       " (3947, 0.21780342093451605),\n",
       " (3946, 0.08843153765707637),\n",
       " (3945, 0.116543309349613),\n",
       " (3944, 0.0),\n",
       " (3943, 0.0),\n",
       " (3942, 0.0),\n",
       " (3941, 0.0),\n",
       " (3940, 0.0),\n",
       " (3939, 0.0),\n",
       " (3938, 0.0),\n",
       " (3937, 0.0),\n",
       " (3936, 0.0),\n",
       " (3935, 0.03522349768381735),\n",
       " (3934, 0.0),\n",
       " (3933, 0.0),\n",
       " (3932, 0.0),\n",
       " (3931, 0.0),\n",
       " (3930, 0.0),\n",
       " (3929, 0.0),\n",
       " (3928, 0.0),\n",
       " (3927, 0.0),\n",
       " (3926, 0.0),\n",
       " (3925, 0.0),\n",
       " (3924, 0.16395645894598823),\n",
       " (3923, 0.0),\n",
       " (3922, 0.0),\n",
       " (3921, 0.0),\n",
       " (3920, 0.0),\n",
       " (3919, 0.0),\n",
       " (3918, 0.0),\n",
       " (3917, 0.0),\n",
       " (3916, 0.16064386578049977),\n",
       " (3915, 0.0),\n",
       " (3914, 0.0),\n",
       " (3913, 0.0),\n",
       " (3912, 0.04490132550669373),\n",
       " (3911, 0.0),\n",
       " (3910, 0.0),\n",
       " (3909, 0.0),\n",
       " (3908, 0.0),\n",
       " (3907, 0.0),\n",
       " (3906, 0.0),\n",
       " (3905, 0.0),\n",
       " (3904, 0.0),\n",
       " (3903, 0.0),\n",
       " (3902, 0.0),\n",
       " (3901, 0.0),\n",
       " (3900, 0.0),\n",
       " (3899, 0.03666177875533833),\n",
       " (3898, 0.0),\n",
       " (3897, 0.0),\n",
       " (3896, 0.0),\n",
       " (3895, 0.0),\n",
       " (3894, 0.0),\n",
       " (3893, 0.0),\n",
       " (3892, 0.0),\n",
       " (3891, 0.0),\n",
       " (3890, 0.021466939537054593),\n",
       " (3889, 0.0),\n",
       " (3888, 0.0),\n",
       " (3887, 0.0),\n",
       " (3886, 0.19925419255468718),\n",
       " (3885, 0.0),\n",
       " (3884, 0.0),\n",
       " (3883, 0.0),\n",
       " (3882, 0.0),\n",
       " (3881, 0.0),\n",
       " (3880, 0.0),\n",
       " (3879, 0.0),\n",
       " (3878, 0.0),\n",
       " (3877, 0.1250610798961445),\n",
       " (3876, 0.0),\n",
       " (3875, 0.0),\n",
       " (3874, 0.0),\n",
       " (3873, 0.03592106040535498),\n",
       " (3872, 0.0),\n",
       " (3871, 0.0),\n",
       " (3870, 0.0),\n",
       " (3869, 0.0),\n",
       " (3868, 0.0),\n",
       " (3867, 0.0),\n",
       " (3866, 0.0),\n",
       " (3865, 0.0),\n",
       " (3864, 0.0),\n",
       " (3863, 0.0),\n",
       " (3862, 0.0),\n",
       " (3861, 0.1382602259640567),\n",
       " (3860, 0.09600307214746387),\n",
       " (3859, 0.0),\n",
       " (3858, 0.13116516715679058),\n",
       " (3857, 0.0),\n",
       " (3856, 0.0),\n",
       " (3855, 0.1382602259640567),\n",
       " (3854, 0.0),\n",
       " (3853, 0.0),\n",
       " (3852, 0.16481712868606582),\n",
       " (3851, 0.0),\n",
       " (3850, 0.0),\n",
       " (3849, 0.0),\n",
       " (3848, 0.0),\n",
       " (3847, 0.0),\n",
       " (3846, 0.11503946170861017),\n",
       " (3845, 0.0),\n",
       " (3844, 0.0),\n",
       " (3843, 0.0),\n",
       " (3842, 0.0),\n",
       " (3841, 0.0),\n",
       " (3840, 0.16064386578049977),\n",
       " (3839, 0.0),\n",
       " (3838, 0.048001536073731935),\n",
       " (3837, 0.19596545041740515),\n",
       " (3836, 0.0),\n",
       " (3835, 0.0),\n",
       " (3834, 0.116543309349613),\n",
       " (3833, 0.0),\n",
       " (3832, 0.0),\n",
       " (3831, 0.0),\n",
       " (3830, 0.0),\n",
       " (3829, 0.0),\n",
       " (3828, 0.0),\n",
       " (3827, 0.0),\n",
       " (3826, 0.0),\n",
       " (3825, 0.0),\n",
       " (3824, 0.0),\n",
       " (3823, 0.0),\n",
       " (3822, 0.0),\n",
       " (3821, 0.032791291789197645),\n",
       " (3820, 0.11503946170861017),\n",
       " (3819, 0.0),\n",
       " (3818, 0.0),\n",
       " (3817, 0.0),\n",
       " (3816, 0.0),\n",
       " (3815, 0.0),\n",
       " (3814, 0.0),\n",
       " (3813, 0.0),\n",
       " (3812, 0.0),\n",
       " (3811, 0.0),\n",
       " (3810, 0.0),\n",
       " (3809, 0.0),\n",
       " (3808, 0.11620402679752966),\n",
       " (3807, 0.0),\n",
       " (3806, 0.04233337566673017),\n",
       " ...]"
      ]
     },
     "execution_count": 58,
     "metadata": {},
     "output_type": "execute_result"
    }
   ],
   "source": [
    "l"
   ]
  },
  {
   "cell_type": "code",
   "execution_count": 59,
   "metadata": {
    "metadata": {}
   },
   "outputs": [],
   "source": [
    "l1 = sorted(list(enumerate(similarity[0])),reverse=True,key=lambda x:x[1])[0:5]"
   ]
  },
  {
   "cell_type": "code",
   "execution_count": 60,
   "metadata": {
    "metadata": {}
   },
   "outputs": [
    {
     "data": {
      "text/plain": [
       "[(0, 1.0000000000000002),\n",
       " (4405, 0.3592106040535498),\n",
       " (3525, 0.29329423004270666),\n",
       " (4008, 0.27824333745610097),\n",
       " (3620, 0.23346307108777453)]"
      ]
     },
     "execution_count": 60,
     "metadata": {},
     "output_type": "execute_result"
    }
   ],
   "source": [
    "l1"
   ]
  },
  {
   "cell_type": "code",
   "execution_count": null,
   "metadata": {},
   "outputs": [],
   "source": []
  },
  {
   "cell_type": "code",
   "execution_count": null,
   "metadata": {},
   "outputs": [],
   "source": []
  },
  {
   "cell_type": "code",
   "execution_count": null,
   "metadata": {
    "metadata": {}
   },
   "outputs": [
    {
     "data": {
      "text/plain": [
       "'rititkbhawsar'"
      ]
     },
     "execution_count": 19,
     "metadata": {},
     "output_type": "execute_result"
    }
   ],
   "source": [
    "string = 'rititk bhawsar'# removing the space \n",
    "string.replace(' ' ,'')"
   ]
  },
  {
   "cell_type": "code",
   "execution_count": null,
   "metadata": {},
   "outputs": [],
   "source": []
  },
  {
   "cell_type": "code",
   "execution_count": null,
   "metadata": {},
   "outputs": [],
   "source": []
  }
 ],
 "metadata": {
  "kernelspec": {
   "display_name": "Python 3",
   "language": "python",
   "name": "python3"
  },
  "language_info": {
   "codemirror_mode": {
    "name": "ipython",
    "version": 3
   },
   "file_extension": ".py",
   "mimetype": "text/x-python",
   "name": "python",
   "nbconvert_exporter": "python",
   "pygments_lexer": "ipython3",
   "version": "3.11.3"
  }
 },
 "nbformat": 4,
 "nbformat_minor": 2
}
